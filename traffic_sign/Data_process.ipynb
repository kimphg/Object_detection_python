{
 "cells": [
  {
   "cell_type": "code",
   "execution_count": 3,
   "metadata": {
    "ExecuteTime": {
     "end_time": "2019-03-24T09:33:06.458158Z",
     "start_time": "2019-03-24T09:33:06.186042Z"
    }
   },
   "outputs": [],
   "source": [
    "import numpy as np\n",
    "import cv2\n",
    "from glob import glob as gl\n",
    "X = []\n",
    "Y = []\n",
    "def Collect(folder, label, confident):\n",
    "    files = gl(folder+\"/*.jpg\")\n",
    "    for file in files:\n",
    "        img = cv2.imread(file, 1)\n",
    "        X.append(img)\n",
    "        Y.append([label, confident])\n",
    "Collect(\"Images/Left\", 0, 1)\n",
    "Collect(\"Images/Right\", 1, 1)\n",
    "# Collect(\"Images/Other\", 0.5, 0)\n",
    "X = np.array(X)\n",
    "Y = np.array(Y)\n",
    "np.save(\"x.npy\",X)\n",
    "np.save(\"y.npy\",Y)"
   ]
  },
  {
   "cell_type": "code",
   "execution_count": null,
   "metadata": {},
   "outputs": [],
   "source": []
  }
 ],
 "metadata": {
  "kernelspec": {
   "display_name": "Python 3",
   "language": "python",
   "name": "python3"
  },
  "language_info": {
   "codemirror_mode": {
    "name": "ipython",
    "version": 3
   },
   "file_extension": ".py",
   "mimetype": "text/x-python",
   "name": "python",
   "nbconvert_exporter": "python",
   "pygments_lexer": "ipython3",
   "version": "3.7.0"
  },
  "toc": {
   "base_numbering": 1,
   "nav_menu": {},
   "number_sections": true,
   "sideBar": true,
   "skip_h1_title": false,
   "title_cell": "Table of Contents",
   "title_sidebar": "Contents",
   "toc_cell": false,
   "toc_position": {},
   "toc_section_display": true,
   "toc_window_display": false
  }
 },
 "nbformat": 4,
 "nbformat_minor": 2
}
