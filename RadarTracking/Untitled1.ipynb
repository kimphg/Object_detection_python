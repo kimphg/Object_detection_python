{
 "cells": [
  {
   "cell_type": "code",
   "execution_count": 4,
   "metadata": {},
   "outputs": [
    {
     "data": {
      "text/plain": [
       "(31, 18)"
      ]
     },
     "execution_count": 4,
     "metadata": {},
     "output_type": "execute_result"
    }
   ],
   "source": [
    "import pandas as pd\n",
    "import numpy as np\n",
    "df = pd.read_excel(\"dulieu3r3m.xls\")\n",
    "data = df.to_numpy()\n",
    "data.shape"
   ]
  },
  {
   "cell_type": "code",
   "execution_count": 5,
   "metadata": {},
   "outputs": [],
   "source": [
    "num_classes = 3\n",
    "centroids = {\n",
    "    i+1: [np.random.randint(0, 200), np.random.randint(0, 200)]\n",
    "    for i in range(num_classes)\n",
    "}"
   ]
  },
  {
   "cell_type": "code",
   "execution_count": 15,
   "metadata": {},
   "outputs": [
    {
     "data": {
      "image/png": "[encoded data removed]",
      "text/plain": [
       "<Figure size 432x288 with 1 Axes>"
      ]
     },
     "metadata": {
      "needs_background": "light"
     },
     "output_type": "display_data"
    },
    {
     "name": "stdout",
     "output_type": "stream",
     "text": [
      "Ground truth data clusters\n"
     ]
    }
   ],
   "source": [
    "import matplotlib.pyplot as plt\n",
    "from numpy import unique\n",
    "from numpy import where\n",
    "sample = data[1].reshape((9,2))\n",
    "yreal =([0,1,2,0,1,2,0,1,2])\n",
    "# fig = plt.figure(figsize=(5, 5))\n",
    "# plt.scatter(sample[:, 0], sample[:, 1])\n",
    "# plt.show()\n",
    "# retrieve unique clusters\n",
    "clustersTruth = unique(yreal)\n",
    "# create scatter plot for samples from each cluster\n",
    "for cluster in clustersTruth:\n",
    "    # get row indexes for samples with this cluster\n",
    "    row_ix = where(yreal == cluster)\n",
    "    # create scatter of these samples\n",
    "    plt.scatter(sample[row_ix, 0], sample[row_ix, 1])\n",
    "# show the plot\n",
    "plt.show()\n",
    "print(\"Ground truth data clusters\")"
   ]
  },
  {
   "cell_type": "code",
   "execution_count": null,
   "metadata": {},
   "outputs": [],
   "source": [
    "from sklearn.cluster import KMeans\n",
    "model = KMeans( n_clusters=3)\n",
    "# fit model and predict clusters\n",
    "yhat = model.fit_predict(sample)\n",
    "yreal =([0,1,2,0,1,2,0,1,2])\n",
    "# retrieve unique clusters\n",
    "clustersPredict = unique(yhat)\n",
    "# create scatter plot for samples from each cluster\n",
    "for cluster in clustersPredict:\n",
    "    # get row indexes for samples with this cluster\n",
    "    row_ix = where(yhat == cluster)\n",
    "    # create scatter of these samples\n",
    "    pyplot.scatter(sample[row_ix, 0], sample[row_ix, 1])\n",
    "# show the plot\n",
    "pyplot.show()\n",
    "\n",
    "# probability = "
   ]
  }
 ],
 "metadata": {
  "kernelspec": {
   "display_name": "Python 3",
   "language": "python",
   "name": "python3"
  },
  "language_info": {
   "codemirror_mode": {
    "name": "ipython",
    "version": 3
   },
   "file_extension": ".py",
   "mimetype": "text/x-python",
   "name": "python",
   "nbconvert_exporter": "python",
   "pygments_lexer": "ipython3",
   "version": "3.7.0"
  }
 },
 "nbformat": 4,
 "nbformat_minor": 4
}
