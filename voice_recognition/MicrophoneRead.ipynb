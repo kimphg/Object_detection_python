{
 "cells": [
  {
   "cell_type": "code",
   "execution_count": 2,
   "metadata": {},
   "outputs": [],
   "source": [
    "import os\n",
    "import librosa   #thư viện xủ lý tín hiệu âm thanh\n",
    "import IPython.display as ipd\n",
    "import matplotlib.pyplot as plt\n",
    "import numpy as np\n",
    "from scipy.io import wavfile #để đọc file wav \n",
    "import warnings\n",
    "import tensorflow as tf"
   ]
  },
  {
   "cell_type": "code",
   "execution_count": 3,
   "metadata": {},
   "outputs": [
    {
     "name": "stdout",
     "output_type": "stream",
     "text": [
      "WARNING:tensorflow:From c:\\python 3.7\\lib\\site-packages\\tensorflow\\python\\ops\\resource_variable_ops.py:435: colocate_with (from tensorflow.python.framework.ops) is deprecated and will be removed in a future version.\n",
      "Instructions for updating:\n",
      "Colocations handled automatically by placer.\n"
     ]
    },
    {
     "name": "stderr",
     "output_type": "stream",
     "text": [
      "Using TensorFlow backend.\n"
     ]
    },
    {
     "name": "stdout",
     "output_type": "stream",
     "text": [
      "Model: \"sequential_1\"\n",
      "_________________________________________________________________\n",
      "Layer (type)                 Output Shape              Param #   \n",
      "=================================================================\n",
      "conv2d_1 (Conv2D)            (None, 20, 8, 16)         160       \n",
      "_________________________________________________________________\n",
      "leaky_re_lu_1 (LeakyReLU)    (None, 20, 8, 16)         0         \n",
      "_________________________________________________________________\n",
      "max_pooling2d_1 (MaxPooling2 (None, 10, 4, 16)         0         \n",
      "_________________________________________________________________\n",
      "conv2d_2 (Conv2D)            (None, 10, 4, 32)         4640      \n",
      "_________________________________________________________________\n",
      "leaky_re_lu_2 (LeakyReLU)    (None, 10, 4, 32)         0         \n",
      "_________________________________________________________________\n",
      "max_pooling2d_2 (MaxPooling2 (None, 5, 2, 32)          0         \n",
      "_________________________________________________________________\n",
      "conv2d_3 (Conv2D)            (None, 5, 2, 64)          18496     \n",
      "_________________________________________________________________\n",
      "leaky_re_lu_3 (LeakyReLU)    (None, 5, 2, 64)          0         \n",
      "_________________________________________________________________\n",
      "max_pooling2d_3 (MaxPooling2 (None, 2, 1, 64)          0         \n",
      "_________________________________________________________________\n",
      "flatten_1 (Flatten)          (None, 128)               0         \n",
      "_________________________________________________________________\n",
      "dropout_1 (Dropout)          (None, 128)               0         \n",
      "_________________________________________________________________\n",
      "dense_1 (Dense)              (None, 11)                1419      \n",
      "_________________________________________________________________\n",
      "activation_1 (Activation)    (None, 11)                0         \n",
      "=================================================================\n",
      "Total params: 24,715\n",
      "Trainable params: 24,715\n",
      "Non-trainable params: 0\n",
      "_________________________________________________________________\n"
     ]
    }
   ],
   "source": [
    "# MLP for Pima Indians Dataset Serialize to JSON and HDF5\n",
    "from keras.models import Sequential\n",
    "from keras.layers import Dense\n",
    "from keras.models import model_from_json\n",
    "# load json and create model\n",
    "json_file = open('model.json', 'r')\n",
    "loaded_model_json = json_file.read()\n",
    "model = model_from_json(loaded_model_json)\n",
    "# load weights into new model\n",
    "model.load_weights(\"model.h5\")\n",
    "model.summary()"
   ]
  },
  {
   "cell_type": "code",
   "execution_count": 14,
   "metadata": {},
   "outputs": [
    {
     "name": "stdout",
     "output_type": "stream",
     "text": [
      "* recording\n",
      "ID: 0  prediction: 1  time: 2.00325\n",
      "ID: 1  prediction: 9  time: 3.69425\n",
      "ID: 2  prediction: 6  time: 5.13325\n",
      "ID: 3  prediction: 9  time: 7.0001875\n",
      "ID: 4  prediction: 1  time: 8.0000625\n",
      "ID: 5  prediction: 6  time: 9.0815\n",
      "ID: 6  prediction: 6  time: 10.6623125\n",
      "ID: 7  prediction: 6  time: 11.579875\n",
      "ID: 8  prediction: 6  time: 12.690875\n",
      "ID: 9  prediction: 3  time: 13.681375\n",
      "* done recording\n"
     ]
    }
   ],
   "source": [
    "import pyaudio\n",
    "import wave\n",
    "import struct\n",
    "CHUNK = 16000 # read each 1000 miliseconds\n",
    "FORMAT = pyaudio.paFloat32\n",
    "CHANNELS = 1\n",
    "RATE = 16000\n",
    "RECORD_SECONDS = 20\n",
    "WORD = 8000\n",
    "WORD_HALF = int(WORD/2)\n",
    "WORD_QUAD = int(WORD/2)\n",
    "# circular_buf_size = 50\n",
    "p = pyaudio.PyAudio()\n",
    "\n",
    "stream = p.open(format=FORMAT,\n",
    "                channels=CHANNELS,\n",
    "                rate=RATE,\n",
    "                input=True,\n",
    "                frames_per_buffer=CHUNK)\n",
    "frames = []\n",
    "features = []\n",
    "waves = []\n",
    "words = []\n",
    "circular_index = 0\n",
    "print(\"* recording\")\n",
    "inputDataNew = np.ndarray(shape=(CHUNK), dtype=float)\n",
    "inputDataOld = np.ndarray(shape=(WORD_QUAD), dtype=float)\n",
    "last_word_time = 0\n",
    "for i in range(0, int(RATE / CHUNK * RECORD_SECONDS)):\n",
    "    data = stream.read(CHUNK) \n",
    "    #convert to float array\n",
    "    for j in range(0, int(len(data)/4)):\n",
    "        value = struct.unpack('f', data[j*4:j*4+4])\n",
    "        inputDataNew[j] = value[0]\n",
    "    #megre end of old and new\n",
    "    inputData = np.concatenate((inputDataOld,inputDataNew))\n",
    "    inputDataOld = inputDataNew[CHUNK-WORD_QUAD:].copy()\n",
    "    if i<1:\n",
    "        continue\n",
    "    else:\n",
    "        mean = np.mean(inputData)\n",
    "        energy = abs(inputData)\n",
    "        value = 0\n",
    "        max_val = 0\n",
    "        max_idn = 0\n",
    "        for idn in range(0,len(energy)):\n",
    "            value += (energy[idn]-value)/300\n",
    "            if (idn>WORD_HALF) & (idn<(len(inputData)-WORD_HALF )):\n",
    "                if max_val<value:\n",
    "                    max_val = value\n",
    "                    max_idn = idn\n",
    "        if max_val>(mean*3):\n",
    "            global_time = i*CHUNK+max_idn-WORD_QUAD\n",
    "            if (global_time-last_word_time)< WORD:\n",
    "                continue\n",
    "            last_word_time = global_time\n",
    "            data = inputData[max_idn-WORD_HALF:max_idn+WORD_HALF]\n",
    "            feature_vector = librosa.feature.melspectrogram(y=data, sr=16000)[:40]\n",
    "            modelInput = np.array(feature_vector).reshape(1,feature_vector.shape[0],feature_vector.shape[1],1)\n",
    "            output = model.predict(modelInput)\n",
    "            indexMax = np.argmax(output[0], axis=0) \n",
    "            if (indexMax!=10) :\n",
    "#             os.system( 'cls' )\n",
    "                print (\"ID:\",len(waves),\" prediction:\",indexMax,\" time:\",global_time/RATE)\n",
    "                waves.append(inputData)\n",
    "                words.append(data)\n",
    "                features.append(feature_vector)\n",
    "#             plt.figure(figsize=(10, 4))\n",
    "#             librosa.display.specshow(chroma, y_axis='chroma', x_axis='time')\n",
    "#             plt.colorbar()\n",
    "#             plt.title('Chromagram')\n",
    "#             plt.tight_layout()\n",
    "#             plt.show()\n",
    "print(\"* done recording\")    \n",
    "\n",
    "    "
   ]
  },
  {
   "cell_type": "code",
   "execution_count": 12,
   "metadata": {},
   "outputs": [
    {
     "name": "stdout",
     "output_type": "stream",
     "text": [
      "1\n",
      "[[3.9031318e-01 6.0968643e-01 1.3507352e-08 7.9962946e-13 6.3308975e-10\n",
      "  7.9423412e-11 1.1263025e-22 7.0499669e-16 1.4850192e-33 3.5079316e-07\n",
      "  1.7982466e-16]]\n"
     ]
    },
    {
     "data": {
      "text/html": [
       "\n",
       "                <audio  controls=\"controls\" >\n",
       "                    <source src=\"data:audio/wav;base64,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\" type=\"audio/wav\" />\n",
       "                    Your browser does not support the audio element.\n",
       "                </audio>\n",
       "              "
      ],
      "text/plain": [
       "<IPython.lib.display.Audio object>"
      ]
     },
     "execution_count": 12,
     "metadata": {},
     "output_type": "execute_result"
    }
   ],
   "source": [
    "testId =0\n",
    "modelInput = np.array(features[testId]).reshape(1,feature_vector.shape[0],feature_vector.shape[1],1)\n",
    "output = model.predict(modelInput)\n",
    "indexMax = np.argmax(output[0], axis=0) \n",
    "print(indexMax)\n",
    "print(output)\n",
    "ipd.Audio(words[testId], rate=16000)"
   ]
  },
  {
   "cell_type": "code",
   "execution_count": 9,
   "metadata": {},
   "outputs": [
    {
     "data": {
      "text/plain": [
       "20000"
      ]
     },
     "execution_count": 9,
     "metadata": {},
     "output_type": "execute_result"
    }
   ],
   "source": [
    "len(waves[testId])"
   ]
  },
  {
   "cell_type": "code",
   "execution_count": 36,
   "metadata": {},
   "outputs": [
    {
     "name": "stdout",
     "output_type": "stream",
     "text": [
      "D:/DATA/voice/train/audio/1/retrain5502.wav\n",
      "D:/DATA/voice/train/audio/1/retrain5275.wav\n",
      "D:/DATA/voice/train/audio/1/retrain8777.wav\n",
      "D:/DATA/voice/train/audio/1/retrain2276.wav\n",
      "D:/DATA/voice/train/audio/1/retrain6659.wav\n"
     ]
    }
   ],
   "source": [
    "import random\n",
    "for i in range(0,5):\n",
    "    filename = 'D:/DATA/voice/train/audio/1/retrain'+str(random.randrange(10000))+'.wav'\n",
    "    y= librosa.resample(waves[testId], 16000, 22050)\n",
    "    librosa.output.write_wav(filename, y, 22050)\n",
    "    print(filename)"
   ]
  },
  {
   "cell_type": "code",
   "execution_count": 16,
   "metadata": {},
   "outputs": [
    {
     "ename": "ValueError",
     "evalue": "cannot reshape array of size 5760 into shape (9,12,43,1)",
     "output_type": "error",
     "traceback": [
      "\u001b[1;31m---------------------------------------------------------------------------\u001b[0m",
      "\u001b[1;31mValueError\u001b[0m                                Traceback (most recent call last)",
      "\u001b[1;32m<ipython-input-16-ea1cb1764e69>\u001b[0m in \u001b[0;36m<module>\u001b[1;34m\u001b[0m\n\u001b[1;32m----> 1\u001b[1;33m \u001b[0mmodelInput\u001b[0m \u001b[1;33m=\u001b[0m \u001b[0mnp\u001b[0m\u001b[1;33m.\u001b[0m\u001b[0marray\u001b[0m\u001b[1;33m(\u001b[0m\u001b[0mfeatures\u001b[0m\u001b[1;33m)\u001b[0m\u001b[1;33m.\u001b[0m\u001b[0mreshape\u001b[0m\u001b[1;33m(\u001b[0m\u001b[0mlen\u001b[0m\u001b[1;33m(\u001b[0m\u001b[0mfeatures\u001b[0m\u001b[1;33m)\u001b[0m\u001b[1;33m,\u001b[0m\u001b[1;36m12\u001b[0m\u001b[1;33m,\u001b[0m\u001b[1;36m43\u001b[0m\u001b[1;33m,\u001b[0m\u001b[1;36m1\u001b[0m\u001b[1;33m)\u001b[0m\u001b[1;33m\u001b[0m\u001b[0m\n\u001b[0m\u001b[0;32m      2\u001b[0m \u001b[0moutput\u001b[0m \u001b[1;33m=\u001b[0m \u001b[0mmodel\u001b[0m\u001b[1;33m.\u001b[0m\u001b[0mpredict\u001b[0m\u001b[1;33m(\u001b[0m\u001b[0mmodelInput\u001b[0m\u001b[1;33m)\u001b[0m\u001b[1;33m\u001b[0m\u001b[0m\n\u001b[0;32m      3\u001b[0m \u001b[1;32mfor\u001b[0m \u001b[0mi\u001b[0m \u001b[1;32min\u001b[0m \u001b[0mrange\u001b[0m\u001b[1;33m(\u001b[0m\u001b[1;36m0\u001b[0m\u001b[1;33m,\u001b[0m \u001b[0mlen\u001b[0m\u001b[1;33m(\u001b[0m\u001b[0moutput\u001b[0m\u001b[1;33m)\u001b[0m\u001b[1;33m)\u001b[0m\u001b[1;33m:\u001b[0m\u001b[1;33m\u001b[0m\u001b[0m\n\u001b[0;32m      4\u001b[0m     \u001b[0mindexMax\u001b[0m \u001b[1;33m=\u001b[0m \u001b[0mnp\u001b[0m\u001b[1;33m.\u001b[0m\u001b[0margmax\u001b[0m\u001b[1;33m(\u001b[0m\u001b[0moutput\u001b[0m\u001b[1;33m[\u001b[0m\u001b[0mi\u001b[0m\u001b[1;33m]\u001b[0m\u001b[1;33m,\u001b[0m \u001b[0maxis\u001b[0m\u001b[1;33m=\u001b[0m\u001b[1;36m0\u001b[0m\u001b[1;33m)\u001b[0m\u001b[1;33m\u001b[0m\u001b[0m\n",
      "\u001b[1;31mValueError\u001b[0m: cannot reshape array of size 5760 into shape (9,12,43,1)"
     ]
    }
   ],
   "source": [
    "modelInput = np.array(features).reshape(len(features),12,43,1)\n",
    "output = model.predict(modelInput)\n",
    "for i in range(0, len(output)):\n",
    "    indexMax = np.argmax(output[i], axis=0) "
   ]
  },
  {
   "cell_type": "code",
   "execution_count": null,
   "metadata": {},
   "outputs": [],
   "source": [
    "import matplotlib.pyplot as plt\n",
    "import librosa.display\n",
    "\n",
    "plt.figure(figsize=(10, 4))\n",
    "librosa.display.specshow(features[5], y_axis='chroma', x_axis='time')\n",
    "plt.colorbar()\n",
    "plt.title('Chromagram')\n",
    "plt.tight_layout()\n",
    "plt.show()"
   ]
  },
  {
   "cell_type": "code",
   "execution_count": null,
   "metadata": {},
   "outputs": [],
   "source": [
    "len(inputData)"
   ]
  },
  {
   "cell_type": "code",
   "execution_count": null,
   "metadata": {},
   "outputs": [],
   "source": [
    "(chroma.shape)"
   ]
  },
  {
   "cell_type": "code",
   "execution_count": null,
   "metadata": {},
   "outputs": [],
   "source": [
    "samples"
   ]
  },
  {
   "cell_type": "code",
   "execution_count": null,
   "metadata": {},
   "outputs": [],
   "source": []
  }
 ],
 "metadata": {
  "kernelspec": {
   "display_name": "Python 3",
   "language": "python",
   "name": "python3"
  },
  "language_info": {
   "codemirror_mode": {
    "name": "ipython",
    "version": 3
   },
   "file_extension": ".py",
   "mimetype": "text/x-python",
   "name": "python",
   "nbconvert_exporter": "python",
   "pygments_lexer": "ipython3",
   "version": "3.7.0"
  }
 },
 "nbformat": 4,
 "nbformat_minor": 4
}
