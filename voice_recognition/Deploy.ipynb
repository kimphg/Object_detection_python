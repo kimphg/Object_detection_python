{
 "cells": [
  {
   "cell_type": "code",
   "execution_count": 4,
   "metadata": {},
   "outputs": [
    {
     "name": "stdout",
     "output_type": "stream",
     "text": [
      "* init\n",
      "Model: \"sequential_4\"\n",
      "_________________________________________________________________\n",
      "Layer (type)                 Output Shape              Param #   \n",
      "=================================================================\n",
      "conv2d_9 (Conv2D)            (None, 26, 6, 16)         160       \n",
      "_________________________________________________________________\n",
      "leaky_re_lu_9 (LeakyReLU)    (None, 26, 6, 16)         0         \n",
      "_________________________________________________________________\n",
      "max_pooling2d_9 (MaxPooling2 (None, 13, 3, 16)         0         \n",
      "_________________________________________________________________\n",
      "conv2d_10 (Conv2D)           (None, 13, 3, 32)         4640      \n",
      "_________________________________________________________________\n",
      "leaky_re_lu_10 (LeakyReLU)   (None, 13, 3, 32)         0         \n",
      "_________________________________________________________________\n",
      "max_pooling2d_10 (MaxPooling (None, 6, 1, 32)          0         \n",
      "_________________________________________________________________\n",
      "flatten_2 (Flatten)          (None, 192)               0         \n",
      "_________________________________________________________________\n",
      "dropout_2 (Dropout)          (None, 192)               0         \n",
      "_________________________________________________________________\n",
      "dense_2 (Dense)              (None, 11)                2123      \n",
      "_________________________________________________________________\n",
      "activation_2 (Activation)    (None, 11)                0         \n",
      "=================================================================\n",
      "Total params: 6,923\n",
      "Trainable params: 6,923\n",
      "Non-trainable params: 0\n",
      "_________________________________________________________________\n",
      "* recording\n",
      "ID: 0  prediction: 1 confident: 1.0  time: 3.7096875\n",
      "ID: 1  prediction: 5 confident: 0.99905294  time: 5.3038125\n",
      "ID: 2  prediction: 0 confident: 0.9051124  time: 6.038625\n",
      "ID: 3  prediction: 3 confident: 0.99999917  time: 9.7933125\n",
      "ID: 4  prediction: 8 confident: 0.9564775  time: 14.204875\n",
      "ID: 5  prediction: 7 confident: 0.9981134  time: 15.427375\n",
      "ID: 6  prediction: 5 confident: 0.97929424  time: 18.0000625\n",
      "ID: 7  prediction: 3 confident: 0.9979055  time: 20.635\n"
     ]
    },
    {
     "ename": "KeyboardInterrupt",
     "evalue": "",
     "output_type": "error",
     "traceback": [
      "\u001b[1;31m---------------------------------------------------------------------------\u001b[0m",
      "\u001b[1;31mKeyboardInterrupt\u001b[0m                         Traceback (most recent call last)",
      "\u001b[1;32m<ipython-input-4-74d8a79bd8d8>\u001b[0m in \u001b[0;36m<module>\u001b[1;34m\u001b[0m\n\u001b[0;32m     51\u001b[0m \u001b[0mi\u001b[0m\u001b[1;33m=\u001b[0m\u001b[1;36m0\u001b[0m\u001b[1;33m\u001b[0m\u001b[0m\n\u001b[0;32m     52\u001b[0m \u001b[1;32mwhile\u001b[0m \u001b[1;36m1\u001b[0m\u001b[1;33m:\u001b[0m\u001b[1;33m\u001b[0m\u001b[0m\n\u001b[1;32m---> 53\u001b[1;33m     \u001b[0mdata\u001b[0m \u001b[1;33m=\u001b[0m \u001b[0mstream\u001b[0m\u001b[1;33m.\u001b[0m\u001b[0mread\u001b[0m\u001b[1;33m(\u001b[0m\u001b[0mCHUNK\u001b[0m\u001b[1;33m)\u001b[0m\u001b[1;33m\u001b[0m\u001b[0m\n\u001b[0m\u001b[0;32m     54\u001b[0m     \u001b[1;31m#convert to float array\u001b[0m\u001b[1;33m\u001b[0m\u001b[1;33m\u001b[0m\u001b[0m\n\u001b[0;32m     55\u001b[0m     \u001b[1;32mfor\u001b[0m \u001b[0mj\u001b[0m \u001b[1;32min\u001b[0m \u001b[0mrange\u001b[0m\u001b[1;33m(\u001b[0m\u001b[1;36m0\u001b[0m\u001b[1;33m,\u001b[0m \u001b[0mint\u001b[0m\u001b[1;33m(\u001b[0m\u001b[0mlen\u001b[0m\u001b[1;33m(\u001b[0m\u001b[0mdata\u001b[0m\u001b[1;33m)\u001b[0m\u001b[1;33m/\u001b[0m\u001b[1;36m4\u001b[0m\u001b[1;33m)\u001b[0m\u001b[1;33m)\u001b[0m\u001b[1;33m:\u001b[0m\u001b[1;33m\u001b[0m\u001b[0m\n",
      "\u001b[1;32mc:\\python 3.7\\lib\\site-packages\\pyaudio.py\u001b[0m in \u001b[0;36mread\u001b[1;34m(self, num_frames, exception_on_overflow)\u001b[0m\n\u001b[0;32m    606\u001b[0m                           paCanNotReadFromAnOutputOnlyStream)\n\u001b[0;32m    607\u001b[0m \u001b[1;33m\u001b[0m\u001b[0m\n\u001b[1;32m--> 608\u001b[1;33m         \u001b[1;32mreturn\u001b[0m \u001b[0mpa\u001b[0m\u001b[1;33m.\u001b[0m\u001b[0mread_stream\u001b[0m\u001b[1;33m(\u001b[0m\u001b[0mself\u001b[0m\u001b[1;33m.\u001b[0m\u001b[0m_stream\u001b[0m\u001b[1;33m,\u001b[0m \u001b[0mnum_frames\u001b[0m\u001b[1;33m,\u001b[0m \u001b[0mexception_on_overflow\u001b[0m\u001b[1;33m)\u001b[0m\u001b[1;33m\u001b[0m\u001b[0m\n\u001b[0m\u001b[0;32m    609\u001b[0m \u001b[1;33m\u001b[0m\u001b[0m\n\u001b[0;32m    610\u001b[0m     \u001b[1;32mdef\u001b[0m \u001b[0mget_read_available\u001b[0m\u001b[1;33m(\u001b[0m\u001b[0mself\u001b[0m\u001b[1;33m)\u001b[0m\u001b[1;33m:\u001b[0m\u001b[1;33m\u001b[0m\u001b[0m\n",
      "\u001b[1;31mKeyboardInterrupt\u001b[0m: "
     ]
    }
   ],
   "source": [
    "print(\"* init\")\n",
    "import os\n",
    "import librosa   #thư viện xủ lý tín hiệu âm thanh\n",
    "import IPython.display as ipd\n",
    "import matplotlib.pyplot as plt\n",
    "import numpy as np\n",
    "# from scipy.io import wavfile #để đọc file wav \n",
    "# import warnings\n",
    "import tensorflow as tf\n",
    "# MLP for Pima Indians Dataset Serialize to JSON and HDF5\n",
    "from keras.models import Sequential\n",
    "from keras.layers import Dense\n",
    "from keras.models import model_from_json\n",
    "import socket\n",
    "# load json and create model\n",
    "json_file = open('model.json', 'r')\n",
    "loaded_model_json = json_file.read()\n",
    "model = model_from_json(loaded_model_json)\n",
    "# load weights into new model\n",
    "model.load_weights(\"model.h5\")\n",
    "model.summary()\n",
    "import pyaudio\n",
    "import wave\n",
    "import struct\n",
    "CHUNK = 16000 # read each 1000 miliseconds\n",
    "FORMAT = pyaudio.paFloat32\n",
    "CHANNELS = 1\n",
    "RATE = 16000\n",
    "RECORD_SECONDS = 20\n",
    "WORD = 6000\n",
    "WORD_HALF = int(WORD/2)\n",
    "WORD_QUAD = int(WORD/2)\n",
    "# circular_buf_size = 50\n",
    "p = pyaudio.PyAudio()\n",
    "\n",
    "stream = p.open(format=FORMAT,\n",
    "                channels=CHANNELS,\n",
    "                rate=RATE,\n",
    "                input=True,\n",
    "                frames_per_buffer=CHUNK)\n",
    "frames = []\n",
    "features = []\n",
    "waves = []\n",
    "words = []\n",
    "circular_index = 0\n",
    "os.system( 'cls' )\n",
    "print(\"* recording\")\n",
    "inputDataNew = np.ndarray(shape=(CHUNK), dtype=float)\n",
    "inputDataOld = np.ndarray(shape=(WORD_QUAD), dtype=float)\n",
    "last_word_time = 0\n",
    "i=0\n",
    "while 1:\n",
    "    data = stream.read(CHUNK) \n",
    "    #convert to float array\n",
    "    for j in range(0, int(len(data)/4)):\n",
    "        value = struct.unpack('f', data[j*4:j*4+4])\n",
    "        inputDataNew[j] = value[0]\n",
    "    #megre end of old and new\n",
    "    inputData = np.concatenate((inputDataOld,inputDataNew))\n",
    "    inputDataOld = inputDataNew[CHUNK-WORD_QUAD:].copy()\n",
    "    i=i+1\n",
    "    if i<2:\n",
    "        continue\n",
    "    else:\n",
    "        mean = np.mean(inputData)\n",
    "        energy = abs(inputData)\n",
    "        value = 0\n",
    "        max_val = 0\n",
    "        max_idn = 0\n",
    "        for idn in range(0,len(energy)):\n",
    "            value += (energy[idn]-value)/300\n",
    "            if (idn>WORD_HALF) & (idn<(len(inputData)-WORD_HALF )):\n",
    "                if max_val<value:\n",
    "                    max_val = value\n",
    "                    max_idn = idn\n",
    "        if max_val>(mean*6):\n",
    "            global_time = i*CHUNK+max_idn-WORD_QUAD\n",
    "            if (global_time-last_word_time)< WORD:\n",
    "                continue\n",
    "            last_word_time = global_time\n",
    "            data = inputData[max_idn-WORD_HALF:max_idn+WORD_HALF]\n",
    "            feature_vector_1 = librosa.feature.chroma_stft(y=data, sr=16000)\n",
    "            feature_vector_2 = librosa.feature.melspectrogram(y=data, sr=16000)[:40]\n",
    "            feature_vector = np.concatenate((feature_vector_1*10,feature_vector_2))\n",
    "            modelInput = np.array(feature_vector).reshape(1,feature_vector.shape[0],feature_vector.shape[1],1)\n",
    "            output = model.predict(modelInput)\n",
    "            indexMax = np.argmax(output[0], axis=0) \n",
    "            confident = output[0][indexMax]\n",
    "            if (indexMax!=10) & (confident>0.8):\n",
    "#             os.system( 'cls' )\n",
    "                print (\"ID:\",len(waves),\" prediction:\",indexMax,\"confident:\",output[0][indexMax],\" time:\",global_time/RATE)\n",
    "                waves.append(inputData)\n",
    "                words.append(data)\n",
    "                features.append(feature_vector)\n",
    "                byte_message = (indexMax)\n",
    "                opened_socket = socket.socket(socket.AF_INET, socket.SOCK_DGRAM)\n",
    "                opened_socket.sendto(byte_message, (\"127.0.0.1\", 5005))\n",
    "#             plt.figure(figsize=(10, 4))\n",
    "#             librosa.display.specshow(chroma, y_axis='chroma', x_axis='time')\n",
    "#             plt.colorbar()\n",
    "#             plt.title('Chromagram')\n",
    "#             plt.tight_layout()\n",
    "#             plt.show()\n",
    "print(\"* done recording\")    "
   ]
  },
  {
   "cell_type": "code",
   "execution_count": 7,
   "metadata": {},
   "outputs": [
    {
     "data": {
      "text/html": [
       "\n",
       "                <audio  controls=\"controls\" >\n",
       "                    <source src=\"data:audio/wav;base64,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\" type=\"audio/wav\" />\n",
       "                    Your browser does not support the audio element.\n",
       "                </audio>\n",
       "              "
      ],
      "text/plain": [
       "<IPython.lib.display.Audio object>"
      ]
     },
     "execution_count": 7,
     "metadata": {},
     "output_type": "execute_result"
    }
   ],
   "source": [
    "# import librosa.display\n",
    "# plt.figure(figsize=(10, 4))\n",
    "# librosa.display.specshow(words[0], y_axis='chroma', x_axis='time')\n",
    "# plt.colorbar()\n",
    "# plt.title('Chromagram')\n",
    "# plt.tight_layout()\n",
    "# plt.show()\n",
    "ipd.Audio(words[5], rate=16000)"
   ]
  },
  {
   "cell_type": "code",
   "execution_count": 8,
   "metadata": {},
   "outputs": [
    {
     "data": {
      "text/plain": [
       "(6000,)"
      ]
     },
     "execution_count": 8,
     "metadata": {},
     "output_type": "execute_result"
    }
   ],
   "source": [
    "words[0].shape"
   ]
  },
  {
   "cell_type": "code",
   "execution_count": null,
   "metadata": {},
   "outputs": [],
   "source": []
  }
 ],
 "metadata": {
  "kernelspec": {
   "display_name": "Python 3",
   "language": "python",
   "name": "python3"
  },
  "language_info": {
   "codemirror_mode": {
    "name": "ipython",
    "version": 3
   },
   "file_extension": ".py",
   "mimetype": "text/x-python",
   "name": "python",
   "nbconvert_exporter": "python",
   "pygments_lexer": "ipython3",
   "version": "3.7.0"
  }
 },
 "nbformat": 4,
 "nbformat_minor": 4
}
