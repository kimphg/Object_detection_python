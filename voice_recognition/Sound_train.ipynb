{
 "cells": [
  {
   "cell_type": "code",
   "execution_count": 2,
   "metadata": {},
   "outputs": [
    {
     "name": "stderr",
     "output_type": "stream",
     "text": [
      "c:\\python 3.7\\lib\\site-packages\\librosa\\util\\decorators.py:9: NumbaDeprecationWarning: \u001b[1mAn import was requested from a module that has moved location.\n",
      "Import requested from: 'numba.decorators', please update to use 'numba.core.decorators' or pin to Numba version 0.48.0. This alias will not be present in Numba version 0.50.0.\u001b[0m\n",
      "  from numba.decorators import jit as optional_jit\n",
      "c:\\python 3.7\\lib\\site-packages\\librosa\\util\\decorators.py:9: NumbaDeprecationWarning: \u001b[1mAn import was requested from a module that has moved location.\n",
      "Import of 'jit' requested from: 'numba.decorators', please update to use 'numba.core.decorators' or pin to Numba version 0.48.0. This alias will not be present in Numba version 0.50.0.\u001b[0m\n",
      "  from numba.decorators import jit as optional_jit\n",
      "c:\\python 3.7\\lib\\site-packages\\tensorflow\\python\\framework\\dtypes.py:526: FutureWarning: Passing (type, 1) or '1type' as a synonym of type is deprecated; in a future version of numpy, it will be understood as (type, (1,)) / '(1,)type'.\n",
      "  _np_qint8 = np.dtype([(\"qint8\", np.int8, 1)])\n",
      "c:\\python 3.7\\lib\\site-packages\\tensorflow\\python\\framework\\dtypes.py:527: FutureWarning: Passing (type, 1) or '1type' as a synonym of type is deprecated; in a future version of numpy, it will be understood as (type, (1,)) / '(1,)type'.\n",
      "  _np_quint8 = np.dtype([(\"quint8\", np.uint8, 1)])\n",
      "c:\\python 3.7\\lib\\site-packages\\tensorflow\\python\\framework\\dtypes.py:528: FutureWarning: Passing (type, 1) or '1type' as a synonym of type is deprecated; in a future version of numpy, it will be understood as (type, (1,)) / '(1,)type'.\n",
      "  _np_qint16 = np.dtype([(\"qint16\", np.int16, 1)])\n",
      "c:\\python 3.7\\lib\\site-packages\\tensorflow\\python\\framework\\dtypes.py:529: FutureWarning: Passing (type, 1) or '1type' as a synonym of type is deprecated; in a future version of numpy, it will be understood as (type, (1,)) / '(1,)type'.\n",
      "  _np_quint16 = np.dtype([(\"quint16\", np.uint16, 1)])\n",
      "c:\\python 3.7\\lib\\site-packages\\tensorflow\\python\\framework\\dtypes.py:530: FutureWarning: Passing (type, 1) or '1type' as a synonym of type is deprecated; in a future version of numpy, it will be understood as (type, (1,)) / '(1,)type'.\n",
      "  _np_qint32 = np.dtype([(\"qint32\", np.int32, 1)])\n",
      "c:\\python 3.7\\lib\\site-packages\\tensorflow\\python\\framework\\dtypes.py:535: FutureWarning: Passing (type, 1) or '1type' as a synonym of type is deprecated; in a future version of numpy, it will be understood as (type, (1,)) / '(1,)type'.\n",
      "  np_resource = np.dtype([(\"resource\", np.ubyte, 1)])\n"
     ]
    }
   ],
   "source": [
    "import os\n",
    "import librosa   #thư viện xủ lý tín hiệu âm thanh\n",
    "import IPython.display as ipd\n",
    "import matplotlib.pyplot as plt\n",
    "import numpy as np\n",
    "from scipy.io import wavfile #để đọc file wav \n",
    "import warnings\n",
    "import tensorflow as tf\n",
    "warnings.filterwarnings(\"ignore\")"
   ]
  },
  {
   "cell_type": "code",
   "execution_count": 7,
   "metadata": {},
   "outputs": [
    {
     "name": "stdout",
     "output_type": "stream",
     "text": [
      "Label: 0\n",
      "68   68\n",
      "1   1\n",
      "1   1\n",
      "1   1\n",
      "1   1\n",
      "1   1\n",
      "Label: 1\n",
      "66   66\n",
      "1   1\n",
      "1   1\n",
      "1   1\n",
      "1   1\n",
      "1   1\n",
      "1   1\n",
      "1   1\n",
      "1   1\n",
      "1   1\n",
      "1   1\n",
      "1   1\n",
      "1   1\n",
      "1   1\n",
      "1   1\n",
      "1   1\n",
      "1   1\n",
      "1   1\n",
      "1   1\n",
      "1   1\n",
      "1   1\n",
      "1   1\n",
      "1   1\n",
      "1   1\n",
      "1   1\n",
      "1   1\n",
      "Label: 2\n",
      "66   66\n",
      "1   1\n",
      "1   1\n",
      "1   1\n",
      "1   1\n",
      "1   1\n",
      "1   1\n",
      "1   1\n",
      "1   1\n",
      "1   1\n",
      "1   1\n",
      "1   1\n",
      "1   1\n",
      "1   1\n",
      "1   1\n",
      "1   1\n",
      "1   1\n",
      "1   1\n",
      "1   1\n",
      "1   1\n",
      "1   1\n",
      "1   1\n",
      "1   1\n",
      "1   1\n",
      "1   1\n",
      "1   1\n",
      "1   1\n",
      "Label: 3\n",
      "68   68\n",
      "1   1\n",
      "1   0\n",
      "1   0\n",
      "1   1\n",
      "1   0\n",
      "1   1\n",
      "1   0\n",
      "1   1\n",
      "1   0\n",
      "1   1\n",
      "1   0\n",
      "1   0\n",
      "1   1\n",
      "1   1\n",
      "1   1\n",
      "1   1\n",
      "1   1\n",
      "1   1\n",
      "1   1\n",
      "1   0\n",
      "1   0\n",
      "1   1\n",
      "1   0\n",
      "1   1\n",
      "1   1\n",
      "Label: 4\n",
      "67   67\n",
      "1   1\n",
      "1   1\n",
      "1   1\n",
      "1   1\n",
      "1   1\n",
      "1   1\n",
      "1   1\n",
      "1   1\n",
      "1   1\n",
      "1   1\n",
      "1   1\n",
      "1   1\n",
      "1   1\n",
      "1   1\n",
      "1   1\n",
      "1   1\n",
      "1   1\n",
      "1   1\n",
      "1   1\n",
      "1   1\n",
      "1   1\n",
      "1   1\n",
      "1   1\n",
      "1   1\n",
      "1   1\n",
      "Label: 5\n",
      "68   68\n",
      "1   1\n",
      "1   1\n",
      "1   1\n",
      "1   1\n",
      "1   1\n",
      "1   1\n",
      "1   1\n",
      "1   1\n",
      "1   1\n",
      "1   1\n",
      "1   1\n",
      "1   1\n",
      "1   1\n",
      "1   1\n",
      "1   1\n",
      "1   1\n",
      "1   1\n",
      "1   1\n",
      "Label: 6\n",
      "67   67\n",
      "Label: 7\n",
      "67   67\n",
      "1   1\n",
      "1   1\n",
      "1   1\n",
      "1   1\n",
      "1   1\n",
      "1   1\n",
      "1   1\n",
      "1   1\n",
      "1   1\n",
      "1   1\n",
      "1   1\n",
      "Label: 8\n",
      "67   67\n",
      "1   1\n",
      "1   1\n",
      "1   1\n",
      "1   1\n",
      "1   1\n",
      "1   1\n",
      "1   1\n",
      "1   1\n",
      "1   1\n",
      "1   1\n",
      "1   1\n",
      "1   1\n",
      "1   1\n",
      "1   1\n",
      "1   1\n",
      "Label: 9\n",
      "67   67\n",
      "1   1\n",
      "1   1\n",
      "1   1\n",
      "1   1\n",
      "1   1\n",
      "1   1\n",
      "1   1\n",
      "1   1\n",
      "1   1\n",
      "1   1\n",
      "1   1\n",
      "1   1\n",
      "1   1\n",
      "1   1\n",
      "1   1\n",
      "1   1\n",
      "1   1\n",
      "1   1\n",
      "1   1\n",
      "1   1\n",
      "1   1\n",
      "1   1\n",
      "1   1\n",
      "1   1\n",
      "1   1\n",
      "Label: noise\n",
      "68   68\n",
      "87   76\n",
      "88   88\n",
      "87   87\n"
     ]
    }
   ],
   "source": [
    "train_audio_path = 'D:/DATA/voice/train/audio/'\n",
    "labels=os.listdir(train_audio_path)\n",
    "WORD = 8000\n",
    "WORD_HALF = int(WORD/2)\n",
    "CHUNK = 11000 \n",
    "all_wave = []\n",
    "all_label = []\n",
    "all_feature = []\n",
    "for label in labels:\n",
    "    print(\"Label:\",label)\n",
    "    waves = [f for f in os.listdir(train_audio_path + '/'+ label) if f.endswith('.wav')]\n",
    "    for wav in waves:\n",
    "        \n",
    "        samples, sample_rate = librosa.load(train_audio_path + '/' + label + '/' + wav, sr = 16000)\n",
    "#         samples = librosa.resample(samples, sample_rate, 16000)\n",
    "        \n",
    "        leng = len(samples)\n",
    "        chunk_count = int(leng/CHUNK)\n",
    "        word_count = 0\n",
    "        for i in range(0,chunk_count):\n",
    "            data = samples[i*CHUNK:(i+2)*CHUNK]\n",
    "            mean = np.mean(data)\n",
    "            energy = abs(data)\n",
    "            value = 0\n",
    "            max_val = 0\n",
    "            max_idn = 0\n",
    "            for idn in range(0,len(energy)):\n",
    "                value += (energy[idn]-value)/1000\n",
    "                if (idn>WORD_HALF) & (idn<(len(data)-WORD_HALF )):\n",
    "                    if max_val<value:\n",
    "                        max_val = value\n",
    "                        max_idn = idn\n",
    "            if max_val>(mean*3):\n",
    "                word_count = word_count+1\n",
    "                data = data[max_idn-WORD_HALF:max_idn+WORD_HALF]\n",
    "                feature_vector = librosa.feature.melspectrogram(y=data, sr=16000)[:40]\n",
    "                all_wave.append(data)\n",
    "                all_feature.append(feature_vector)\n",
    "                all_label.append(label)\n",
    "        print(chunk_count,\" \",word_count)"
   ]
  },
  {
   "cell_type": "code",
   "execution_count": 3,
   "metadata": {},
   "outputs": [
    {
     "name": "stdout",
     "output_type": "stream",
     "text": [
      "4000\n",
      "1.0662174888130362\n"
     ]
    },
    {
     "data": {
      "image/png": "[encoded data removed]",
      "text/plain": [
       "<Figure size 432x288 with 1 Axes>"
      ]
     },
     "metadata": {
      "needs_background": "light"
     },
     "output_type": "display_data"
    }
   ],
   "source": [
    "#test code\n",
    "testId = 1000\n",
    "energy = abs(all_wave[testId])\n",
    "mean =np.mean(energy)\n",
    "value = 0\n",
    "max_val = 0\n",
    "max_idn = 0\n",
    "for idn in range(0,len(energy)):\n",
    "    value += (energy[idn]-value)/1000\n",
    "    if max_val<value:\n",
    "        max_val = value\n",
    "        max_idn = idn\n",
    "plt.plot(energy)\n",
    "print(max_idn)\n",
    "print(max_val/mean)\n",
    "# mean = np.mean(energy)*2\n",
    "# cfar = [1 if e > mean else 0 for e in energy]\n",
    "# plt.plot(cfar)"
   ]
  },
  {
   "cell_type": "code",
   "execution_count": null,
   "metadata": {},
   "outputs": [],
   "source": [
    "#test code\n",
    "len(all_wave[testId])"
   ]
  },
  {
   "cell_type": "code",
   "execution_count": 8,
   "metadata": {
    "scrolled": true
   },
   "outputs": [
    {
     "name": "stdout",
     "output_type": "stream",
     "text": [
      "5\n"
     ]
    },
    {
     "data": {
      "text/html": [
       "\n",
       "                <audio  controls=\"controls\" >\n",
       "                    <source src=\"data:audio/wav;base64,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\" type=\"audio/wav\" />\n",
       "                    Your browser does not support the audio element.\n",
       "                </audio>\n",
       "              "
      ],
      "text/plain": [
       "<IPython.lib.display.Audio object>"
      ]
     },
     "execution_count": 8,
     "metadata": {},
     "output_type": "execute_result"
    },
    {
     "data": {
      "image/png": "[encoded data removed]",
      "text/plain": [
       "<Figure size 432x288 with 2 Axes>"
      ]
     },
     "metadata": {
      "needs_background": "light"
     },
     "output_type": "display_data"
    }
   ],
   "source": [
    "import matplotlib.pyplot as plt\n",
    "import librosa.display\n",
    "\n",
    "testId = 459\n",
    "print(all_label[testId])\n",
    "feature_vector = all_feature[testId]\n",
    "\n",
    "# plt.figure(figsize=(20, 4))\n",
    "# librosa.display.specshow(chroma, y_axis='chroma', x_axis='time')\n",
    "# plt.colorbar()\n",
    "# plt.title('melspectrogram')\n",
    "# plt.tight_layout()\n",
    "# plt.show()\n",
    "librosa.display.specshow(feature_vector, x_axis='time') \n",
    "plt.colorbar() \n",
    "plt.title('MFCC') \n",
    "plt.tight_layout()\n",
    "ipd.Audio(all_wave[testId], rate=16000)"
   ]
  },
  {
   "cell_type": "code",
   "execution_count": 9,
   "metadata": {},
   "outputs": [
    {
     "name": "stdout",
     "output_type": "stream",
     "text": [
      "(1155, 40, 16)\n"
     ]
    },
    {
     "name": "stderr",
     "output_type": "stream",
     "text": [
      "Using TensorFlow backend.\n"
     ]
    }
   ],
   "source": [
    "#data preprocessing\n",
    "from sklearn.preprocessing import LabelEncoder\n",
    "\n",
    "all_feature = np.array(all_feature)\n",
    "print(all_feature.shape)\n",
    "feature_size = feature_vector.shape\n",
    "\n",
    "le = LabelEncoder()\n",
    "y=le.fit_transform(all_label)\n",
    "classes= list(le.classes_)\n",
    "from keras.utils import np_utils\n",
    "y=np_utils.to_categorical(y, num_classes=len(labels))\n",
    "all_feature = np.array(all_feature).reshape(-1,feature_size[0],feature_size[1],1)\n",
    "from sklearn.model_selection import train_test_split\n",
    "x_tr, x_val, y_tr, y_val = train_test_split(np.array(all_feature),np.array(y),stratify=y,test_size = 0.2,random_state=777,shuffle=True)"
   ]
  },
  {
   "cell_type": "code",
   "execution_count": null,
   "metadata": {},
   "outputs": [],
   "source": [
    "all_feature[1].shape"
   ]
  },
  {
   "cell_type": "code",
   "execution_count": null,
   "metadata": {},
   "outputs": [],
   "source": [
    "print(tf.__version__)"
   ]
  },
  {
   "cell_type": "code",
   "execution_count": 10,
   "metadata": {},
   "outputs": [
    {
     "data": {
      "text/plain": [
       "(924, 40, 16, 1)"
      ]
     },
     "execution_count": 10,
     "metadata": {},
     "output_type": "execute_result"
    }
   ],
   "source": [
    "x_tr.shape"
   ]
  },
  {
   "cell_type": "code",
   "execution_count": 11,
   "metadata": {},
   "outputs": [
    {
     "name": "stdout",
     "output_type": "stream",
     "text": [
      "WARNING:tensorflow:From c:\\python 3.7\\lib\\site-packages\\tensorflow\\python\\ops\\resource_variable_ops.py:435: colocate_with (from tensorflow.python.framework.ops) is deprecated and will be removed in a future version.\n",
      "Instructions for updating:\n",
      "Colocations handled automatically by placer.\n",
      "Model: \"sequential_1\"\n",
      "_________________________________________________________________\n",
      "Layer (type)                 Output Shape              Param #   \n",
      "=================================================================\n",
      "conv2d_1 (Conv2D)            (None, 20, 8, 16)         160       \n",
      "_________________________________________________________________\n",
      "leaky_re_lu_1 (LeakyReLU)    (None, 20, 8, 16)         0         \n",
      "_________________________________________________________________\n",
      "max_pooling2d_1 (MaxPooling2 (None, 10, 4, 16)         0         \n",
      "_________________________________________________________________\n",
      "conv2d_2 (Conv2D)            (None, 10, 4, 32)         4640      \n",
      "_________________________________________________________________\n",
      "leaky_re_lu_2 (LeakyReLU)    (None, 10, 4, 32)         0         \n",
      "_________________________________________________________________\n",
      "max_pooling2d_2 (MaxPooling2 (None, 5, 2, 32)          0         \n",
      "_________________________________________________________________\n",
      "conv2d_3 (Conv2D)            (None, 5, 2, 64)          18496     \n",
      "_________________________________________________________________\n",
      "leaky_re_lu_3 (LeakyReLU)    (None, 5, 2, 64)          0         \n",
      "_________________________________________________________________\n",
      "max_pooling2d_3 (MaxPooling2 (None, 2, 1, 64)          0         \n",
      "_________________________________________________________________\n",
      "flatten_1 (Flatten)          (None, 128)               0         \n",
      "_________________________________________________________________\n",
      "dropout_1 (Dropout)          (None, 128)               0         \n",
      "_________________________________________________________________\n",
      "dense_1 (Dense)              (None, 11)                1419      \n",
      "_________________________________________________________________\n",
      "activation_1 (Activation)    (None, 11)                0         \n",
      "=================================================================\n",
      "Total params: 24,715\n",
      "Trainable params: 24,715\n",
      "Non-trainable params: 0\n",
      "_________________________________________________________________\n"
     ]
    }
   ],
   "source": [
    "#thiết kế mô hình deep learning\n",
    "from keras.models import Model, Sequential\n",
    "from keras.layers import *\n",
    "from keras.activations import *\n",
    "from keras.optimizers import Adam,RMSprop,SGD\n",
    "model1 = Sequential()\n",
    "\n",
    "model1.add(Conv2D(16, kernel_size=(3, 3), strides= (2, 2), padding='same',data_format='channels_last',input_shape=(feature_size[0], feature_size[1],1)))\n",
    "model1.add(LeakyReLU(alpha=0.1))\n",
    "model1.add(MaxPooling2D(pool_size=(2, 2)))\n",
    "\n",
    "model1.add(Conv2D(32, kernel_size=(3, 3), strides= (1, 1), padding='same'))\n",
    "model1.add(LeakyReLU(alpha=0.1))\n",
    "model1.add(MaxPooling2D(pool_size=(2, 2)))\n",
    "\n",
    "model1.add(Conv2D(64, kernel_size=(3, 3), strides= (1, 1), padding='same'))\n",
    "model1.add(LeakyReLU(alpha=0.1))\n",
    "model1.add(MaxPooling2D(pool_size=(2, 2)))\n",
    "\n",
    "model1.add(Flatten())\n",
    "model1.add(Dropout(0.1))\n",
    "model1.add(Dense(11))\n",
    "model1.add(Activation('softmax'))\n",
    "optimizer = Adam(lr=0.005)\n",
    "opt = SGD(lr=0.005, momentum=0.9)\n",
    "model1.compile(loss='categorical_crossentropy',optimizer=opt,metrics=['accuracy'])\n",
    "model1.summary()"
   ]
  },
  {
   "cell_type": "code",
   "execution_count": 24,
   "metadata": {},
   "outputs": [
    {
     "name": "stdout",
     "output_type": "stream",
     "text": [
      "Epoch 1/10\n",
      "924/924 [==============================] - 0s 49us/step - loss: 0.0629 - accuracy: 0.9848\n",
      "Epoch 2/10\n",
      "924/924 [==============================] - 0s 52us/step - loss: 0.0606 - accuracy: 0.9903\n",
      "Epoch 3/10\n",
      "924/924 [==============================] - 0s 49us/step - loss: 0.0629 - accuracy: 0.9892\n",
      "Epoch 4/10\n",
      "924/924 [==============================] - 0s 47us/step - loss: 0.0653 - accuracy: 0.9870\n",
      "Epoch 5/10\n",
      "924/924 [==============================] - 0s 51us/step - loss: 0.0545 - accuracy: 0.9903\n",
      "Epoch 6/10\n",
      "924/924 [==============================] - 0s 47us/step - loss: 0.0607 - accuracy: 0.9848\n",
      "Epoch 7/10\n",
      "924/924 [==============================] - 0s 47us/step - loss: 0.0591 - accuracy: 0.9881\n",
      "Epoch 8/10\n",
      "924/924 [==============================] - 0s 46us/step - loss: 0.0561 - accuracy: 0.9870\n",
      "Epoch 9/10\n",
      "924/924 [==============================] - 0s 47us/step - loss: 0.0657 - accuracy: 0.9848\n",
      "Epoch 10/10\n",
      "924/924 [==============================] - 0s 49us/step - loss: 0.0588 - accuracy: 0.9892\n"
     ]
    }
   ],
   "source": [
    "#luyện mô hình \n",
    "classifier = model1.fit(x_tr,\n",
    "                    y_tr,\n",
    "                    epochs=10,\n",
    "                    batch_size=200)"
   ]
  },
  {
   "cell_type": "code",
   "execution_count": 25,
   "metadata": {},
   "outputs": [
    {
     "name": "stdout",
     "output_type": "stream",
     "text": [
      "id: 273  prediction: 2  value: 0.70060515\n",
      "truth: 3\n",
      "id: 274  prediction: 2  value: 0.70060515\n",
      "truth: 3\n",
      "id: 561  prediction: 2  value: 0.8440286\n",
      "truth: 6\n",
      "id: 563  prediction: 8  value: 0.6504694\n",
      "truth: 6\n",
      "id: 573  prediction: 8  value: 0.35523564\n",
      "truth: 6\n",
      "id: 574  prediction: 8  value: 0.35523564\n",
      "truth: 6\n",
      "id: 637  prediction: 8  value: 0.45381767\n",
      "truth: 7\n",
      "id: 639  prediction: 1  value: 0.7425833\n",
      "truth: 7\n",
      "id: 688  prediction: 5  value: 0.69790447\n",
      "truth: 8\n",
      "id: 785  prediction: 1  value: 0.96789247\n",
      "truth: 9\n",
      "id: 810  prediction: 2  value: 0.99576426\n",
      "truth: 9\n"
     ]
    },
    {
     "ename": "ValueError",
     "evalue": "invalid literal for int() with base 10: 'noise'",
     "output_type": "error",
     "traceback": [
      "\u001b[1;31m---------------------------------------------------------------------------\u001b[0m",
      "\u001b[1;31mValueError\u001b[0m                                Traceback (most recent call last)",
      "\u001b[1;32m<ipython-input-25-9f3fa4e2f1a8>\u001b[0m in \u001b[0;36m<module>\u001b[1;34m\u001b[0m\n\u001b[0;32m      4\u001b[0m     \u001b[0moutput\u001b[0m \u001b[1;33m=\u001b[0m \u001b[0mmodel1\u001b[0m\u001b[1;33m.\u001b[0m\u001b[0mpredict\u001b[0m\u001b[1;33m(\u001b[0m\u001b[0mall_feature\u001b[0m\u001b[1;33m)\u001b[0m\u001b[1;33m[\u001b[0m\u001b[0midn\u001b[0m\u001b[1;33m]\u001b[0m\u001b[1;33m\u001b[0m\u001b[0m\n\u001b[0;32m      5\u001b[0m     \u001b[0mindexMax\u001b[0m \u001b[1;33m=\u001b[0m \u001b[0mnp\u001b[0m\u001b[1;33m.\u001b[0m\u001b[0margmax\u001b[0m\u001b[1;33m(\u001b[0m\u001b[0moutput\u001b[0m\u001b[1;33m,\u001b[0m \u001b[0maxis\u001b[0m\u001b[1;33m=\u001b[0m\u001b[1;36m0\u001b[0m\u001b[1;33m)\u001b[0m\u001b[1;33m\u001b[0m\u001b[0m\n\u001b[1;32m----> 6\u001b[1;33m     \u001b[1;32mif\u001b[0m  \u001b[0mint\u001b[0m\u001b[1;33m(\u001b[0m\u001b[0mall_label\u001b[0m\u001b[1;33m[\u001b[0m\u001b[0midn\u001b[0m\u001b[1;33m]\u001b[0m\u001b[1;33m)\u001b[0m \u001b[1;33m!=\u001b[0m \u001b[0mindexMax\u001b[0m\u001b[1;33m:\u001b[0m\u001b[1;33m\u001b[0m\u001b[0m\n\u001b[0m\u001b[0;32m      7\u001b[0m         \u001b[0mprint\u001b[0m \u001b[1;33m(\u001b[0m \u001b[1;34m\"id:\"\u001b[0m\u001b[1;33m,\u001b[0m\u001b[0midn\u001b[0m\u001b[1;33m,\u001b[0m\u001b[1;34m\" prediction:\"\u001b[0m\u001b[1;33m,\u001b[0m\u001b[0mindexMax\u001b[0m\u001b[1;33m,\u001b[0m\u001b[1;34m\" value:\"\u001b[0m\u001b[1;33m,\u001b[0m \u001b[0moutput\u001b[0m\u001b[1;33m[\u001b[0m\u001b[0mindexMax\u001b[0m\u001b[1;33m]\u001b[0m\u001b[1;33m)\u001b[0m\u001b[1;33m\u001b[0m\u001b[0m\n\u001b[0;32m      8\u001b[0m         \u001b[0mprint\u001b[0m \u001b[1;33m(\u001b[0m\u001b[1;34m\"truth:\"\u001b[0m\u001b[1;33m,\u001b[0m\u001b[0mall_label\u001b[0m\u001b[1;33m[\u001b[0m\u001b[0midn\u001b[0m\u001b[1;33m]\u001b[0m\u001b[1;33m)\u001b[0m\u001b[1;33m\u001b[0m\u001b[0m\n",
      "\u001b[1;31mValueError\u001b[0m: invalid literal for int() with base 10: 'noise'"
     ]
    }
   ],
   "source": [
    "#kiểm tra mô hình sau khi luyện\n",
    "for idn in range(0,800:\n",
    "\n",
    "    output = model1.predict(all_feature)[idn]\n",
    "    indexMax = np.argmax(output, axis=0) \n",
    "    if  int(all_label[idn]) != indexMax:\n",
    "        print ( \"id:\",idn,\" prediction:\",indexMax,\" value:\", output[indexMax])\n",
    "        print (\"truth:\",all_label[idn])\n",
    "        \n",
    "#     ipd.Audio(all_wave[testId], rate=16000)"
   ]
  },
  {
   "cell_type": "code",
   "execution_count": 27,
   "metadata": {},
   "outputs": [
    {
     "data": {
      "text/html": [
       "\n",
       "                <audio  controls=\"controls\" >\n",
       "                    <source src=\"data:audio/wav;base64,UklGRqQ+AABXQVZFZm10IBAAAAABAAEAgD4AAAB9AAACABAAZGF0YYA+AAATANr/x/+h/2j/Cf8v/wn/4/5C//b+tP97/6H/x/+O/9r/2v/t/xMAEwA5AAAAOQATABMAx//a/yYAcgDkAL4A9wD3AKsAmABfACYA2v+h/7T/7f9fADkAJgAmAKH/tP/a/2j/jv8v/wn/Cf8c/3v/jv+h/wAAAAAmAAAAEwCh/6H/aP9C/6H/aP/a/8f/7f9MAHIAvgCYAJgAhQBfADkA7f8mAKH/7f/t/zkAOQByAOQA0QAdATABCgEdAQoBCgEKAQoBHQH3APcA9wAdAQoBCgGrAL4AJgAAABMAEwA5AIUAcgDRAOQAXwCFADkA7f8AAFX/7f8TANr/JgC0/+3/of+h/3v/jv9V//b+9v6X/tD+l/44/pf+S/6q/qr+4/4J/y//L/8v/2j/HP9V/1X/L/+h/2j/e//H/0L/2v/t/9r/cgAmACYAqwDt/4UAcgBMAJgAEwA5AHIAOQBMAEwATACrAHIAXwAdAb4ACgGYAF8AHQETACYAe/+O/+3/Vf+0/yYAcgCYAF8AqwDRAHIAjv+h/0L/aP8v//b+2v+0/8f/2v8mAL4AmAByAJgA5ADRAEwAOQDH/8f/aP9V/+3/JgAmAIUAJgCYAHIAx/8mAI7/e//a/2j/x/+0/1X/of+O/47/JgATAAAAhQCh/4UATAC0/yYAof9fABMAtP9fAF8AEwBV/9EAmADkAKsAvgBWAeQAvgATABMAEwCO/0L/e//t/yYAaP9C/6H/tP/j/r3+4/5V/6r+cf4v/9r/tP+h/+3/hQCrABMAJgA5ABMA2v8J/6H/jv8v/3v/HP8TAO3/EwATAF8ATAAmAAAAx/85AO3/7f8TACYAQwGrANEAMAEKAUMB0QDRAAAAJgCh/y//Vf/j/nv/Qv+9/rT/of9yAKsAcgCYANEAhQBfAEwAmADRAF8AhQCYAO3/7f9V/7T/OQDH/+3/cgBfAEwAx/97/wAAHP/2/vb+7f9MAEwATAByAOQAhQAmAJgAmABMAKH/Vf9o/3v/9v5L/i//of/a/7T/TADRADkAmABMAL4A0QATAGj/OQA5ANr/x/9C/zkAVf+h/2j/of/H/9D+L/8J/47/HP97/wAAx/85ANr/qwATADkAAAAAAAoBAAC+AF8AmAByAJgA9wBfAO3/JgCO/wAA7f+O/wAATAAmAO3/mACYAKsATAC+AL4AqwBfABMA5ABMAAAAJgAAABMAaP9C/wAAJgBfAAAAJgBfALT/aP/2/nv/L/9x/hL+0P4J/xz/aP8c/wAATAC0/xMA9wAdAb4A0QATAMf/EwDt/18A7f/H/4UAOQDRAKsA9wB8AXwBCgHH/+3/JgCE/tD+Vf8mACYAOQBMADkAEwDa/0wAJgATAI7/cgCFACYATADa/wAAEwATAIUAhQBfACYAmAAKAasAmAB8AR0B7f9yAKsAXwDa/47/qwCO/wn/x/+h/47/L/9yAC//7f/a/47/Vf+q/gn/XwAS/lH5MwUwARMA2wHbAXMCev3t/9r/l/6p/Bz/0P5L/qH/TADt/wAA0QBDARMACf+rAHIAhP5L/lX/AACE/vb+fAGiAY7/hQAnAqsA0P6FAHIAe/9o/wn/9wBo/5gA2v9yANr/EwDkABz/AAC+AIUAmABDAQoBJgCh/5gAof+0/9r/XwBNAr3+qwB8AY8BQv+h/6IBVf+O/439OQDH/+P+vf5o/+QAe/8c//b+9wA5AAn/jv9MAI7/of8J/+P+cgAdATkAe/8AAJgA9wBe/uQA9wA4/tr/tP/RAI7/hP5V/+3/JgC0/18ATAAKAQECCgHuAasAmQLuAXv/fAHj/mj/aQFyALT/hP4wATj+e/8mAL3+cgDQ/qH/xv1V/zkACf///aH/QwGE/uz90P44/sf/9wDH/7T/tP+YAPb+EwBMAJf+0P6h/9D+qv60/8f/jv+rACcC//1o/woBx/9x/kv+tP9DAVYBL//H/5gAmQKFAND+TABzArT/9v4KAe4BMAH//Y8BmQL3AKIBqwBfAB0B+AK/Ah0BXwDlAiYA//1MAOQAvwJC/wAAOgJC/xH8XwDJA+z94/4dAcgB9wCn+oUAFAKPAVYB2f33AIUAcgBd/I7/2wGZAl388/pzAqsAjf0u/RMAHQEk/FX/tP+9/u4B2v+E/u3/cf5MAAoBTABV/yX+7f++AFX/Qf1o/48BqwBn/QoBEwCYAGj/Qf1pAe3/qwCg/dIC2v/bAe4BOQBgAu3/cwLkAJf+vgCrAND+7gHt/78CtQES/r4AVf/IAdn9fAHP/NQEBvtpASX+hP77Btn9+ALP/IgEi/tDAdD+dQSZAtj7aQFx/oYC6/tMAOQA9v6rAM/8cwKx++P+JwJx/h4DXwDi/Kn82wHt/7H7Xv5EA+4BVf8s++cEtQETAFT94vw0B6f6vf4AAEL/FAJo/y//yAGjAyX+Svxe/o8BagPY+8/8Cf+IBOP+p/pEA2QIL/8h+GoDRweh/1v60gKiAVcDGPn4AkwATwQv/y79ogHlAtQEkfbBBEL/rAIb/SL60P6IBHv/N/w/+4kGvf4k/P/9IAWZArH7AAAI/ZgAPQZl+73+QwFe/u4Bnvto/2X7jAoS/qf6aQHSAgAAAAAv/xz/bAWE/r3+gfrlAicCz/w9BuQALPvUBCT8vgDlAtwDZfuYAB0BVf+ZAg/6Pgh8Adj7OP53CP/9sfuE/iEHOQDf+NEAfwVXA3PzVwNsBfb+WPZEA/EFXfxK/FEIlvxx/gb77gHXCFT9nvtWAUv+Efx/BTf8mQIBAlr4NAf++9sBJf7F+3v/OQD+CmL3SPoc/38FvgD4Ar4Aof/+++PxBBN8AQL1l/4+CDsElPpB/cgBzglg864EnAbt/5T6sPnYCh0BXv6K+UH9jArQ/hEL1+7j/mIEGAi08i79ERjA9SbzgAdACmH1gPgwDpf+BvsgBXrwiQaSBWACp/r6BFX/h/W4Bf77FQR7/08EQfCTBw4HSu/s/YIJKATS85ADOgI5AAbuEQuCCez9jv/V90kJ7f8OByvs6BPf+Lr6dwjLBYr5Qf1nDBPzVP3GDAQGCPB1BAIEtP9V8mQIjQzV96/3WgeZD93pcAs7BHD8XfzUBDoC2vLECK8Gnflr9pMHqw0v8uP+Ngk5APsGrPPbAWj/tgOZAvL4gwvD+Uj67wOT+O8Q9wAC9SX+HQ759bH7GwxXA5T6A/fuDhv92v93COL8mfPGDK4E7PAmALYQoP256zkNvwI68+UCnwqJ90r8rAJu+nYGS/62A8P5ZftDAYkG3/ig/bYD+AKW/EQDR/iR9nURjwF190j6ggk1+sP51QbH/3D8IvqlBT/7gfoaCjkAffR2Bl0L6Pdz8z0G5QINBcgBOgLM+Fv6CwNZBUL/Cf9e/vD2GAhU/RUEfvYFCIkG9fwTAIbzgfqcBm8J8/oEBvb+se5i96MQ0Q1d/P/wUQiU+o7/oAwk/ND+0P6oCcbwiAQ9Bsf/bvpvCRcGH/ZV/wn/YwYBAswHgPhl+6b43weYAHUE1wgO+Lb0yA5yAB/2mwQEBkv+QvIHCn0DT/dPBG0HvPzo9xQCZfuZAn8Fjf0v/2f9YgTf+AsDagOz/YH6xfuYAAECEQvl8zjxWQUIDF8AQf1gAq8GEfzG/XH+UAbBBOv7OgJ2BqUF9vFZBev7tQG8C8f/l/E5AAn/7wNWAVj2PvkjCVX/x/ICBHAL+PO+AGoDVgEeA8f/C/Sc9xcTaQ4p92Xu3gVgD9UGOvMzBSsIrfWMCqn8zfpI+iYA//3GDMEE8PYo9eLvfRARC7z8rPNx/kv+BAbp+en5QQwI/TkAKwiIBA74lvxo/0j63hL4Avz5jf0NBUL/fQMnD3YGof9+9voEJgCX8asNfA4+7J35MA5n/UX2xAg++ens6wrECGT55ugtCmACQvIwAW8JWvi/82UViQb2/sz4CwPW+VoHvw8J/+Xz4vzJA+8DhQCN8Lz8AhGAB/n1HP+q/rb00QDeEnj7x//bAfD2mABMDQsQdPUk/LT/3gW8/Ev+NfqiASgEr/ejA2f9Wvg5AM36VgFK/Ov7VgEAAEH96AYaCr3xxv3BBLUOnPf1/KUSJPy39hAJJg2N/Yn3g/x1BOcEhgJdC8PsYfWbEToCNfo/+xoKxvAW9xoKbAU++UX2kgUBAqIBjv/j/v/wqv6/D1kF3fbJ9OgGYgRWAQ4HEfzr+0Hw4QnaDAoB8vgb/Tj+JgD7EwoBse41+jYWsfu6+vgC1ATg+nIAZAgUApP40/X6BMsFVf8LAyH4v/NPBN8H1vkD94gEtQEr+Xf5XAmv95r1dwisD7/z+PMUAgsDogEOB6UFLO74AtoMRgXP/AAA7f8i+rT/8RJWAYTxQf3qCGf9xv2q/uL8agMAAIAHPvlt+H8Fxv0dAeUPjwHj8cr2uAV/BXYGi/vC9+8DzAeX/r4AaP/bAbYDowPnBCX+W/oY+e4BwgZaB0j6QvKz/cEEN/zj/gUI0P698UL/JgDY++8DCgHC93v/zAed+dsBfwUBApb8Z/3fBy//yAGq/lX/IAUl/jX6Qf3fB3j7Cf+h/9ICBvux+0cHrgREA6D9iATs/WwFggmh///9AACIBJb8YAKIBP/9VP3t/0wAGftS++v7CwNb+nv/7f/D+V38DgcLAwAAkgXi/FT9AAD+CjoCZfvP/An/DgcCBOn5cPxDAawCrgQS/or5i/sI/Wj/rwYb/Z77vPwTABUEQwFDAf/9jwENBZADx/9fAL8CUAY5AGkBN/x3+bUBnAaq/jkAvgAI/af6tP9tB5kC6fkLA2kB8viFAMEEYAIP+o7/ogEnAhH8mAC1Aez9qwAzBaH/5vXt/+D6HgP7BkMB9fy5+C//qwAb/WX70gJl+wb7rAILAzX6kfa+AIAHrwbIAX72G/0LA7YD5ABo/9sB7P3IAVYB7wN9A8f/gfo6AoMLFwZu+hv9PQZo/+QA2wGPAfb+OgILA/X8i/s++Wj/5wQVBI39p/onAr8CTQLH/xQCagMLAy79Qf2JBrz8OP5PBOoIG/0i+o7/RANGBecEzfrf+JIFKgYr+WT5FAJfAA/6AADvA+n53/gG+5gAtQHcA3f5dPXVBisIvgDd9vgCOwQZ+48BWQWX/qf6S/5e/t8HFwbW+XT1OP49BgsD6/uD/DsEVf9b+qD9CwOZAqn8QwFqAzj+D/qz/QECIAXnBKr+6flB/fIHRwdo/8f/rAIu/an8MwVZBen5G/1PBO3/Lv1o/9ICsfujAxUEEv4h+Mb9VwNo//X8tQEb/Vv6AgREA9j74vy/Agj9w/le/igEqwC0/9IC9v6L+3v/kgXlAkQDwQR8AWX7OgLJA0r89wAzBZgAuvpL/hMAjv8LA5ADHP8/+9n9OQDi/NsBtgPz+qD97wOiAc/8//0BAsb99wDUBLT/6PfH/1EIHQG9/pf+Jf5yAGIE0gL//QAAOQDH/6wC7wO1Ab3+XwBqAxcGL//8+VX/CwOvBuP+pvhx/u4B2wFyAJf+of/t/6r+2f06Ak0CaQH//Xv/ogE4/jX6Qf3vAwECLv3r+1X/HQGiAQn/G/3bAe3/8/r++zABtQGx+//9cwJ8AVT9qv4mALUBfAHZ/c/8MQNZBTf8BvuQA2oDQv85ACcCfAFNAgoBJgDlApsEVwOO/5ADrgT2/oUAyQOjA17+2f1DAYUAJf4AAKr+tP/IAUH9hP6iAdEAlvwc/9sBqwD2/mj/XwDP/EH95ABn/S792v/j/kv+2wHJA6sAAABNAnwBOP6YAB4DAAD1/DkAs/0S/mkBtQFx/tD+AADQ/kv+7gEeAy79BvuZAmkBEv6h/3H+vf73AOQAev0I/V8ARANV/xL+5ABe/kv+MAGGAoT+CP1U/YYCfQO0/3r9Zfsc/+4Bl/68/Jf+hQA5AEwAmABC/+P+Vf9NAo8BJgAJ///94/6/AlYB2Ptk+dn9mAC0/xL+Qf3++4T+9wDRAPb+0P7G/Xv/2wG1AaH/l/4UAiAFMQOO/18A7wPnBHUEowPlAskDrgQXBg4HFwbcA9ICKARjBhcGIAWGAuUCwQRZBfoEpQV/BScCfAGsArYD3AMBAtD+0P6FAAAA9v5n/f/9s/2p/Er8oP2p/Lz8G/3P/Ov7Efxw/CT8CP32/nD8t/bd9kf4Gfv2/uz9PPce9H30uvp7/2j/k/hq9ML3/vup/L3+7P2W/Jb8Svxb+vz5Cf+PAQAAivlr9uzwmfMk/KYHtQEA83ToZ/Cg/awCePtg8xX13/jM+Dz3Qf1EA8kDof9e/hz/hgLxBSYNyRDIDpMH1QZDDiQYHRtBGXkXEBZRFXkXrBy4HzEdExqhGXMc9RieFSsVBRXRDW8J2gyFDU0CcPwUAucEEv5a+AP3pPbd9mH1ofI48bTyl/G874PvQvJe8QjwaPI898D1JfHi71f0zPh3+TT4Wvjz+oP82f3H//cA9v5U/b3+XwBMABL+z/xB/eL88/qA+CH4PvnM+Fj2HvTa8oTxCfLQ8ePxS/Gq8TjxVPD+7ibzJvOE8ePxx/Jg8xPzlPpfAOP+t/Zt+NEAaP88947y5vUG+6r+Zfsu8PLrv/OB+rr6ufjT9UT0yvYI/RL+qv6YADoCMAEeA1AGNgl6DK8T9Rh8G0MbChuvIAEpiy+5Lt4suS5KMhQ2Vze3N6w2hTT1Ms8yjDEGL1ksYitMJ98hYBy8GBoX+xPbDlwJkgXSAvb+W/rV93T1aPKv6sbjuuBe5IPiCdhP0PzSqdXW0jzQ+tAyz6vM5s5a0ZTTeNTX1CPVjtgM3N/ebuDa5Q7rsOx37I3wPPfP/O3/7gGuBPsGQAqPDpISzBT7E8sSpRKvE/IU+xPCE8sS5Q+NDFwJ+wYzBY8BoP2w+ej35vVg88fytvTS8wbuUezN7QbuPuxS7s/vDuvy6yXxh/UC9fv3Ev69/goBMwX7BpMHEAlTCiAF4Pqn7TvoWvjaDP0IFuoQ1UfeKPWz/S/yx+Xt5YDr1uwh6+zwNfoJ/+3/4/6g/eP+iwg5GmgmSiUnHLUbrCmmO+VDFkW/Q8hCAUOvR75OylGiT11MaE0vTQ5Ij0JVQKJCqT+FNLUogCFjIFcd2BeZDzQHx/9k+bf2CfIr7OLiT91M2QjWys9MzAjJMsLZvPe/h8GktbCrJrIbvDa7TrQAsoC3hL2mxODGaMsD0GXUhNc14DvoNe1S7of1cPzH/+P+TQKpC1AT1xWJE0cU2hkzH1ohLCIYImwfrByQHdQe8B3FF38Svw/IDowKDQUdAUwAjv+e+3X3wPWt9WH1RPTc9Mn07fJC8pD0Fvdt+Oj3rfV+9gX5p/rF+0v+FAICBKMDDgdpAa31/Owr7CbzdPXD+dbsO9u81X7cRek+7FfnUuHM3mHouetK75D04vyiAS//Z/04/mQIPhXCIGYk4SPFJA0syzkZSdFOX06pTLVPwlRwWe5cOl20WoJXFlI5TotJT0V8Qv4+AziuKw4hvhrrF94SNgnQ/q31vO8r7B7njeO33GfWSNMi03fSe8vwwm65QbzGyU7O78BysmK297/nw9bFpsSAxDzDK8VcyCjOLta02Lbaytym3gXfS+Qu8Cv5GPlo8njuh/VzAiYNFA9BDAcK4gu2EM4WExrFF/ES0g+FDSYNmQ+ZDykRVxCLCI8B0QBqAwQGowPG/d/4pPZR+Rn74vwS/mX7k/hS+6r+EwDRAB4DzAdQBpkCEwB/BVQM9Am+AO/0c+ag1o7YG/BfABjs+sMotI7LKOgY7DnZ1tJh2wjjlOD/42H1+wbaDNgKzgnRDRoXrClVQC1LT0W4Of4+1VR8aUhv+mytatpn/mVDaVBuF24aZRFZ+FC7SrRAVjXqL3gvQyiCFrgF//0b/YD4se725Pvd2dab0KTPrtD5zhvJncVSx6DJoMmWyMbJhcxqzS/LNshcyHjHL77MtxO/ddCqyjy2vbB7vtrLHMt6yXTOzdOE16rXit+b6vbxx/La8jX64vyN/Y8Bcg2eFZsR9QvuDh0bzyWhJo4mQSYuJtgkqSUnKQsqQSa4Hx4dPB74HIMYqBYaF/sTvAuSBWwFPgi5B8gBz/xI+lr4Rfbd9kj6N/zV9zz3NfoKAUYFIAXlAhz/1vnZ4/zFtsDz4O3/bevXrWWG45agySzhItMbvFK66sfy0aPaaudO9RL+Z/03/FH5ev3xEnI0Jk6oSlk5CjWWTK5sjH//fyd3m2x7Z09s+XdIfJ9y4GL3WxxaT1K/Q/M7ST2SOXMpRhIXBn0DkAPj/t32sOzN4KzZHtpa3vzf7dgW0DHN+tD91MTUg9Vd1XrWI9VS1KfTndKI0E/QX8z/vJiyZ7z60NrL1LaIqW6sbrmkwgbHesnExxnHUsdS1EriFeh75e3l3+vE7gDz9fzGDBMaOhxTF4IWuB89LcczRDfiMj0tRCptLrU1AzjPMqIobSGIHsgbQRlwGMQVOg9iBJb8Pvni/C791vnT9ezwBu4+7Abu7/Ty+PD2OPHa8tr/WgctCjQHRAOE/uj3W+2D1dDKftxr9pHp6bjXk+ecNcYY38zR2r57vsfLbtP525PrD/qh/wj9//36BMgOYBwtMYlHq07URTBCOlCFaH54iXt8dtVuvWZTZXVsVXSJbrderlLHTVJJqT/SNkAxpSx2IHURNAcLA//9+/dg89DxWuvE4Qzc/N8A5qDjA92j2g7ebuAP4AbheOFR32HbC9rJ2hPZPNC9yh/C07TasXG9bcSEsJKdkZtOp5iyPLbytw+56rolvSnDzdOK313i1+Ex513vffQI/Z8Kchp4Ivoe2xsYIuovYzojPbE8OjaVMPMuxzPLOd03PS1tIeUcyBvHGf4XghZPESsI0P66+iX+cgBV/7z8ePvK9uLvL/LD+VYB7P2K+WT5xv0XBvULrhEtCp77m+pL12HOlNPm6JDn3cJymBOLGKti0APdptE8w2LDk8QxzUjgc/Ox+wL19vGc9zMFbxZNKaJC0lA5TqxD8EQaWMBqyHYpecVy5GhiX+BiW28Udz1u5FuiTz9JJkHUOGgzni8wKJgaVxBUDIwK+gSh/74Avf5O9Tvoz+Lt5Tvoc+Zd4hDixOHD3+nfP+HE4bnev9mz1g/Tfs/fxJO3VbGbti++5rTQowqZMptWptCwGbqNvJ66irjPu8bJ2db73XffJOKt6PPtV/RB/S0KqBb3GjAb5Rz9IucrHTU/PMQ8MDViK9sory3iMp8xRCqmIToc4hjFFxoXuRRND0cH2v8s+9b52Pvg+j/7LPuk9jH0L/IY+ev79v45AI8BRANZBfQJegzUBMz46Op02/zS8tEO3mXUVb7EoG6f6bhl1N/e/9bKz2rNhcyN1tDk+/de/kj6sPmPAfsTpiEZL4w+WkgjSg5I40zYWFtitWmubJJtTGhPX5ldY2EvZz1hIVWoSr5BYzqFNGYxIzCPKH0dbBLtDFMKagNC/+L8Xfy5+I3wUeyA60frYuq36cPsk+uQ50riSODN4DTeHto/1B/PisWduNmv2rHKtZu2uqxxo96dGaBFqAqzXr0ewC68iLa6uVHFD9PU3Uvka+lb7arxGPlPBKMQ2hm/HLYd5x7XIicp6i/uNfA3LjPBK/UlQSb3Jwoo2CTnHusX+hFgD+UPFhExELwLkgUKAcb9OP56/Uv+s/0I/Zb82Pv//V7+fAHbAX0DRgXfBy0KRgUv/2v2ful339rYt9wV24DRpMK6ufDC39GK3yXk/+OU4MfYZ9a33FrrLPvkAL8CagNTCpMUPB6bKws3eDw0O1k5NDvtQHZH7k/9Vh9eTFvhV/BRFFCrTthL10n4Qy9AajeyMfMuYisUKYsi0RoQFqAMdgYwAdn9jf2U+lr4RPQl8eruIes060frBeyv6gDmP+Eo26nVDM/GyUjGYsP3v1S8irj6tnW2T7Z1toC3Brp4uni6b7u0vinDlsgCzjXTHNgM3JTgx+X87KzzBfl6/ToCBQjaDIgRnhUAGjEddR49IJwgnCDLH1kfmx7cHRYefR2ZHHIaqRiyF+EWghYYFZwT5xGsD5gNQQzPCyQLeQojCSsIiQZtB7gFpgfnBPIHNAebBFv6Ee9u7fLrsOwQ4vDcetYT2R7aL+U/4aniNeCz46DjJOI03hbdsN9q543wOvMW93f5vPzcA0oLzBT+F1cdUiJDKN8uMDVPOJM7Sj+iQgNFa0S3RB1CJkEtPnk+GTxHOws3MDXFMVMxkiyQKp8kgCGYGgcX+hGGD8UKuQejAzoCx/+z/TX6KfeZ8+Lv8utq51TjgN5e13fSFc5MzLPJi8fEx27GncUzxMHDfsJXwC++Qr60vvnBiMOxx//J086d0qDW3No+36Djh+iB7WDzWvgl/hQCnAZACkwN5Q8pEQ0SnBM+FbsWXRjPGOIYqRg3GHAYQRn1GPUY/hf0FosVnBPcEHMPOg/SD6wPRBDlD5kP2w7kDbMMsgpGBRv9qvEC6M/i1+E45KHlrOYm5r3kceS95PjmquSw3/nbV9rf3tnjR+tn8Nz06PeT+Er85ABHBwANbBLFF78cZSI5Jw0slTDtM1c3nDoQPXA/Zj5JPW071TpQOvo4Azh8Nc8yeC+lLKwpjiafJA4hyR0wG0oYeBUgEjoPegyoCcIGfQPt/6f6+PO67SjoJeQs4W3eftxX2l7XZdRt0ebOcsw4ym/Iusb8xfzFlMZlx1TJ48oAzIfOddA10zbVvddO223ejeOt6Pzs2fAC9fL4nvtL/qsAagN2Bv0INwvaDJgNaQ6GD08RyxJ2E4kT6BOvE7gSFhGGD6IOMA4wDqIO2w6GD4YPTQ/uDlYOTA1mCucEZfuz8A7rwupu7QjwG/Dq7vLrkek86p3sW+0O6/jmeuNV5X7p9e+j9K/3zfrz+kH99wCAB6sNYhEhFBoXfBsgH/IhjCS0Jo8o8CqvLYwxQjMuM2YxxC+LL6Yu6C3eLK4rRCpDKMcmcCUHJMwh1B4BHBsZXBZQEx4QoAy7Cd4FyAES/vP6+/d99EvxeO4r7N3pO+iG5i/lCOPp393crNmX10HW/dTX1PXVxtaN1kHWVNb/1i/YMdoy3IDeuuDP4pfkrOZF6UfrW+2D747yHvR09cr2DviK+TX6SPrg+kr8s/3t//cA7gGZAvgCFQQzBXYGRwc+CN8H8gdRCBAJlQnXCPIH1AT//e/0eO5S7i/yFfXd9mL3dPXS8xPzRfZa+Ef4kfbl8wz2Ufn2/k0C3gUFCN8HEAn+CtIPwhM2Fp8XoRk8HrEieya1KJkpOil8KKIoRCpPK30qCigIJsUk6iKTIQQgkh88HtIcrByiG5ga2BchFGoQZwxvCfsGMwXJA4YCVgHQ/nr94vzi/Iv7R/h09ePxi+7o6k7oAujc5wvnoeWq5I3ji+Fu4LDfSOCD4qrk5eZY6a/qbetH64Dr3+uw7JTtGe7E7krvVPAS8ePxOvMx9Dv1rfVh9Tv17/SQ9DH0tvRO9Wv2r/d3+Xj7CP3s/dD+Vf+q/qD94PqR9oTx/Ox16q/qlO317y7wg++67TXtp+1d7//w//DG8IPv//CQ9N/4CP05AJAD6AZ5CqIOMxJJFs8YARySH/QjASn6K6Yuni/qL2UvxC8QMMQviy8ZL1ouKi1iKxQpjiZ5JJ4i+yBGHx4dABoQFjMSjw43C7EIdgZZBWIEyQNEA1YB9v71/J776fkp92H1JvM48f7up+137E/qwOhz5r3kLuOD4jfinuHX4TfiqeIu43HkQuXa5QDmrObJ5xbqnewk717xJvPc9DL2YveT+MP58/oR/OL8cPwR/CT8i/sR/Ov7ePss+xn7lPrp+bD5K/kY+SH4Kfcy9mr0ofJB8A/tWusF7GXu9e9B8PXvXe/P743waPIV9Wv2Fvfy+BH8of+QAyoG8gf9CAcKXQvRDUQQUBNRFbsW4hjuG3UeYyC5IRAjziN5JGYkSSMFItUgUCAXILgfmx7cHToctRsUHNIcvxx8G7QZZheLFQ4UfxIWEYYPog4ADUoLBwp3CD0GfQOPAcf/l/6N/Ur8ZfsP+rn4pPYe9L3xg++B7czrPOrA6AvnaOWX5P/jS+Rx5F7k2eOp4hDi6uFd4vXixuMJ5drlC+co6HToa+n76rnrK+wh6yjo2uVL5NnjXuQA5kzmJuYv5VXlrOZ06A7rd+yB7QbuEe+z8E3zH/bf+Iv7Jf6+AOcEEAkbDE0PpRJJFgAaox00IRokGyY5J3worCnwKogr1CtGLGwsbCxGLK4rAyv4KYUnhSe0JkEmbyMhITMfOhxMGkAXGBViEY8O4gufCpUJZAiAB/oEyAG9/tj7gfor+cL3h/VN85fx4u/z7d/rA+r56ETn2uW95OzjSuKn4FvglODX4aDjtOUo6GLqnexu7SzuEe+W77Pw9vG08pnzkPS29Cj15vUp98z4SPq6+vP6gfr8+Rj5k/gh+NX3bfiA+D75ufjM+D75K/kP+kj6SPqw+Xf51vnz+v77XfxB/Tj+L/8mADABHQG+AI8BrAI7BFAG8gf9CC0KXQvaDOQNVg6PDu4OAQ/IDqwPCxC2ECkRIBKSEioTWhSmFCsVBRUFFcwUeBVRFbkUBRWTFN8U+xPeEmMT8RIqE1ATnBPLEqMQTQ9pDqAMxQrXCIkG7wOPATkAcf5B/ST8IvqA+E/3h/Vg8+zwze0O6zvohuaO5Rzll+Rx5OPkhOSq5KrkJeT/4yXk4+Ta5UTntud957/me+XZ4+LijeMv5QLot+lt68PsIu3g7dfuG/D28R70H/ZH+PP6OP5fAPgCuAVcCaAMFA88EXYTzBT9FRoXGxm1G9wdUCAYIpUjeSR5JDYjpiENH7UbvBifF1QZVhtDG2cZ2BfXFfsTwhOAFBgVFxOGD+0MNwvOCYAHpQUXBlAGFwYgBWoDfAE4/uv7zfrg+lL7gfpu+p35KfeG85bvsOzo6mLqgOuT65vqt+nJ5xPmAOYA5sflaOWO5TnmHuc76NPomuhF6WLqsOzE7rPwHPJo8gnyS/Gg8HrwJfGX8Xvy+PMV9dP1pPYD92L3IfgY+TX6ePsk/C79qv5MAKIB5QK2A4gEFwZ3CEAK4gurDRQPRBDUEZwTuRTqFZUWGhd5FzcYVBk5Gh0bFBxgHJkc5Rz4HOUcTRzIG+QaABpBGc8Ylhj+FzYWGBXoE/oRRBCiDjkNCAzrCuEJGAiJBk8EAQIAAKD9Efxu+sz4A/cV9WDzEvHq7unsNOu36ZrokOeZ5kzmtOXj5MbjZ+Mu47PjceRo5V/m0uYx5/jmkOcV6NPokenw6U/qfunm6OboRelP6hjsGe6875fxmfPT9U/3PvmB+rz8L/+PAU8E8QVRCFMKegzIDgIRiRPqFYwX9RihGeQaARysHFcdAx4pHk8edR59HWod5RxNHLUbQxu+GiYaehk3GC0XURV2E+cRcw9yDQgMxQpcCSsIIQelBZsEagOiAdr/Ev4k/Ej6R/gf9jH0e/Ls8IPv8+0P7XfszOvC6pHpwOgo6DHnX+bH5VXll+QS5I3jjeMl5BLk9uTt5fjmh+jw6ZPr1uwG7rHuz++N8F7xHPK08h70RfZt+Lr6Lv2O/3wB0gLcA08E5wTxBWMGIQdRCLsJVAwUD2IR3hI0FIsVlRbhFlMXERihGQobJxyjHRYeFh5qHeUcOhzIGx0b9xrkGjkaABq8GGYX/RU0FFkSHhCrDTcLEAkhB38FtgMUApgAQv/s/eL8Uvud+ej3+fWZ86rxVPAG7lHsputi6ljpmugo6NLmOea05WjloeW05Ybm0ua/5r/mROdq58nnYejT6JHp3eno6t/rD+3X7nrwQvIm81f0dPVF9k/3gPgi+rH7G/1o/0MBrAJiBLgFkwfECOEJJAsbDAANjw7lD5AQKRHUEZISBBMEEz0T1RMhFEcUIRT7E0cUkxQ+FbEVnhVRFW0UwhOcE8IT1RPCEwQTMxI8ER4QTQ98DtENAA31CyQL4QmmB/EFKAQ6Ar4AVf96/ST8uvrf+Cn3yfSs89ryqvHZ8M/vP+4P7bnrm+rd6d3pfulr6aTpkemI6q/qgOsr7FHsd+xR7HfsIu0/7nDvevA48QnyL/J78nPzRPSQ9If1H/bw9oD4sPmn+v77Qf3j/kwAOgJ9A8EEuAX7BrEIBwpKC6AMMA5gD7YQPBFZEj0T6BOJE1AT3hK4EgQTBBO4En8SuBLLEn8S5xFiEZAQahAeEJkPFA9pDqsN7QwIDDcLjAojCbkHdgZZBTsEVwOGAkMBOQB7/73+Qf1K/Lr6ivkh+Lf2+fXJ9Ff0c/Pa8uPxvfFe8cbwxvD178/vXe9K79fui+5l7sTuSu8I8HHxVfLH8k3zv/Mx9AL10/Xd9on3Wvjy+G76LPsk/Lz8CP3G/ez9Cf9C/zkAQwGiARQCTQIeA30DtgPvAygEWQXCBpMHUQgQCc4JUwpmCp8KUwoaCs4J9AlTCkAK4QlACtgK2AoRCyQLsgrhCdcIUQgYCFoH1QbeBSAFiAQ7BDsEYgSIBBUEfQO/Ak0CaQG+ANEAcgAAAGj/0P6E/sb94vzr+wb7/Pl3+fL4gPiT+AX5BflR+Yr5Pvl3+Xf5K/kF+QX5GPk++Rj5GPkF+ab4NPht+ID4zPgF+Sv5UflR+Yr51vmB+hn7N/zi/LP9S/5x/nH+qv4J/7T/vgBpAQECJwKsAgsDtgPJA7YDkAMeA30DKAT6BN4FwgboBiEHIQchB/sGiQbeBSAFrgSbBPoEMwVZBTMFWQUEBt4FuAV/BecE7wOZAlYBvgCYADkA7f+h/7T/tP97/y//L/+9/jj+//1n/Rv9qfw3/CT8Xfzi/Gf9s/16/Wf9CP3i/M/8cPyD/HD8JPyL+yz7zfrN+rr6P/sR/Kn8vPyD/Df8JPxw/BH8JPxw/Kn8G/2z/Zf+of9yAB0BfAG1AcgB7gHuAToCYAL4AqMDTwTBBEYFWQUzBQ0FmwRiBAIE3AOQA0QD0gJzAicCyAGPAVYBHQH3AAoBCgFWAWkBaQEwAb4AJgDH/6H/tP8AACYAhQC+AAoBVgG1AdsBtQFWAeQAXwDa/1X/L/8J//b+Cf8J/+P+l/44/tn9xv3//XH+0P4c/y//Vf+O/9r/TAByAKsAqwBfACYAEwAmAHIA5ABWAaIBogFWAeQAhQByAIUAqwDkAPcA9wD3APcA9wDkAL4AqwCrANEA5AD3ANEAhQA5ACYAJgATANr/e/8v/xz/aP/a/yYAEwC0/2j/aP/a/18AqwByAMf/9v5L/uz97P3//RL+Ev7//f/9//0S/hL+7P2g/Wf9Lv0b/Qj9G/1U/bP9OP7Q/mj/tP/H/3v/Qv8c/0L/tP85AHIAXwATANr/2v8mAJgAqwBMAGj/l/4S/iX+l/4v/7T/7f8TAEwAhQC+APcA0QDRAPcAaQEUAqwC+ALlAr8ChgJzAk0C7gFDAYUAEwAAACYAmAD3ADABQwFWAY8B2wHIAWkBmAC0/9D+hP72/tr/0QCPAe4BAQLbAWkBMAH3AL4AOQDH/3v/e/+0/xMAmAC+APcAHQEwAUMBQwH3AL4AvgDRANEA5ACYALT/4/5x/oT+Qv/a/zkATAB7//b+vf7Q/hz/Vf9C/73+Ev5U/an8EfzF++v7cPxU/Uv+Vf/t/8f/Vf+E/tn99fyD/CT8N/yW/I39hP4c/2j/HP/j/r3+vf7j/o7/x/8mAIUAqwAKAVYBogG1AcgBTQJzAr8C5QKsAvgCCwMLA2oDkANEAx4D5QJzApkCmQKsAuUCcwI6AgECyAHbAbUBAQLuAe4BAQKiAY8BjwFpAQoB0QBMAEwAJgAmACYAJgATALT/tP9V/0L/qv5L/o39vPyD/IP84vwu/UH9Qf1B/Xr9xv04/l7+Jf6z/bP9oP3//UL/JgDRAGkBVgFDAb4AJgA5ABMA2v8TAKsA0QD3AAoBvgByAEwATABfADABfAF8ATAB0QA5AAAAOQA5AAAAe/97/3v/tP8mAKsACgEwAasAhQBfAAAAaP+9/oT+Xv6E/uP+Qv8v/xz/9v7H/6sAHQFpAQoBJgBo/6r+S/4l/uz9oP2z/cb9hP4v/2j/JgDa/7T/2v9fAAoBfAHIARQCOgKZAk0COgIBAtsB7gEnAoYC5QILA00CogEdAeQAhQCrAKsAmADRAPcA0QCFALT/jv9V/3v/Vf+X/r3+hP44/nH+9v6h/9r/JgCFAIUA0QCYACYAjv8v/17+7P2N/UH9Lv1U/dn97P0l/l7+Xv44/sb9xv3G/RL+qv6E/nH+vf7j/o7/7f+YAPcAyAFNAoYC5QJzAicCAQJ8AasA5AAwAaIBjwG1AbUByAHIAUMBMAGYAJgAEwAAAAAA7f8mABMATAA5AMf/e/8v/2j/2v9MAHIATAA5AAAAx//t/zkAcgBMADkAtP9C//b+l/5e/qr+L/+O/+3/JgDt/3v/Vf+h/wAAx/8AAAAAof+h/7T/jv9V/2j/9v5x/tn9xv2z/SX+9v5V/47/aP97/7T/7f9yADABMAHRANEAXwCYANEA5ADRAIUAhQBMAHIAhQA5AEwATABMABMAJgBMAO3/7f+h/6H/OQBfADkA2v8TAAAA7f85AJgA0QCrAJgAx/+h/2j/Qv8TAO3/x//H/47/x/+0/+3/XwBMAL4ACgF8AaIBMAGYABMAQv+9/nH+qv6X/qr+0P72/tr/OQDkAB0BMAFDAb4AmABfANr/L//j/kL/2v85AOQAVgGPAbUBtQEwAeQAhQDt/2j/Cf97/6H/2v8mAIUAmACFAKsA0QAKATABaQHuAdsBaQH3ANr/tP97/7T/2v+O/+3/EwByADkAAAAAAHv/HP/Q/kv+oP1n/S79G/2N/RL+l/4c/9r/hQBfAF8AcgCYAOQAqwAKAQoBhQCYAEMBogG1AbUBtQGiAUMBHQG+AL4ACgH3ADABXwDH/3v/0P6E/tD+HP9o/+3/mAByAOQAVgFWAfcAvgC+ADkA7f8v/xz/vf5L/nH+S/5L/pf+HP8v/wn/HP/2/kL/HP8l/sb9VP0b/VT9ev1B/VT97P2E/mj/EwBfANEAvgD3AI8BaQGiAdEAEwCO/2j/e/+0/0wA0QAKAUMBjwFDAXwByAFpAQoB5ABfABMATAByACYA7f9fAIUA5ADRAAoBfAEKAasAEwAAAAAA7f8TAF8AmADkAEMBCgHkAIUAtP8J/9D+9v4c/0L/tP+0/3v/HP+9/pf+qv6q/kL/tP97/1X/L/8v/y//Vf+h/1X/aP9o/xz/Cf8J/9D+9v4c/2j/jv8AAEwAXwA5ABMAXwDRAB0BfAHbAZkCmQKsAr8COgIBAnwB0QBMAO3/tP/a/0wAcgD3AOQAMAFWAY8BfAGrAO3/HP+q/tD+Cf9C/7T/tP/H/0wAhQCrAAoBqwAmAO3/x/97/73+0P69/l7+0P5C/y//L//2/kL/Qv8v/0L/Cf8J/73+Xv6E/pf+cf6E/vb+Qv9V//b+L/+O/+3/TACYADkA7f/a/2j/of/a/9r/TAA5AHIAmAAmABMAAAAAAJgAQwG1AbUBfAFDAfcACgEKAasAvgCYABMA7f8AABMAXwByAIUAJgATAAAAx/+O/47/x/97/6H/Cf9o/+3/EwBfAKsA9wD3AB0B5AC+AJgAhQBfAKsA0QDkAOQAvgCYAPcAfAEUAr8CvwKsAoYCrAJNAu4BQwGYAEwAof9C/9D+vf7j/mj/x//t/wAA7f8mAAAAof+h/2j/HP+q/qr+S/6E/nH+4/6h/xMAXwDa/6H/Qv/Q/nH+oP0u/UH9Z/1B/Xr97P1L/oT+qv6q/oT+cf4S/pf+hP69/gn/HP9C/6H/7f8AACYAx/+0/47/x/9MAL4AMAEwAVYBQwEdAQoBvgByAHIAXwByANEA0QAdAXwB2wEBAu4B7gGPAaIBogHbAcgB7gEBAtsByAFWAasAJgCh/yYAXwBMADkAAAAAAO3/EwDt/6H/L//Q/l7+Jf7//f/97P04/oT+qv4J/y//HP/j/i//vf6X/qr+4/72/i//of/t/18AqwCYAHIAJgDH/47/aP+0/8f/EwAAAF8A0QD3AKsAcgCYAIUAmABfAEwAJgATADkAqwDRAL4ACgFpAXwBVgFpAR0BCgH3AJgAXwA5ANr/OQBfAF8AvgCFABMAVf+q/tD+9v7j/uP+vf6E/l7+hP5x/kv+OP44/oT+l/4J/wn/aP9o/1X/L/8c/9D+hP5x/iX+//1x/qr+0P5C/2j/AAAmACYAJgAAACYAXwD3AKIBFAI6Au4BJwIUAgECAQJ8AbUB7gFpATABHQEwAUMBjwFpAfcA0QCrAJgAXwCFAKsAJgCh/7T/7f8mAJgA5ACrAIUAmABMACYA2v+h/3v/jv9o/2j/Qv/j/gn/HP8c/wn/4/6q/uP+HP9o/6H/7f8AAO3/OQBMAAAA2v+h/1X/e//H/zkAvgB8AXwBHQHkAKsAvgDRAHIAmAAKAbUBJwJgAoYCYALuAXwB5ACYAJgAhQCrAJgAJgA5AAAA7f/H/47/aP/j/pf+cf5e/nH+qv72/i//L/9C/47/Cf+X/nH+//0S/qD9Z/1n/VT9xv3Z/Tj+l/5e/pf+4/72/r3+0P7j/lX/2v9yAPcAHQFpAcgB7gHuAScCOgIUAhQC7gEnAjoCOgJgAu4BjwEKAXIAcgCFAEwAmADRAOQA9wBWAaIBOgJzAgECfAEKARMAVf+E/uz9Jf5x/vb+aP+O/3v/of/H/3v/Cf/Q/nH+Xv5e/pf+qv7j/tD+hP6q/oT+0P5C/3v/EwA5ACYAcgBfACYAEwCh/2j/Qv8v/y//HP+O/8f/EwA5AIUAOQAAAAAAx//a/7T/e//H/7T/AAA5AHIA0QC+APcA0QCrAHIAEwDH/47/jv85ANEAQwFDAb4AcgAmADkATAA5AEwAmAATAO3/of+9/kv+s/16/bP9Jf4S/tD+HP8v/1X/Qv9V/73+S/7s/ez9l/6q/mj/AACFAAoBQwHIAaIB7gFgAgEC7gHIAXwBogHuAdsB7gEUAicCAQLIAfcAmABfACYAOQATAKH/tP/t/zkA0QDkAAoB9wAdAUMBjwG1AWkB0QByADkA7f+h/47/Qv9L/hL+Ev5L/l7+l/5C/6H/EwCrAJgAXwAAAFX/hP4l/jj+OP6E/hz/x/+YANEAqwCrAL4ACgGYAMf/vf7//S79vPzi/Hr9hP4c/47/x/+0/7T/OQBMAPcAfAGiAbUBQwH3AL4AmAA5ANr/2v8mAMf/x/8AAHIAHQGPAaIBHQGYADkA7f+h/3v/tP97/8f/XwBMAL4ACgEwAUMB9wDRAF8Ajv/j/pf+S/6E/r3+9v5o/6H/2v++ADABjwEnAicC2wHbAcgBVgHkAF8A7f9o/9D+Cf/2/mj/x//t/18A5ABDATABHQGrADkAOQDt/6H/tP/H/9r/2v+YAL4AHQFpAcgBAQKPATABqwByAAAAof8v/9D+L/9o/8f/OQDt/+3/aP9V/1X/9v6X/pf+vf4J/wn/0P5V/9r/TAByANEA5AC+AJgAhQA5AI7/Qv+q/kv+l/6q/oT+0P4c/wn/4/69/uP+Cf8c/y//HP8c/+P+aP+0/wAAAABMAOQAHQGPATAB5AByAEwAEwDt/47/HP+9/r3+cf69/vb+HP+h/1X/e/9o/2j/HP/Q/r3+Xv6X/pf+cf6E/i//jv/t/yYATACrAIUATAAmAMf/tP+O/47/tP9MAKsA9wBDAUMB2wFzAkQDagNEAwsDTQK1AXwBHQH3AHwBVgFpAWkBjwGPAbUBogFWAdEAhQBfAEwAOQDH/9r/7f85AEwATABfAF8AEwDt/yYATAA5ABMATAA5ACYAof8J/9D+cf5x/nH+OP5L/vb+Vf+h/7T/aP/Q/iX+7P2g/f/9S/6X/oT+vf72/qr+4/6X/nH+Xv5x/kv+hP6q/qr+9v4v/xMAJgA5AHIATABfAHIAXwByAJgAOQByAKsACgFDAVYBHQHkAKsAOQBMAAAAtP+0/7T/2v9fAAoByAFgAqwC+ALlAr8CYALbAWkB9wC+AF8AOQAmAMf/JgBMACYAOQBfAIUAOQA5AAAA7f+O/7T/tP85AOQA9wBWATABvgBfAAAAof9V/47/e/97/y//Cf97/6H/2v/a/+3/2v+O/y//Qv8v/xz/qv6X/kv+hP6q/hz/L/8v/1X/aP85ANEAfAHIAe4BogEwAb4AJgC0/6H/e/+h/0wAmAD3ADAB5AAwAb4AhQDRANEATAB7/+P+qv6X/hz/x//a/wAAJgCh/wn/9v6X/jj+Jf7s/Y39VP16/RL+Xv4J/2j/2v8mADkAmAByACYAJgDt/3v/4/6E/r3+Cf9V/3v/OQCrANEAqwBfAF8AhQCrAAoBCgHRAOQA9wD3AI8B2wEnAk0CjwGPATAB5AD3AIUAOQDH/6H/tP/t/xMAJgATAO3/AABfANEAMAEwAQoB9wC+ADkA7f9V//b+L/+O/8f/XwDRADABMAEwAfcAqwCYAHIAXwDt/xMAJgDH/xz/L/9o/2j/tP/t/3IAXwATAAAAx//t/xMAXwATAAAAEwBo/6H/tP8v/1X/jv9V/+3/2v8mAHIAqwCFAO3/7f/H/3v/Qv9o/xz/Cf8v/1X/of/t/18AcgBfAEwAEwBo/5f+S/7//SX+S/6q/uP+L/9V/xz/e//H/xMATAByADkAJgCO/+P+l/7Z/RL+vf4J/3v/AADt/9r/OQAmAEwAhQBMAAAAtP8v/6r+9v4v/7T/qwBDAWkBVgEwAeQAcgDa/47/e/9o/+3/JgA5AAAAtP9o/0L/tP8AAF8AcgBfAL4A5ABpAY8B7gFgAhQCFAKiAUMBMAFWAcgBFAJgAgECQwFfAAAAOQAmADkAcgByAO3/2v/t/wAAx//a/7T/aP+O/7T/EwBfAOQAvgC+AL4AvgCrADkAAACO/47/e/8TACYAEwA5ABMAOQATAEwAXwAmALT/e/+h/+3/JgAAANr/e//Q/r3+Xv5x/nH+S/5x/l7+cf6E/l7+vf4J/0L/tP8AABMAOQBfADkAOQBfAIUAqwCFAJgAcgA5AHIAmADkAKsATABo/+P+qv5e/iX+cf7j/kL/of+0/8f/AAAAAO3/e/8v/xz/Qv+0/xMAXwCFAIUAJgA5ABMAAAATABMAOQA5AHIAXwCFAKsA9wAwAR0BCgHkAOQA9wD3AB0BMAFpAe4BOgJgAnMCFAKiAUMB0QA5ANr/x/+O/9r/7f8TAHIA5ABDAR0B5ACYACYAJgATANr/of+h/8f/EwCrANEAmABMALT/9v5L/rP9ev1U/Y39oP2g/dn9Jf6X/tD+4/6E/qr+Cf8v/7T/x//t/0wAqwDkAKsATADa/2j/Vf9V/2j/e/97/7T/JgCYAOQAqwCYAF8ATAA5AO3/x/+h/7T/2v85AJgA5ACPAbUBjwFDAasAOQDa/8f/\" type=\"audio/wav\" />\n",
       "                    Your browser does not support the audio element.\n",
       "                </audio>\n",
       "              "
      ],
      "text/plain": [
       "<IPython.lib.display.Audio object>"
      ]
     },
     "execution_count": 27,
     "metadata": {},
     "output_type": "execute_result"
    }
   ],
   "source": [
    "ipd.Audio(all_wave[785], rate=16000)"
   ]
  },
  {
   "cell_type": "code",
   "execution_count": null,
   "metadata": {},
   "outputs": [],
   "source": [
    "all_label[idn]"
   ]
  },
  {
   "cell_type": "code",
   "execution_count": null,
   "metadata": {},
   "outputs": [],
   "source": [
    "all_label[40]"
   ]
  },
  {
   "cell_type": "code",
   "execution_count": 28,
   "metadata": {},
   "outputs": [
    {
     "name": "stdout",
     "output_type": "stream",
     "text": [
      "Saved model to disk\n"
     ]
    }
   ],
   "source": [
    "# lưu kiến trúc của model đã luyện vào file json\n",
    "model_json = model1.to_json()\n",
    "with open(\"model.json\", \"w\") as json_file:\n",
    "    json_file.write(model_json)\n",
    "# lưu các trọng số của model\n",
    "model1.save_weights(\"model.h5\")\n",
    "print(\"Saved model to disk\")"
   ]
  },
  {
   "cell_type": "code",
   "execution_count": null,
   "metadata": {},
   "outputs": [],
   "source": []
  }
 ],
 "metadata": {
  "kernelspec": {
   "display_name": "Python 3",
   "language": "python",
   "name": "python3"
  }
 },
 "nbformat": 4,
 "nbformat_minor": 4
}
