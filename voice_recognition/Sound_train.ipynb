{
 "cells": [
  {
   "cell_type": "code",
   "execution_count": 1,
   "metadata": {},
   "outputs": [
    {
     "name": "stderr",
     "output_type": "stream",
     "text": [
      "c:\\python 3.7\\lib\\site-packages\\librosa\\util\\decorators.py:9: NumbaDeprecationWarning: \u001b[1mAn import was requested from a module that has moved location.\n",
      "Import requested from: 'numba.decorators', please update to use 'numba.core.decorators' or pin to Numba version 0.48.0. This alias will not be present in Numba version 0.50.0.\u001b[0m\n",
      "  from numba.decorators import jit as optional_jit\n",
      "c:\\python 3.7\\lib\\site-packages\\librosa\\util\\decorators.py:9: NumbaDeprecationWarning: \u001b[1mAn import was requested from a module that has moved location.\n",
      "Import of 'jit' requested from: 'numba.decorators', please update to use 'numba.core.decorators' or pin to Numba version 0.48.0. This alias will not be present in Numba version 0.50.0.\u001b[0m\n",
      "  from numba.decorators import jit as optional_jit\n",
      "c:\\python 3.7\\lib\\site-packages\\tensorflow\\python\\framework\\dtypes.py:526: FutureWarning: Passing (type, 1) or '1type' as a synonym of type is deprecated; in a future version of numpy, it will be understood as (type, (1,)) / '(1,)type'.\n",
      "  _np_qint8 = np.dtype([(\"qint8\", np.int8, 1)])\n",
      "c:\\python 3.7\\lib\\site-packages\\tensorflow\\python\\framework\\dtypes.py:527: FutureWarning: Passing (type, 1) or '1type' as a synonym of type is deprecated; in a future version of numpy, it will be understood as (type, (1,)) / '(1,)type'.\n",
      "  _np_quint8 = np.dtype([(\"quint8\", np.uint8, 1)])\n",
      "c:\\python 3.7\\lib\\site-packages\\tensorflow\\python\\framework\\dtypes.py:528: FutureWarning: Passing (type, 1) or '1type' as a synonym of type is deprecated; in a future version of numpy, it will be understood as (type, (1,)) / '(1,)type'.\n",
      "  _np_qint16 = np.dtype([(\"qint16\", np.int16, 1)])\n",
      "c:\\python 3.7\\lib\\site-packages\\tensorflow\\python\\framework\\dtypes.py:529: FutureWarning: Passing (type, 1) or '1type' as a synonym of type is deprecated; in a future version of numpy, it will be understood as (type, (1,)) / '(1,)type'.\n",
      "  _np_quint16 = np.dtype([(\"quint16\", np.uint16, 1)])\n",
      "c:\\python 3.7\\lib\\site-packages\\tensorflow\\python\\framework\\dtypes.py:530: FutureWarning: Passing (type, 1) or '1type' as a synonym of type is deprecated; in a future version of numpy, it will be understood as (type, (1,)) / '(1,)type'.\n",
      "  _np_qint32 = np.dtype([(\"qint32\", np.int32, 1)])\n",
      "c:\\python 3.7\\lib\\site-packages\\tensorflow\\python\\framework\\dtypes.py:535: FutureWarning: Passing (type, 1) or '1type' as a synonym of type is deprecated; in a future version of numpy, it will be understood as (type, (1,)) / '(1,)type'.\n",
      "  np_resource = np.dtype([(\"resource\", np.ubyte, 1)])\n"
     ]
    }
   ],
   "source": [
    "import os\n",
    "import librosa   #thư viện xủ lý tín hiệu âm thanh\n",
    "import IPython.display as ipd\n",
    "import matplotlib.pyplot as plt\n",
    "import numpy as np\n",
    "from scipy.io import wavfile #để đọc file wav \n",
    "import warnings\n",
    "import tensorflow as tf\n",
    "warnings.filterwarnings(\"ignore\")"
   ]
  },
  {
   "cell_type": "code",
   "execution_count": 2,
   "metadata": {},
   "outputs": [
    {
     "name": "stdout",
     "output_type": "stream",
     "text": [
      "0\n",
      "1\n",
      "2\n",
      "3\n",
      "4\n",
      "5\n",
      "6\n",
      "7\n",
      "8\n",
      "9\n",
      "noise\n"
     ]
    }
   ],
   "source": [
    "train_audio_path = 'D:/DATA/voice/train/audio/'\n",
    "labels=os.listdir(train_audio_path)\n",
    "\n",
    "all_wave = []\n",
    "all_label = []\n",
    "all_chroma = []\n",
    "for label in labels:\n",
    "    print(label)\n",
    "    waves = [f for f in os.listdir(train_audio_path + '/'+ label) if f.endswith('.wav')]\n",
    "    for wav in waves:\n",
    "        samples, sample_rate = librosa.load(train_audio_path + '/' + label + '/' + wav, sr = 16000)\n",
    "#         samples = librosa.resample(samples, sample_rate, 16000)\n",
    "        \n",
    "        leng = len(samples)\n",
    "        \n",
    "        samples = samples[leng-23000:leng-1000]# number of samples =22000 equals 1.375 seconds\n",
    "        chroma = librosa.feature.chroma_stft(y=samples, sr=16000)\n",
    "#         print((chroma.shape))\n",
    "#         if len(samples) ==22000:\n",
    "        all_wave.append(samples)\n",
    "        all_chroma.append(chroma)\n",
    "        all_label.append(label)"
   ]
  },
  {
   "cell_type": "code",
   "execution_count": 3,
   "metadata": {},
   "outputs": [
    {
     "name": "stdout",
     "output_type": "stream",
     "text": [
      "(100, 12, 43)\n"
     ]
    },
    {
     "data": {
      "text/plain": [
       "array([ 0.311615  ,  0.3819275 ,  0.93463135, ...,  0.06591797,\n",
       "       -0.22793579,  0.12792969], dtype=float32)"
      ]
     },
     "execution_count": 3,
     "metadata": {},
     "output_type": "execute_result"
    }
   ],
   "source": [
    "all_chroma = np.array(all_chroma)\n",
    "print(all_chroma.shape)\n",
    "samples"
   ]
  },
  {
   "cell_type": "code",
   "execution_count": 4,
   "metadata": {
    "scrolled": true
   },
   "outputs": [
    {
     "name": "stdout",
     "output_type": "stream",
     "text": [
      "6\n"
     ]
    },
    {
     "data": {
      "image/png": "[encoded data removed]",
      "text/plain": [
       "<Figure size 720x288 with 2 Axes>"
      ]
     },
     "metadata": {
      "needs_background": "light"
     },
     "output_type": "display_data"
    }
   ],
   "source": [
    "import matplotlib.pyplot as plt\n",
    "import librosa.display\n",
    "\n",
    "testID = 61\n",
    "print(all_label[testID])\n",
    "chroma = all_chroma[testID]\n",
    "\n",
    "plt.figure(figsize=(10, 4))\n",
    "librosa.display.specshow(chroma, y_axis='chroma', x_axis='time')\n",
    "plt.colorbar()\n",
    "plt.title('Chromagram')\n",
    "plt.tight_layout()\n",
    "plt.show()\n"
   ]
  },
  {
   "cell_type": "code",
   "execution_count": null,
   "metadata": {},
   "outputs": [],
   "source": []
  },
  {
   "cell_type": "code",
   "execution_count": 5,
   "metadata": {},
   "outputs": [
    {
     "name": "stderr",
     "output_type": "stream",
     "text": [
      "Using TensorFlow backend.\n"
     ]
    }
   ],
   "source": [
    "from sklearn.preprocessing import LabelEncoder\n",
    "le = LabelEncoder()\n",
    "y=le.fit_transform(all_label)\n",
    "classes= list(le.classes_)\n",
    "from keras.utils import np_utils\n",
    "y=np_utils.to_categorical(y, num_classes=len(labels))\n",
    "all_chroma = np.array(all_chroma).reshape(-1,12,43,1)\n",
    "from sklearn.model_selection import train_test_split\n",
    "x_tr, x_val, y_tr, y_val = train_test_split(np.array(all_chroma),np.array(y),stratify=y,test_size = 0.2,random_state=777,shuffle=True)"
   ]
  },
  {
   "cell_type": "code",
   "execution_count": 6,
   "metadata": {},
   "outputs": [
    {
     "data": {
      "text/plain": [
       "(12, 43, 1)"
      ]
     },
     "execution_count": 6,
     "metadata": {},
     "output_type": "execute_result"
    }
   ],
   "source": [
    "all_chroma[1].shape"
   ]
  },
  {
   "cell_type": "code",
   "execution_count": 7,
   "metadata": {},
   "outputs": [
    {
     "name": "stdout",
     "output_type": "stream",
     "text": [
      "1.13.1\n"
     ]
    }
   ],
   "source": [
    "print(tf.__version__)"
   ]
  },
  {
   "cell_type": "code",
   "execution_count": 8,
   "metadata": {},
   "outputs": [
    {
     "data": {
      "text/plain": [
       "(80, 12, 43, 1)"
      ]
     },
     "execution_count": 8,
     "metadata": {},
     "output_type": "execute_result"
    }
   ],
   "source": [
    "x_tr.shape"
   ]
  },
  {
   "cell_type": "code",
   "execution_count": 9,
   "metadata": {},
   "outputs": [
    {
     "name": "stdout",
     "output_type": "stream",
     "text": [
      "WARNING:tensorflow:From c:\\python 3.7\\lib\\site-packages\\tensorflow\\python\\ops\\resource_variable_ops.py:435: colocate_with (from tensorflow.python.framework.ops) is deprecated and will be removed in a future version.\n",
      "Instructions for updating:\n",
      "Colocations handled automatically by placer.\n",
      "Model: \"sequential_1\"\n",
      "_________________________________________________________________\n",
      "Layer (type)                 Output Shape              Param #   \n",
      "=================================================================\n",
      "conv2d_1 (Conv2D)            (None, 6, 22, 8)          1160      \n",
      "_________________________________________________________________\n",
      "leaky_re_lu_1 (LeakyReLU)    (None, 6, 22, 8)          0         \n",
      "_________________________________________________________________\n",
      "max_pooling2d_1 (MaxPooling2 (None, 3, 11, 8)          0         \n",
      "_________________________________________________________________\n",
      "conv2d_2 (Conv2D)            (None, 3, 11, 16)         4624      \n",
      "_________________________________________________________________\n",
      "leaky_re_lu_2 (LeakyReLU)    (None, 3, 11, 16)         0         \n",
      "_________________________________________________________________\n",
      "max_pooling2d_2 (MaxPooling2 (None, 1, 5, 16)          0         \n",
      "_________________________________________________________________\n",
      "flatten_1 (Flatten)          (None, 80)                0         \n",
      "_________________________________________________________________\n",
      "dropout_1 (Dropout)          (None, 80)                0         \n",
      "_________________________________________________________________\n",
      "dense_1 (Dense)              (None, 11)                891       \n",
      "_________________________________________________________________\n",
      "activation_1 (Activation)    (None, 11)                0         \n",
      "=================================================================\n",
      "Total params: 6,675\n",
      "Trainable params: 6,675\n",
      "Non-trainable params: 0\n",
      "_________________________________________________________________\n"
     ]
    }
   ],
   "source": [
    "#thiết kế mô hình deep learning\n",
    "from keras.models import Model, Sequential\n",
    "from keras.layers import *\n",
    "from keras.activations import *\n",
    "from keras.optimizers import Adam,RMSprop,SGD\n",
    "model1 = Sequential()\n",
    "\n",
    "model1.add(Conv2D(8, kernel_size=(12, 12), strides= (2, 2), padding='same',data_format='channels_last',input_shape=( 12, 43,1)))\n",
    "model1.add(LeakyReLU(alpha=0.1))\n",
    "model1.add(MaxPooling2D(pool_size=(2, 2)))\n",
    "\n",
    "model1.add(Conv2D(16, kernel_size=(6, 6), strides= (1, 1), padding='same'))\n",
    "model1.add(LeakyReLU(alpha=0.1))\n",
    "model1.add(MaxPooling2D(pool_size=(2, 2)))\n",
    "\n",
    "model1.add(Flatten())\n",
    "model1.add(Dropout(0.1))\n",
    "model1.add(Dense(11))\n",
    "model1.add(Activation('sigmoid'))\n",
    "optimizer = Adam(lr=0.001)\n",
    "opt = SGD(lr=0.01, momentum=0.9)\n",
    "model1.compile(loss='categorical_crossentropy',optimizer=opt,metrics=['accuracy'])\n",
    "model1.summary()"
   ]
  },
  {
   "cell_type": "code",
   "execution_count": 10,
   "metadata": {},
   "outputs": [
    {
     "name": "stdout",
     "output_type": "stream",
     "text": [
      "WARNING:tensorflow:From c:\\python 3.7\\lib\\site-packages\\tensorflow\\python\\ops\\math_ops.py:3066: to_int32 (from tensorflow.python.ops.math_ops) is deprecated and will be removed in a future version.\n",
      "Instructions for updating:\n",
      "Use tf.cast instead.\n",
      "Epoch 1/100\n",
      "80/80 [==============================] - 1s 14ms/step - loss: 2.4085 - accuracy: 0.0875\n",
      "Epoch 2/100\n",
      "80/80 [==============================] - 0s 362us/step - loss: 2.3989 - accuracy: 0.0875\n",
      "Epoch 3/100\n",
      "80/80 [==============================] - 0s 374us/step - loss: 2.3870 - accuracy: 0.1625\n",
      "Epoch 4/100\n",
      "80/80 [==============================] - 0s 361us/step - loss: 2.3831 - accuracy: 0.1250\n",
      "Epoch 5/100\n",
      "80/80 [==============================] - 0s 337us/step - loss: 2.3752 - accuracy: 0.1250\n",
      "Epoch 6/100\n",
      "80/80 [==============================] - 0s 312us/step - loss: 2.3685 - accuracy: 0.1125\n",
      "Epoch 7/100\n",
      "80/80 [==============================] - 0s 337us/step - loss: 2.3553 - accuracy: 0.2250\n",
      "Epoch 8/100\n",
      "80/80 [==============================] - 0s 299us/step - loss: 2.3552 - accuracy: 0.1250\n",
      "Epoch 9/100\n",
      "80/80 [==============================] - 0s 299us/step - loss: 2.3441 - accuracy: 0.1500\n",
      "Epoch 10/100\n",
      "80/80 [==============================] - 0s 312us/step - loss: 2.3384 - accuracy: 0.1875\n",
      "Epoch 11/100\n",
      "80/80 [==============================] - 0s 299us/step - loss: 2.3215 - accuracy: 0.2500\n",
      "Epoch 12/100\n",
      "80/80 [==============================] - 0s 312us/step - loss: 2.3054 - accuracy: 0.2125\n",
      "Epoch 13/100\n",
      "80/80 [==============================] - 0s 299us/step - loss: 2.2782 - accuracy: 0.1875\n",
      "Epoch 14/100\n",
      "80/80 [==============================] - 0s 312us/step - loss: 2.2326 - accuracy: 0.2500\n",
      "Epoch 15/100\n",
      "80/80 [==============================] - 0s 299us/step - loss: 2.2437 - accuracy: 0.2250\n",
      "Epoch 16/100\n",
      "80/80 [==============================] - 0s 287us/step - loss: 2.1622 - accuracy: 0.2750\n",
      "Epoch 17/100\n",
      "80/80 [==============================] - 0s 312us/step - loss: 2.1358 - accuracy: 0.2125\n",
      "Epoch 18/100\n",
      "80/80 [==============================] - 0s 312us/step - loss: 2.1058 - accuracy: 0.2250\n",
      "Epoch 19/100\n",
      "80/80 [==============================] - 0s 349us/step - loss: 1.9916 - accuracy: 0.3375\n",
      "Epoch 20/100\n",
      "80/80 [==============================] - 0s 312us/step - loss: 1.8932 - accuracy: 0.4000\n",
      "Epoch 21/100\n",
      "80/80 [==============================] - 0s 312us/step - loss: 1.8694 - accuracy: 0.3125\n",
      "Epoch 22/100\n",
      "80/80 [==============================] - 0s 312us/step - loss: 1.8678 - accuracy: 0.3750\n",
      "Epoch 23/100\n",
      "80/80 [==============================] - 0s 312us/step - loss: 1.5837 - accuracy: 0.5250\n",
      "Epoch 24/100\n",
      "80/80 [==============================] - 0s 299us/step - loss: 1.4914 - accuracy: 0.4875\n",
      "Epoch 25/100\n",
      "80/80 [==============================] - 0s 324us/step - loss: 1.4051 - accuracy: 0.5125\n",
      "Epoch 26/100\n",
      "80/80 [==============================] - 0s 299us/step - loss: 1.2757 - accuracy: 0.6000\n",
      "Epoch 27/100\n",
      "80/80 [==============================] - 0s 299us/step - loss: 1.0385 - accuracy: 0.6750\n",
      "Epoch 28/100\n",
      "80/80 [==============================] - 0s 324us/step - loss: 0.9991 - accuracy: 0.7125\n",
      "Epoch 29/100\n",
      "80/80 [==============================] - 0s 287us/step - loss: 0.8717 - accuracy: 0.7500\n",
      "Epoch 30/100\n",
      "80/80 [==============================] - 0s 312us/step - loss: 0.8363 - accuracy: 0.7250\n",
      "Epoch 31/100\n",
      "80/80 [==============================] - 0s 312us/step - loss: 0.6610 - accuracy: 0.8000\n",
      "Epoch 32/100\n",
      "80/80 [==============================] - 0s 299us/step - loss: 0.5736 - accuracy: 0.8125\n",
      "Epoch 33/100\n",
      "80/80 [==============================] - 0s 312us/step - loss: 0.6043 - accuracy: 0.8125\n",
      "Epoch 34/100\n",
      "80/80 [==============================] - 0s 299us/step - loss: 0.5886 - accuracy: 0.8000\n",
      "Epoch 35/100\n",
      "80/80 [==============================] - 0s 312us/step - loss: 0.4807 - accuracy: 0.8750\n",
      "Epoch 36/100\n",
      "80/80 [==============================] - 0s 312us/step - loss: 0.4276 - accuracy: 0.8625\n",
      "Epoch 37/100\n",
      "80/80 [==============================] - 0s 299us/step - loss: 0.3128 - accuracy: 0.9250\n",
      "Epoch 38/100\n",
      "80/80 [==============================] - 0s 312us/step - loss: 0.2335 - accuracy: 0.9375\n",
      "Epoch 39/100\n",
      "80/80 [==============================] - 0s 287us/step - loss: 0.2639 - accuracy: 0.9000\n",
      "Epoch 40/100\n",
      "80/80 [==============================] - 0s 312us/step - loss: 0.1767 - accuracy: 0.9875\n",
      "Epoch 41/100\n",
      "80/80 [==============================] - 0s 312us/step - loss: 0.1823 - accuracy: 0.9625\n",
      "Epoch 42/100\n",
      "80/80 [==============================] - 0s 299us/step - loss: 0.1583 - accuracy: 0.9500\n",
      "Epoch 43/100\n",
      "80/80 [==============================] - 0s 312us/step - loss: 0.1658 - accuracy: 0.9500\n",
      "Epoch 44/100\n",
      "80/80 [==============================] - 0s 287us/step - loss: 0.1435 - accuracy: 0.9625\n",
      "Epoch 45/100\n",
      "80/80 [==============================] - 0s 324us/step - loss: 0.0968 - accuracy: 1.0000\n",
      "Epoch 46/100\n",
      "80/80 [==============================] - 0s 299us/step - loss: 0.2443 - accuracy: 0.9125\n",
      "Epoch 47/100\n",
      "80/80 [==============================] - 0s 299us/step - loss: 0.1973 - accuracy: 0.9625\n",
      "Epoch 48/100\n",
      "80/80 [==============================] - 0s 324us/step - loss: 0.1736 - accuracy: 0.9375\n",
      "Epoch 49/100\n",
      "80/80 [==============================] - 0s 299us/step - loss: 0.1172 - accuracy: 0.9625\n",
      "Epoch 50/100\n",
      "80/80 [==============================] - 0s 324us/step - loss: 0.1261 - accuracy: 0.9625\n",
      "Epoch 51/100\n",
      "80/80 [==============================] - 0s 299us/step - loss: 0.0851 - accuracy: 0.9750\n",
      "Epoch 52/100\n",
      "80/80 [==============================] - 0s 312us/step - loss: 0.1088 - accuracy: 0.9750\n",
      "Epoch 53/100\n",
      "80/80 [==============================] - 0s 312us/step - loss: 0.0741 - accuracy: 0.9875\n",
      "Epoch 54/100\n",
      "80/80 [==============================] - 0s 349us/step - loss: 0.0313 - accuracy: 1.0000\n",
      "Epoch 55/100\n",
      "80/80 [==============================] - 0s 287us/step - loss: 0.0434 - accuracy: 0.9875\n",
      "Epoch 56/100\n",
      "80/80 [==============================] - 0s 337us/step - loss: 0.0827 - accuracy: 0.9875\n",
      "Epoch 57/100\n",
      "80/80 [==============================] - 0s 337us/step - loss: 0.0550 - accuracy: 0.9875\n",
      "Epoch 58/100\n",
      "80/80 [==============================] - 0s 299us/step - loss: 0.0536 - accuracy: 0.9875\n",
      "Epoch 59/100\n",
      "80/80 [==============================] - 0s 312us/step - loss: 0.0408 - accuracy: 1.0000\n",
      "Epoch 60/100\n",
      "80/80 [==============================] - 0s 312us/step - loss: 0.0614 - accuracy: 0.9875\n",
      "Epoch 61/100\n",
      "80/80 [==============================] - 0s 287us/step - loss: 0.0583 - accuracy: 0.9750\n",
      "Epoch 62/100\n",
      "80/80 [==============================] - 0s 312us/step - loss: 0.0596 - accuracy: 0.9750\n",
      "Epoch 63/100\n",
      "80/80 [==============================] - 0s 299us/step - loss: 0.0778 - accuracy: 0.9875\n",
      "Epoch 64/100\n",
      "80/80 [==============================] - 0s 312us/step - loss: 0.0789 - accuracy: 0.9750\n",
      "Epoch 65/100\n",
      "80/80 [==============================] - 0s 299us/step - loss: 0.0594 - accuracy: 0.9875\n",
      "Epoch 66/100\n",
      "80/80 [==============================] - 0s 299us/step - loss: 0.0751 - accuracy: 0.9875\n",
      "Epoch 67/100\n",
      "80/80 [==============================] - 0s 312us/step - loss: 0.0276 - accuracy: 1.0000\n",
      "Epoch 68/100\n",
      "80/80 [==============================] - 0s 299us/step - loss: 0.0705 - accuracy: 0.9750\n",
      "Epoch 69/100\n",
      "80/80 [==============================] - 0s 312us/step - loss: 0.0660 - accuracy: 0.9875\n",
      "Epoch 70/100\n",
      "80/80 [==============================] - 0s 312us/step - loss: 0.0430 - accuracy: 0.9750\n",
      "Epoch 71/100\n",
      "80/80 [==============================] - 0s 287us/step - loss: 0.0258 - accuracy: 1.0000\n",
      "Epoch 72/100\n",
      "80/80 [==============================] - 0s 312us/step - loss: 0.0314 - accuracy: 1.0000\n",
      "Epoch 73/100\n",
      "80/80 [==============================] - 0s 287us/step - loss: 0.0208 - accuracy: 1.0000\n",
      "Epoch 74/100\n",
      "80/80 [==============================] - 0s 299us/step - loss: 0.0277 - accuracy: 1.0000\n",
      "Epoch 75/100\n",
      "80/80 [==============================] - 0s 312us/step - loss: 0.0652 - accuracy: 0.9750\n",
      "Epoch 76/100\n",
      "80/80 [==============================] - 0s 324us/step - loss: 0.1111 - accuracy: 0.9750\n",
      "Epoch 77/100\n",
      "80/80 [==============================] - 0s 299us/step - loss: 0.0397 - accuracy: 1.0000\n",
      "Epoch 78/100\n",
      "80/80 [==============================] - 0s 287us/step - loss: 0.0321 - accuracy: 0.9875\n",
      "Epoch 79/100\n"
     ]
    },
    {
     "name": "stdout",
     "output_type": "stream",
     "text": [
      "80/80 [==============================] - 0s 324us/step - loss: 0.0264 - accuracy: 1.0000\n",
      "Epoch 80/100\n",
      "80/80 [==============================] - 0s 299us/step - loss: 0.0111 - accuracy: 1.0000\n",
      "Epoch 81/100\n",
      "80/80 [==============================] - 0s 287us/step - loss: 0.0127 - accuracy: 1.0000\n",
      "Epoch 82/100\n",
      "80/80 [==============================] - 0s 299us/step - loss: 0.0150 - accuracy: 1.0000\n",
      "Epoch 83/100\n",
      "80/80 [==============================] - 0s 287us/step - loss: 0.0120 - accuracy: 1.0000\n",
      "Epoch 84/100\n",
      "80/80 [==============================] - 0s 312us/step - loss: 0.0091 - accuracy: 1.0000\n",
      "Epoch 85/100\n",
      "80/80 [==============================] - 0s 287us/step - loss: 0.0125 - accuracy: 1.0000\n",
      "Epoch 86/100\n",
      "80/80 [==============================] - 0s 299us/step - loss: 0.0102 - accuracy: 1.0000\n",
      "Epoch 87/100\n",
      "80/80 [==============================] - 0s 287us/step - loss: 0.0113 - accuracy: 1.0000\n",
      "Epoch 88/100\n",
      "80/80 [==============================] - 0s 312us/step - loss: 0.0119 - accuracy: 1.0000\n",
      "Epoch 89/100\n",
      "80/80 [==============================] - 0s 299us/step - loss: 0.0152 - accuracy: 1.0000\n",
      "Epoch 90/100\n",
      "80/80 [==============================] - 0s 312us/step - loss: 0.0281 - accuracy: 0.9875\n",
      "Epoch 91/100\n",
      "80/80 [==============================] - 0s 299us/step - loss: 0.0353 - accuracy: 0.9875\n",
      "Epoch 92/100\n",
      "80/80 [==============================] - 0s 287us/step - loss: 0.0133 - accuracy: 1.0000\n",
      "Epoch 93/100\n",
      "80/80 [==============================] - 0s 337us/step - loss: 0.0143 - accuracy: 1.0000\n",
      "Epoch 94/100\n",
      "80/80 [==============================] - 0s 299us/step - loss: 0.0153 - accuracy: 1.0000\n",
      "Epoch 95/100\n",
      "80/80 [==============================] - 0s 312us/step - loss: 0.0083 - accuracy: 1.0000\n",
      "Epoch 96/100\n",
      "80/80 [==============================] - 0s 299us/step - loss: 0.0200 - accuracy: 0.9875\n",
      "Epoch 97/100\n",
      "80/80 [==============================] - 0s 274us/step - loss: 0.0195 - accuracy: 1.0000\n",
      "Epoch 98/100\n",
      "80/80 [==============================] - 0s 299us/step - loss: 0.0099 - accuracy: 1.0000\n",
      "Epoch 99/100\n",
      "80/80 [==============================] - 0s 511us/step - loss: 0.0318 - accuracy: 1.0000\n",
      "Epoch 100/100\n",
      "80/80 [==============================] - 0s 324us/step - loss: 0.0075 - accuracy: 1.0000\n"
     ]
    }
   ],
   "source": [
    "#luyện mô hình \n",
    "classifier = model1.fit(x_tr,\n",
    "                    y_tr,\n",
    "                    epochs=100,\n",
    "                    batch_size=10)"
   ]
  },
  {
   "cell_type": "code",
   "execution_count": 11,
   "metadata": {},
   "outputs": [
    {
     "data": {
      "text/plain": [
       "array([1.0728836e-06, 0.0000000e+00, 6.8545341e-07, 8.1956387e-06,\n",
       "       3.3138686e-01, 6.0141087e-05, 2.8312206e-06, 6.9439411e-06,\n",
       "       3.6954880e-06, 0.0000000e+00, 2.8952956e-04], dtype=float32)"
      ]
     },
     "execution_count": 11,
     "metadata": {},
     "output_type": "execute_result"
    }
   ],
   "source": [
    "#kiểm tra mô hình sau khi luyện\n",
    "model1.predict(all_chroma)[40]"
   ]
  },
  {
   "cell_type": "code",
   "execution_count": null,
   "metadata": {},
   "outputs": [],
   "source": []
  },
  {
   "cell_type": "code",
   "execution_count": null,
   "metadata": {},
   "outputs": [],
   "source": []
  },
  {
   "cell_type": "code",
   "execution_count": 12,
   "metadata": {},
   "outputs": [
    {
     "data": {
      "text/plain": [
       "'4'"
      ]
     },
     "execution_count": 12,
     "metadata": {},
     "output_type": "execute_result"
    }
   ],
   "source": [
    "all_label[40]"
   ]
  },
  {
   "cell_type": "code",
   "execution_count": 13,
   "metadata": {},
   "outputs": [
    {
     "name": "stdout",
     "output_type": "stream",
     "text": [
      "Saved model to disk\n"
     ]
    }
   ],
   "source": [
    "# lưu kiến trúc của model đã luyện vào file json\n",
    "model_json = model1.to_json()\n",
    "with open(\"model.json\", \"w\") as json_file:\n",
    "    json_file.write(model_json)\n",
    "# lưu các trọng số của model\n",
    "model1.save_weights(\"model.h5\")\n",
    "print(\"Saved model to disk\")"
   ]
  },
  {
   "cell_type": "code",
   "execution_count": null,
   "metadata": {},
   "outputs": [],
   "source": []
  }
 ],
 "metadata": {
  "kernelspec": {
   "display_name": "Python 3",
   "language": "python",
   "name": "python3"
  },
  "language_info": {
   "codemirror_mode": {
    "name": "ipython",
    "version": 3
   },
   "file_extension": ".py",
   "mimetype": "text/x-python",
   "name": "python",
   "nbconvert_exporter": "python",
   "pygments_lexer": "ipython3",
   "version": "3.7.0"
  }
 },
 "nbformat": 4,
 "nbformat_minor": 4
}
