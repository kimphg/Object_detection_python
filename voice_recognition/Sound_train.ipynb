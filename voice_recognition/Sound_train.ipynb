{
 "cells": [
  {
   "cell_type": "code",
   "execution_count": 5,
   "metadata": {},
   "outputs": [
    {
     "name": "stderr",
     "output_type": "stream",
     "text": [
      "Using TensorFlow backend.\n"
     ]
    }
   ],
   "source": [
    "import os\n",
    "import librosa   #thư viện xủ lý tín hiệu âm thanh\n",
    "import IPython.display as ipd\n",
    "import matplotlib.pyplot as plt\n",
    "import numpy as np\n",
    "from scipy.io import wavfile #để đọc file wav \n",
    "import warnings\n",
    "import tensorflow as tf\n",
    "warnings.filterwarnings(\"ignore\")\n",
    "from keras.callbacks import TensorBoard, ModelCheckpoint, LearningRateScheduler\n",
    "train_audio_path = 'D:/DIGIREG/DATA/'\n",
    "labels=os.listdir(train_audio_path)"
   ]
  },
  {
   "cell_type": "code",
   "execution_count": 3,
   "metadata": {},
   "outputs": [
    {
     "name": "stdout",
     "output_type": "stream",
     "text": [
      "Label: 0\n",
      "Label: 1\n",
      "Label: 2\n",
      "Label: 3\n",
      "Label: 4\n",
      "Label: 5\n",
      "Label: 6\n",
      "Label: 7\n",
      "Label: 8\n",
      "Label: 9\n",
      "Label: noise\n"
     ]
    }
   ],
   "source": [
    "from numpy import save\n",
    "from numpy import asarray\n",
    "\n",
    "WORD = 6000\n",
    "WORD_HALF = int(WORD/2)\n",
    "CHUNK = 10000 \n",
    "all_wave = []\n",
    "all_label = []\n",
    "all_feature = []\n",
    "for label in labels:\n",
    "    print(\"Label:\",label)\n",
    "    waves = [f for f in os.listdir(train_audio_path + '/'+ label) if f.endswith('.wav')]\n",
    "    for wav in waves:\n",
    "        \n",
    "        samples, sample_rate = librosa.load(train_audio_path + '/' + label + '/' + wav, sr = 16000)\n",
    "#         samples = librosa.resample(samples, sample_rate, 16000)\n",
    "        \n",
    "        leng = len(samples)\n",
    "        chunk_count = int(leng/CHUNK)\n",
    "        word_count = 0\n",
    "        for i in range(0,chunk_count):\n",
    "            data = samples[i*CHUNK:(i+2)*CHUNK]\n",
    "            mean = np.mean(data)\n",
    "            energy = abs(data)\n",
    "            value = 0\n",
    "            max_val = 0\n",
    "            max_idn = 0\n",
    "            for idn in range(0,len(energy)):\n",
    "                value += (energy[idn]-value)/1000\n",
    "                if (idn>WORD_HALF) & (idn<(len(data)-WORD_HALF )):\n",
    "                    if max_val<value:\n",
    "                        max_val = value\n",
    "                        max_idn = idn\n",
    "            if max_val>(mean*4):\n",
    "                word_count = word_count+1\n",
    "                data = data[max_idn-WORD_HALF:max_idn+WORD_HALF]\n",
    "#                 feature_vector = librosa.feature.melspectrogram(y=data, sr=16000)[:40]\n",
    "#                 feature_vector = librosa.feature.chroma_stft(y=data, sr=16000)\n",
    "                all_wave.append(data)\n",
    "#                 all_feature.append(feature_vector)\n",
    "                all_label.append(label)\n",
    "#         print(chunk_count,\" \",word_count)\n",
    "save('all_wave', all_wave)\n",
    "#save('all_feature', all_feature)\n",
    "save('all_label', all_label)"
   ]
  },
  {
   "cell_type": "code",
   "execution_count": null,
   "metadata": {},
   "outputs": [],
   "source": []
  },
  {
   "cell_type": "code",
   "execution_count": 5,
   "metadata": {},
   "outputs": [
    {
     "name": "stdout",
     "output_type": "stream",
     "text": [
      "4594\n",
      "2.2413196092287633\n"
     ]
    },
    {
     "data": {
      "image/png": "[encoded data removed]",
      "text/plain": [
       "<Figure size 432x288 with 1 Axes>"
      ]
     },
     "metadata": {
      "needs_background": "light"
     },
     "output_type": "display_data"
    }
   ],
   "source": [
    "#test code\n",
    "testId = 160\n",
    "energy = abs(all_wave[testId])\n",
    "mean =np.mean(energy)\n",
    "value = 0\n",
    "max_val = 0\n",
    "max_idn = 0\n",
    "for idn in range(0,len(energy)):\n",
    "    value += (energy[idn]-value)/1000\n",
    "    if max_val<value:\n",
    "        max_val = value\n",
    "        max_idn = idn\n",
    "plt.plot(energy)\n",
    "print(max_idn)\n",
    "print(max_val/mean)\n",
    "# mean = np.mean(energy)*2\n",
    "# cfar = [1 if e > mean else 0 for e in energy]\n",
    "# plt.plot(cfar)"
   ]
  },
  {
   "cell_type": "code",
   "execution_count": 6,
   "metadata": {},
   "outputs": [
    {
     "data": {
      "text/html": [
       "\n",
       "                <audio  controls=\"controls\" >\n",
       "                    <source src=\"data:audio/wav;base64,UklGRgQvAABXQVZFZm10IBAAAAABAAEAgD4AAAB9AAACABAAZGF0YeAuAAAfADQANgA4ACAAKwA2ACcAMQAiABYAFQAAAPz/AAAAABAAAQD//woA+v8PAAYA9f8CAAYAAgD5/xkADgAUABcACAAbAAwA6v/Z/+r/4v/h/93/7v8NAAMA/f/8/wkADQAWACcAEQANAA0A/P8NAAkA5v/v//z/6v/i/9T/7//u/9n////w/8r/1f/g/8j/4P/5//r/AQDx/+z/+v8KAAIA+f/2/wEA9v/n//f/6//l/+L/6v/i/9j/3f/h//P/6v8AABYAAAANABYA/P/0//z/9P/3/xcAFAAKABAADwD6/9r/1v/1//b/3//t/+z/+v8GABkAHAAvADYAJgA6AAMA+P8DAAkACAD0/+7/7//u/9T/6v/q/9n/2P/Z//P/7//c//T/8v/e/9f/zP/B/7L/uP+6/8//4v/8//P/+P/8/+v/AwAAAAAA+P8DAPT/7v8AAPj/8//4/wgA+f8QACkAKgAlAA8ALwAuAB0AJQAhABwADwAlABwACwABAPv/DgARABEAKAAwACgAKwA2AEUATABKAD8APABDAEEAFwAQABIADAAoACMAFgAsADUAMAA+ACMAJwA1ACwAKAAaAA0AEQASAAMAFgAVABcAFQAkABUAEgAVABYAGgAAADoAHgATABAAHAAcABgANgADABsADADn/+T/BgD2/9//zf/K//T/z//Q/9D/0//Z/9f/yP+r/5z/pv/E/8r/xP/G/+f/4f/i/wwAEgAEAPz/BAD3/9T/4f/4//f/CQARAAkACAD0/+7/5v/u//T/7v/i/8v/1f/P/+b//P8EAA0ACQAIABEADQAAABYACAASAAgACQAMAPT/BwD4//f/DgAaAAkAFQANAA0AGgAbACcACQAMAB8AGQD9/wgAHwAaABYAJwANAPP/7v/Q/+7/5//p//D/5P/w/9P/xP/p/+j/xf/j/+3/7P/2/+z/6f/w//v/AQAAAP3/9//r/wgAAAAJACwAJAArADEAMAAxAC8AHwAwACQAKwBCAEIASwA6AEYANgAZAA4A8f/s/+3/3//S/8n/t/+z/7v/vP/E/7f/rv+3/8n/1v/b/9//5P/s/+T/4//c/+f/6f/V/9z/4v/z/wkA/P/v/+r/7v/r//P/EgAQACQAIgATABkAEwAQACkALwApAEEAKABKAFAAMAA6ACwAHgAsAEYAIwAeABIAAwAAAO7/AAARAAQAAAAaAP3/7v/w/+7//f/t/woAAwDe/9v/xP/O/8T/uP/R/9z/4v/T/8P/0//Z/9P/3v/h/9n/3P/r/9z/0P/Y/8v/uf/L/8v/uf+6/8//8P/T/9r/8v8BAPr/zf/j/+3/2v/k/wEA9v/j/+j/6P/b/+j/BgAUABsADAAoACMAHgBDAEEATAA0ADIASQBsAF8AUQB6AFEAUgBjAFsASABFADoATwB0AFwAcwA+ACcAHwDq//3/AAASACcAFgAVADEAIwANABUA+P/q//P/BAAIAA0AMAAWACIAMQAiACAA//8OABgABgDt//7//v/k/9//zv/W/8n/0v/j//H/3//T/+f/5f/Z/8//7//8/wMADgAQABcAEAATAB0AFwALABcAHQD5//v/DgD7//T/0//0/wwA1P8AABYABAANAPf/8//m/+L/8/8EAAgAFgANAPj/BAAaADAA/P8IABYA6v/z/+b/5v/m/77/uf/M/7j/0f/l/+f/1//A/9L/5P/k/9L/9f/6//X/8f/o/9//6P8GAO3/CgAeABYADQAIAP3/6f8FAPb/AgD6////DgAHAAUA7f/e/87/4//W/87/0f/g/+b/4f/q//T/AwD5/+j/+v8TAPb/+v/x/9v/8f8HAAUAGQASABYAHgAXADQANgA8ACkALwA2ACIAEgAiACMAHwAwADoASgBWAFIAMwAyACYABQADAAEABwAcAB0ALgAUAA8AMwAPAAYAAwD9/wAA7//8/wAA3f/P/+b/6v/V/+7/BQDp/9b/6f8GANf/yP/t//D/9v/0//v/6//q//j/DQAeAAQA6f/r/8r/u//K/83/uP+X/73/yP/h/9D/x//U/77/0//j/+3/zf/X/wEACwD1//H/GAAqABwAHQApABAAEgAVAPz/6v++/63/yv+k/5D/u/+8/8n/zf/J/9r/2//s////2v/f/xwAKQAqACkAOAA6AFAAYQA6ADgAXgBbAE0AJQATAEUAEwDt/wEAEADw//P/IwAfABAAIABAAC4ADwAHABwAHQAFAB0AMgAYACoALgAvACQADAAoABoAEQASABEAHwAHAA4AEAD5//b/8P8DAP3/BwAgADgAKQAmAEgAHQA2AE4AOwAdADsAPAAgACYALQA4AC0AOQAaADUAIgAKAA8A+//Z/8//7v/v/wMAAQADANH/vf+6/5//q/+y/83/8/8RACUACgAMAPz/1f/t/9b/t//k/wIA7f/k//X/6f/L/+v/4P/J/63/uv/O/8D/3v/3/wQA4v/q/wkA+//V/+r/AAAIAAAACgBJAEAAJAAaABYADgDt/wYACwAGACkAHQAyACoAJQAPAAYA9f/F/9H/yv/Z/8v/zP/U/7X/1P/i/9T/5v/h/wkAGQApACYAEgA4AA4ACAANABUACAAAABkADgAdACEAIQAmABsAGQAOANP/sf+s/63/uf+6//v/DgDo//7/IAAZAN7/3P/z/w0AAwAXAD0ALQArABsAKwDw/wMAAADc/+//5f8SABEA8//z/xEA7//4//z/7//v/wQAMQAAAAQA5v/Z/+X/7//q/+v/+//0/yIAGwD//+v/KwAxABkAMQArAB8AIgBDAPz/+P8RAAAA+P8IABYAFQASAOn/BgD+/+T/v//G/8z/mv/U/xsA+//0/xUAAAD3/wAAAADl/+P//f8NAPv/CgABABYA9//I/9v/0v+2/4f/tv/J/7P/tv/3/+H/1v/e/wAA9//a/+3/5P/1/9//BgAcACsACAA2ACAAIwA9ADIANgAIACcAJAADAO//MAD7/+j/JAA1AC4AOQAdABUANABEAC0AHwA4ADsAZAA/AFMAUABVAC8AQQAjAPn/EwAZAAQA3v8dAPX/7f/S/+n/yP/G/77/x//B/7f/7f+3/9//wP/S/7L/zv/i/9D/+//x//T/8/8EABsA9v+7//r/+v/+//r/JgASAAMAHwAAAPf/zP/t//7/9v/N/xgADwDo/wYAGAALAP3/AADi/ygAHQA3ADEAYQBKACoAUQAIAAgAIAAvABMACwApAE4AHwAfAB0AHQDh/83/CgANAAYA6f8IAAoACgDg/wAAJwAIAAQAEQARAP3/GQApAC4AHQAtADkAIwAtACYAHAACAAIANgAeAO//BAAjAAAADAA2AFcAQAAhAE4AMgAHAAUANADr/+7/KAAnACAA4P8LAPT/y/+V/8T/t/9t/7X/4v/b/67/3/8LANH/pv/N/9r/vf+9/+z/7P/U//H/DAAVACoADQAfAAcAwP+2/8b/u/+Q/7z/1f/Z/7P/9//X/7n/vP+w/7j/lf/T/+3/9P/q/wgAAAD3/wAAFgD7/xgAKQAJAAcAHQBYAEgAQwAoACYA/v/w/wAA2P/V/xkAOgAmADIAKwAgABkAFgARAAQA7/8DACkAGQABAAIA/v/x/9L/zf/X/8P/6f/Z/6f/1f8VAAEA3P8FAAsA7P/6/1IALgAzAHoAdQBxAHkAiQAwAB8AGAAUAP3/0P/k//b/CQAJABkALgAcAPL/AQALAKX/pf++/6v/0//3/0EA9//y/wMA9//O/8L/yv+4/9j/zP8CAN//yf/e/wgA7f/X/wwAPAAiAPP/DwAfANH/tv/j//3/0v/G/ywACQAMABYAVAAnAPn/OwA1ABkA2//U/+P/2v++/wMALgDj/8L/EQDd/5X/7//4/7n/rf///woA4/8DAA0A9P/O/wYAKQBBACkACABQAEoAGwAiAFoA+v/6/xsA+P8rAA8AHAArADUAHwAHAEgAIQApACIA6//U/+r/HADo//f/8v8qAA4AGwBFABkA8//V/zQAEwDp//n/SwA5AAoABgAIAPb/wf/z//X/+P8SACoAXAAaAAUAMwAPAPr/5P8hACAAJgBdAI4AdgA7ADYANAAAAKD/8v8hABMACwBiAHcALABPADUA/P/P/5f/uP/f/9L/IgAkAEIAIwDv/x0A+f/g/5z/zv/w/87/NQAaACsAKgDe/zEA6P+r/6//zv/L/8P/GABOAD4AKABPAAkAy/+j/9X/wf+U//P/IADf/+H/FAArABYAzf8OAOr/ov/S/+z/8/8aAPj/8v8OAMD/t//f/8X/k//b/wYA2v/t/z8AHgDd/8j/xf+0/4j/ff9m/8f/5P///wAAKQD+/7n/DADN/8n/ov/Q//P/NQBLADEALAC+/wwAIADx/83/FwBKADUANgBWACcA3P/7/+7/8v/c/xUAOAA1AA8AXQBjAC0ABgDm/xAArv/N//r/+v8NADYAVQBVAFQAQQD2/wkAy//G//H/AAAxABgARwDw/xMAEADv/+b/vv/B//H/MgAeAPv/DwBDAOv/4/8RAAwAs/+O//z/IgDj/83/HQAkANP/uv/3/8z/ov+//wIAIgDH/xYAYAAmABYAFwD6//b/3f8JABQA/v8LAC4AaQAbABoAQQA4AAwA///7/xAACwAeAC4APgALAM//8v+7/8D/1//x//D/4f+8/8H/4P/z/7L/w//q/8r/5P8EAPr/DQACAOX/FgC+/8v/5v+2/8D/FQAIACYAFQDt/zkA5P/H//n/v/+1/+r/+f8iADoAWAA4AF8AeABRAPn/DgA7AAQAGABFAFgAWgB2AEkAQAD+/8H/AAAOAHD/2P9cAPL/IwCdAHgAFwAuAAAA/P8SABAADwA7AFYAPABsAFMAGwDz//P/2f9o/7L/8f/k/wYAOwALABMAOACf/+L/tP+g/83/4P/I/7T/HAD//1YAHADu/wAAEwC7/4j/6f/g/wAADgBFAEAAAQDu//T/3P/A/83///81AHgAbQCZAFoAOQBYAK3/kP+g/9v/0f8HAFUAfACSAF0AZQAtANf/zP/T/7H/0P8HADsAJQArADAAKQC3/5D/n/+I/7r/3f82ADMAegA+ABMAGwDH/4H/cv+U/6v/vf/s/1oAkAAuACUAiADl/7P/3f+U/yb/ev/O/ycAMwAsAGQAMwAkANj/9P+i/2f/hf/n/63/gP/a/0QANgAKAPT/8P8uAKP/4f/w/y8A0f/k/z8A5f/Z/+7/XQD3//z/AAAxADAAAAAZAEgA4P/I/0YA4v/U/+H/NwDa/6T/JQANAMn/y//o/8P/qf+x/9r/6v/S/wIAQwA+AAAAMQCBAAwAQAAkAPT/JAA/ACwAGACMAB8APgDt/83/FwDL/xUApf/N/6z/8f8bAEcAHgCx/zQA6f/t/2T//P/a//H/OwDk/48AewA6ABkAnAALAMT/QwDV/7b/FABTAA4A0/83AEwAMQAlAFQAOwDn/xIAxf8AAFMAvP/G////6f+w/+j/IAAZAPT/lf8uAEkANADh//H/WQAOAN//mv/k/9j/uf/f/63/uf/l/yQADADE//v/DQAWAAwAKgAoAAUA/v/v//r/Rf8P/6L/7v+v/8r/ogCOADsATABCAJD/Mv9e/xz/Kf+T/wwAlwCUAIEA1gA/AM3/e/+U/2D/X/8IADMAPQB1AAsBqQCwAAsAoP+4/7v/xf+P/zcALwCkAL8AmgBFAND/+P/6/9j/YP8UAHgANgBNAOIAywAPAMz/sf9//xv/uP82APv/RwAUAe4AcgBCAD8Au/9l/6b/ov/v/ywAsADXAE4ARAByAJ//VP+L/2j/sf8bAJkAwgCkAMAAlAAUALv/fv86/y3/Vv/P/2cAVQClAMUAoABjAPT/xP+j/4f/nf/i/yQAewB9AGUAMQA/AA8Apv9t/2f/R/+N/9//QQAjACgAuQAyAC8A8P+R/yb/Yv+G/4f/1f8AAJIAUAAiABsAIwDu/9X/gf92/4P/vP9QAGIAIQAIAJ8ADgB9/73/n/9C/5n/2/9NAIkAVAB9ACkAvf+I/7v/JP9F/1z/0P8DAN3/sgCaAAcAuP+WABwAoP/B//3/ZQBrADAAMAB0AAsAAAAhAMz/f//i/yUANQABAFoAkQAOAH7/rv9r/xT/R//p/zsAu//4/5AAhgDY/+P/rv/Y/1r/mv8GAAEANABhAPYASAAWABQA3f9v/1X/cf/e/+7/0f9xAOkAHQFDAEoAsACt/5L/4P/k/7L/mf9UAHMAHgDe/1cA5P+g/7j/m//i/3b/JQAPAC8AMQBlAGIAvf8hANb/6v+Z/9j/6P+s/xcAKgAmAAgA5/9NAA0AmP/H/6j/ov/a/ysA7/87AF0AhwArANj/LQACAIP/mv9RAOP/v/9ZAFIAOAAuAAsADAC5/6L/mf/l/9v/TACXADcAAAABAAUAsf/h/xYAVABOAGoARQBUAMz/3//k/9X/FgCm//v/agC9AEoAQgAxANT/Yf9v/5T/W//Y/4wA+AB6ACwApgBQALb/of/p//z/Qv/y/14AAgDA/xgAWwBv/0X/rP/v/9P/DgBoAOkAhgDGAEEBgwCq/xv/K/83/2P/V//kANEAZwDWALoAmgCc/2P/qf/3/57/cgA/AcMATQAVAccAIv8E/53/PP/e/k//OgA1AYYAhAAgAcEAOP+Q/6//nf7P/iUA6wCr/38A2gEGAaj/AwABANr+Y/45/7j/Sf/Q/7cA/wBTAJ//n/+n//f+Sv8EAA0AGQDBAJgAvv/y/+z/yP9O/2n/JAAvAKEAtADkAO8ACQBm//3+Mv+4/u7+NwDHAOoA6QB6ARAB8f8v/+T++/6X/kP/bQBRAHsAhwElAdz/3/+J/7j+pP6D/z0A4/8OAFIBWQFbAAkA+P8v/2n+IP9o/7H/xv93ACEBBwBsAE8BegAJ/2T/DQCN/+n+PQBKAfYAxgCtAHcBzP9n/x4AVv91/4D/kwARAVMAXQAIAcwAzP4G/7//v/7Z/sv/kQC5AIEAPQCUAK7/W/9h/yz/Jv9i/1QArACaANMAzgAuAGX/7v68/zr/T/9j/3IABAFyAMcA6QC4ACT//v4LAGv/Fv/e/1QAqQDW/24ARADI/7z+Kv+m/yv/GP9Q/4QAhP+IAFEAqADs/+P/vgBV/3z/Lf82AI//DQBLAX0A3gBLAF0A3v8oAJT/rP77/3v/GQCL//j/agBdADEAlf8oAPT+h/8NAO3/JgDM/5EANQFhAPH/5QAhASwApACpAO7/fP8cAIAAqv/X/lf/fQA+/0L/fAAPASIA1/93AC8Apv/U/xgAvf9F//D/8wC0/5D/EQF2ANj/ugBiAKP/If9uAFIA0P8jABAA/////08AbACEAAgAJQC4/9X/tf4i/3QAbQBaANgAXwH5/4sARgDH/zn/E/7n/hj/JwCw/9oA+wHPAPgA8f9DABz+Lf6E/gH/qwBMACcCJQI8AsIA8wBNAGr+tf6F/oX/q/4/AJABewGRAbYAjAAQ/wb/zP7//tn+7f52AA4BmAFVAFcAnAD4/zz/4/6Z/0v/hP/z/+0BFAGQ/1gB0v/r/jD+ff+n/+H+BQCRAJ8BAACMAEEBuQCq/ub+3f/z/lP/2v9tAfQAYQCsAKIA///Y/gX/RgCU/8L+3P9lAScBtABVAIkAGwCS/kD/5f/o/q/+ugB3APH/AwBDARYBXf9h/4L/Hf+B/lgAqgBkAPX/5f/QAJ3/aP/m/3P/v/47/6j/CP9SAJMAEQJ4AWcA7AGfABkASP6V/xP/Kv41/6T/JgEsAKABugGIAHL/Tf+w/0z+rv2O/kkAjwCs/2YBNALsACIAagACAAn+Tv5h/vL/uf8cANwBzgEFAc0ABgG//6P+o/7V//b+n/9fACABoQABAAAAhADI/u38kv8eAAr/Vv8/AmcBIAEpAeQA6wBS/wD/Jv/l/hr+GQDQAOD/pQDAATYCoQA/ALMAg/+D/vb90P/U/p7+HgB7AF0B4gBeAWABbgBX/6L/2v/W/hj/GgA/ALj/av8kAWUADf83/0gA6v9w/in/9f7C/5D+5v9gAHn/WQD1//AA0f9Y/xcAGACd/2b/ZQDWAJkA3QCLAYgB4v/d/7gABwBB/+b/7wBvADAAagBFAQsAZ//5/+H/+v5S/s//+P9C/yD/rADmAP7/TwA5AdEAm//+/3cAfP/E/nj/4//X/nL+HABy/0H/FwCFAYQBYwBTAPgAzAHu/+oAUwHA/yT/iP///6b/NAAAAIMACwEoAP//jQBGALP/uf+H/zz/L/+U/yAA2P9GAMQASgCJ/5H/FgBh/4v/PQAEAboAUgD+ACUB1ADW/9v/ev9C/+3+Lv9c/+v+I//B/3AA7P/I/0b/Av9U/7H/Sf/o/18AjAB9AP8AwgCiANoAAADfAP3/fgCr/+v/TgDXAEIBWwD6AJ0AGwF+/7n/0f8HAPz/oP85AMr/VgA2/4b/vP9e/9L/pf/W/7T/TwBBABkAeACkAHcAlf/N/xoA6f9j/woA5QBEAA8A9v9EAHIA/f+EAHoAvwAqAIMA0gAgAHgA3v/O/4z+rv5V/o3+o/4d/xEA/P90AJQAwgH7AOEAsQBmAEb/mf6W/iT+j/7r/lz//P/d/0oAbQC3/8D/9/4F/zT9Nf1x/Cv8yPz+/EX+G/7P/lT+9f6o/mT+LP5y/rT+PP7t/gr/8v8WAF4AXAFoAZIBpgHlAbcC/wLYAxsEdATMBP8ESwX1BBwF+wSZBB8EFgRABKMEngT/BHkFwgWdBQYFHQXyAz4DjQLOASQBSABSABgAHAAvAIIAuQCqAIgALgB9/4/+Kf5R/Sv8CvuF+rr6JPsJ/OD8yPxw/Hn80fsc+4L6j/p3+Wv4FfWP7ijlRd2S3aXcTt1A3hzj8uqZ7731G/yFBHAI8gkJCiMJgAmEC2MPsBOBGfgd3iCOIE0f9B4UHJgX/hFsDDIGN/6J+h35/vlZ+bT20fXF8zvzcPMX98b8aAM/CgYRNBenHAohrCJqIjUfdBscFRgPOwqJB/kGPwY4B9MHnwdqBiwEbwGL/Yv4yvOx7h7r0+jh6ADqOutc7oLxUvQS9oP4w/rM+9v8xv2T/nX+h/5W/yAAj/8x/ij9PPmw9O3pg9cKvb6nEKMYo62psLDpwH3Waupx/sAP7iD8J9kqwSbLH0MbgRtFIlgp1jQvPZRCCUKTPE44wi3qH6sOKf9B78HfSdqm22Tl8O61+J4C1QhGDIIMpw3TDl4RRhMPFe0UjxecHR8iQCaNJ1YnVyAbFV0KFAKY/RP6o/mT+m77mPuk+/H7vvqz91Lyqer84hHeFt0e4FjnJvJJ/e4GNA5JFDMYIBhzFIcN/QV6/pP3IvOr8of1nfgm+zP9VP+0ABv/ifxN+IP1HvII7svoXNnsv76eUo7/kLSbTamrtLTKoOSh/38XBC2wPYpDfEHPNDIndhzvGv4d9iQjMLs1tzgCNCQxhS09IowTy/+G7u3ZbcnyxT/NO94i793+0wwFFhwc8h5KH90f0B3dGTETFA5XEEoV7BwBJHQqLi1OJuMaMA61A2b6b/Ip7wruou7l8Mb1IfzBARcELwHD+QHxA+rA5FTkf+hf8eP72gVOEFkZiR9hIFkcqRM3CEH85/Lv653pM+xF8On0p/oiAZQD9wNBAmkAs/pC8W7i2shMpPyDAYDKjaCh+rHSwxTeBfuqGOQvskFMSGRG9TwTK9gb4BUbG90i8S1+OJA80jm+MTAuFCUaFPz9nOcg1KXAmLgivjjQSuYe+h0LRhekH0ElkScQJ+4lbCOvH5kYDxRgEwYXyx2fIeIjhh/IFYIJ1v0p9tbwsu657V/sA+u77Tnzx/kT/1YAPP9i+dzyxO3Z7GPwwfZf/0IHsA8rF8MdTSGNIMcblBLVBjP7MvI27Njo1+c56F/rue+R9T/7vP5oAT4BtAAE+rLxceM+yfylfIoniwWZeKqwt+vII+S1AkEhjDjORyJL6UZJO00pLhuoFEcWARzwJZgvxDI5MZ0tdC08JrwUiP5059/S4L+5uD+/VNBj5Uj4DgoAGcgkQC2pMC0wEy07JssdZBS4DzoPSw/DEoEWTxpCF1AP2AeOAP76HvSP72/sreoh69vthfM5+4kCbwUdBK0Akf3E+Fz0v/Iv9bj5MP61BPsMeBSSGN0ZRBfpEecHnPx18mbqYuVZ4ZrgcuNB6//0Vf5DBY0JgguiCswD6ftE7xXVJLB9j7uJj5MposKtsLub1rj0VBTiLFg9xERUQiM6zCrpHBwUuhJ3GFgjbC80Nqs4QjkoPTg6ASxfFlj9x+UCzcW9S7sixCrUSONI9e0GQBfoJestHjIbMTMqliD0FAcNugiWB8sLThFRGDUaTxg+FkQSXw2aBAf8ZPIz6bHjJuPk52Tv3ffI/u0DPgVmBYYDq/+Q+673HvXR8kX0ePouAgEJTQ7jETkTdRDwCgsEu/vG8UDpOuQb4+vmlO0m9jH+BQa5C0MOVAyvB4j7suBguUOWrYvnjn2WT5ycpzjBQeGPBNUiUzo0RwpKh0WJOA0qdR7VGUgbVyFRKd4unDNKOqJEeEiaPyMthRSe+d3bFsSqt/G0o7mewTPQCuMH+UgQDSN9MdY3pDbBL2IkHRqMEMEJjQjgCg8QkBPrFx0eLSJ3Ijod7hSnBzP3A+k531PZGdjG2jzgBeie8CP7VQNfCMYJeQjPBCX+6Pm5+Dz5+Pmp/IUC+ghiDsASPhaxFScQ1gjzAI353PF27UbtP+4S8Dbx7/Nm9Bz2G/Op4vnGMasoop2gDaBznQ2hZrP+y5zrqQiXI/w28EO7TBpLKUVqO3818S/lKrAngSPbI4InfjE6OOE2JDB3I2EUc/2c58zVhMfIvYq1nbeEv/zOrePg+UIRPiIVMFU4HDswOeAxDSnqH2MX3w+pCssJFw1XEgwY+hthHcobsRSjCrb+/fEt5hbaTNL5zkrQ4dVN3gHqO/WP/1cHDQ0rEJYQxQ5RCpEF8QAN/mH81vzd/4IDdgczCtgLgQwtCx8JeATw/q/3su966Bvhtdxf0q3BgK7TpQCqUa4ssJOupLb0xZ/ZyO0u/74QmRw2KK0vkzS+N5o54z3KPnw/sjw2Otk6szzjPz081TWGLOohOBRXA871RejP3BfPFMVswZXC2cm70sPf/uza+ccGPhNOHiol5yihK4csriquJ9Qk4CMmIx0iJCHCIFofFRv0FQYQMQlGAbL3vO5o5hff5dmF1lPWatgu3Zbilei971X3yv4sA+AGPQm1CjsK1QieCJUH8wZGBUcFLQVOBQkGpwZHB8AEBgLL/Br4bO8Z4EfNSbv9sVar0aWJn2Cfbqf4tHPHBNoo7zEBSRJGIZAsJzXwOGs9YT4pPd047TMrM0MzUTb9NhU4oziiNsczfyxFJZsbnQ9iAH3uz9750ZnJ5sOZwjrFdMor04Tf2+7+/XYLdBYxINgoQS7DMNkw+C5hK68meCLfHrgbpBe8E0IQVA24CvAGtQNj/xv6GfTi7Wvo5+OO4Djdjtty2/HcBeCK5Lfqp/Aw9s37eADkBPYIzgu0DegOEQ/ODXwMWgtwCr0HigQSAi//w/qE8hjnwNul01nM7sMtutWzA7JRs163P70zx+PR/t1q64L5xgZREugeJCr0Mjo4rTt6Pz1CEkTqQ9lCP0FePso6hzXCMDcriyRCHD0ShAiR/o320e496LHikt0a2hPY69hy23TeZuIy51/spPK1+aQBlQgVD0QWIRzRIHQkEShPKicqsiiFJpQjnR5kGQ8UgQ13BhP/yfjv8qDtMOkA5aHhVd5V3DLc+twc3rPfieJD5RHosev37xv1iPnP/bABiQUwCQsMqg5CEDMR7xBWEM0NdghCATf6VfMN61niyNkG00/N4MhmxWvEw8W2yIXNlNK/2JDfa+hO88b+wAj9EYMbRSTJLJcz8TljP0NCo0MEQ/JAYz6nOpg1EC9cJygfOxdDEKMJowJa+0f09u3t6HLly+Mi4zjjWOPB42nlUugL7MDvefQo+a79/QGHBxIO6RO2GGob2h3rHsMeMB5XHSUb/RYOEvEM3QhNBJv/MPsA9svw3+uf5wnl9uLo4GLfFd7i3WDfO+KE5Tjp+ey38CP1x/nw/qYDCAh3C8IN3g/DETATpBIOEE0LCAZw/3j5MvTZ7nrqSeUq4EfbeNk42dPZEdqs2evZ49px36rll+2N9OD5VwDQB7QQ0xn1Ib8nhiqUKqspdilhKTcpXifyI5kfQBtNGEEWgxTzEVAO8Al9BvUD2QJtAoQBZwCP/hr9kfx2/e/+CwCvADkBfQJZBC0HagoWDJcMtwsuCkwJagjJByQGTgMiANT8h/q0+Qj59PdE9jn0bvLW8KrvYO7I7N/qp+lK6Xvprep37KTu8fCX89T2c/rp/XUAcAIOBGwF8QZoCAIJ2wjFCE8H6wXpA3IAlvw+93XzdvCf7ofs+Ohy5l/kneTc5Vnnz+ce50bnSOg17CzxCfZK+hX9WgBdBDcJIg4hEp8UixWWFeYVXRciGS0aEBqEGGwWSBVIFTsW6hZ/FjYV0hMKE/gSixNXExwSTxDnDbYLEQvoC1QMxgujCk4KqwraC2kNXQ0lDGMJngaYBLsCswA5/gL7hveb9W/0w/Pt8rnxWPDX7qvt3OyL7IbrV+ox6fPoj+ls6i/s8+0X8C/yePQr9/n5e/xi/vD/ywDXATQC8gHAATMBugB7/6L8rPit8/DvfO7n7U/tZOo/5+PkAeUN6K/qs+ub6RboqugX7B7yqPfP+9z9CQBOBFkK9xBmFvgYXxlIGekZhhtRHUYeYB0cGwkZUBinGGQZkxkwGOUVvxPoElAT8BLyEQ0QOw6mDEIL5Qr7CucL0Au/C2kL3wuHDSsOwg5JDewKCggiBYIDIAGm/rv7Zvju9brzdPJn8fnvc+4J7RPs0+pl6qTpIel36avp+eqX7E7uSfB78jr1wPfn+R/87P1Y/7wAmQH9AQICyQEfAr0AnP9H/Pf1O++E6CbnDOd255Dkb+Cf31Dgr+We6WnqzOji5Q7nuetL8ij5Jvxf/u8ADAa2DiQWDRzEHCoc4xv0GzQeTh7DHRMb/hd1FoIVcRboFdwUqRL0ELIQRxBFEfgQtg+xDp8OTw+DD4gPDhCOEPYQwxFNEosSDxLiEYQRNRC6DZQJKQV1AUL+Dvwr+kX3ePQ48onwqO9e74XvPe5T7JrrROsf7Pzs6e0D72bwOPJo8/v0qPac+Df6Tfz1/bv+7/6j/n3+F/68/bb8EfvJ92L1rPD76YbjXt9o4U/i+uFk3xLeEuG35Fnqoe0S7QPrj+np7LP0evyqAUsCjgN1CMMPhRc5GyIcDBpBGAAYShhWGScYBhZEE0ISzRNSFT8WJRWGEwsT/BIEFLkUbhTTE4ATkBR0FXIWvhWLFEcUAxSQFKATWRK+EAMPLQ51DPUJ1wWQAGv8lflc+BT3yfRs8ljwDvBv8CXxiPE08Bbv5u6h70zwMfAE8LrvufB18nP0aPZP9zj4Afl3+hf86vzN/CL81/pq+gD7g/p6+eX2ifQL8BLqD+RH4C7iTuO84q/gV+Bg5ODowewk7pPs3+uH6z7uOfQr+RX+X/9yAd4G1A3wFDAXkhc+Fp4VXxfbF5UXxRUmFM0TGhQAFn0WBBZKFVQUYRU4FjUXKxf6FSQWTxZVGNEZsRgTF2cUKxMNE6ASIxK9D28Nvgv0CpMKNwgDBZUAtvzm+XL36fXd8xvyAfHf8FbxxvED8qbxevHS8YHyRfK18UPxp/Fc8nnz5fQ/9QL2bPbE98T4dPlh+pT6FPsz+xH7ZfpS+SX4R/fL9c70ofCx6rXlguOW527pM+nX5iflIulO7TvxNvJv75/tjux47w/11/im+2L7Nf4NBBkK5g+1EIQRAhKjE2cWAxaXFcYTnBOLFc4WqxgHGMkWQxaSFl0Ynhg7GMQWqxW1Fo4XjxgLGKwVexPDESYSxhG4D6kNFAuKCksKqQlTCCYF7gGz/tf8g/sj+fv2z/TA80X0YPRC9IrzIfOX81n0t/Rw9J/zqvLF8m7zJPQO9OvzkfP98yX1Bfa19v727ffH+Jn5lPoI+936kvqs+en4B/e59ZbzB+4C6bfl3OfN6vHqmOlt5xvqpO5b8V7yju807bfsZO7V8wv3pfkp+/78cAKrB/AMWA69Dm4QYBGgE4IT5xLdEn4SQxSnFYkWJBa+FDoV/RVeF+8XPxdTF10X5BihGtoatxofGU4XHxZoFcsU9hEiDzgNXQwIDNsKNwlXBqQD3wCg/m78Xvm29u30QvTo82Pz2fJ/8qHytfNW9GL02vM885jz8fNl9Cr0sPOt85/zMfSh9Ir0X/QI9GD0G/X99bX2M/eD9xj4kPhr+Kv3yfVI9WTyou136afnIuvZ7KTsAuse6srtHvGn88jzcfGr8BPw3PJC9xP6LP3s/fIAqwWBCUcNXw23DboO2Q/OEXERVxHdEDURFROOEyIUKhNaEsISZBPGFIkUwhRVFfEV5hcfGYUZIRkJGGkW/BRjFI0TGhFfDh8MzQq1CkUK2AhQBk4DiACW/qT8lfo0+C72R/XZ9Lf0xfRy9Hf0pvSB9KL0I/Rv87/yKfOG84zzcvN48wf0XfRG9Qv1IfVK9Vb1dPb49mT3q/cm+KH44/gF+YD4Gfez9TH1y/If7wLrFenK687ttO0U7ITrh+7B8Rz0dPTI8u/yYvP79TD6uPxg/5cAzAM7CHsLEA7TDSUOow8GEYISuhHeEOMQThGwEoISRBJrEYsQOxGAEYMSrxLtEs0TVBTEFRgWTxZrFr4ViRRUEswQtQ86DnIMkwrTCagJIQkuCCgGGwTZAar/1v3Q++35Ffi29gn2//XP9QL1bPSB9FH0AfQr8zPywvF98RLy4fIQ80fzS/Tg9Bj1YPXh9XL2ofZD9wH46Phq+bz5vfra+837A/ph+Dj31PbZ9crx4OyK6ZLqGe6b7srsBOs37DrwsPIE9OXyavFx8pf0YPnj/Fb/FQEvAgYGwgl/DGkNRg2uDtQPSRFUEnoRXBG/EZ0SMxPnElcSLBEZEc4RbhILE8oSMBO+E2sUthXAFa4V6RTdEwESERCMD9QOWw7SDAALUwr9Cc4JXwjQBYYDsACZ/jP90/s7+uL3uPZB9t31MvUY9PnyGfLu8cXxM/G28IXwofC28YvyFfMB9Gb0vPRO9RL23PU69uz2UffR+GX5nPq2+vb6IvwL/J388Pqx+cX4A/c09jPyhe0L67jra++u7/HtXu1h7sjyCPXA9Q71NvPV9BL2Mvkg/Lz9bACyAa4FZQkpC5MMegwoDkYP6Q/NEPIPFxBKEHgRwBJFEvcRwxBvEBARFhEfEfEQMhGjERkSuxIOE/wSfBKNEvwRORDSDtQNpA35DKELzgoRCncJFghKBn4E3AFt/0j9ufsk+v339vY89kP1bfSi87nysPFI8WDxJfHN8OvwRfE98lbzPPTd9Gf10fUY9vL2c/cT+GP4J/kC+wX82Pzx/On8av2E/bL9M/29+1D66fgJ+GP3vPTy8Fbt4ezJ7/bwK/Bf7kzuUfGN89r07vSH8zj0sfWj+E38aP78AD4ClATNB68JSgtxC/ILQA1ADnoPLw+LDtUO9w4HENYPFg9LDmINQw6rDnEP6g8JEDcRvRGEEi4TfROmE2YTMxPbEWsQkQ+TDtoNgQwuC10KZQlYCL8GugRyAtn/sf3E+xX6wvi898j2wfXp9AP0q/Ma89Ly7PLv8hLzOPO283D0UvW59Uv2xPbe9rf2yPZE96z3Jfih+Nv4vfgh+aX5hPrC+mj6vvrK+jr7/Po0+jL5Xvfb9pz16/Jh8IzuB/D+8eLx1vEv8S3z8fWq9q73svay9nD39fhd/CT+agAfApoD2wamCC0K8wrgCiAMhAxbDYYN4wxDDVcNlA7+Ds0Oow4LDp0OFw8wEN4Q/xBuEcoRfxLJEuwS5RJnEhcS4xCcDxsOWQ0YDf4L4Qp6CbIITQeQBWAD4AFk/zT+I/s=\" type=\"audio/wav\" />\n",
       "                    Your browser does not support the audio element.\n",
       "                </audio>\n",
       "              "
      ],
      "text/plain": [
       "<IPython.lib.display.Audio object>"
      ]
     },
     "execution_count": 6,
     "metadata": {},
     "output_type": "execute_result"
    }
   ],
   "source": [
    "ipd.Audio(all_wave[testId], rate=16000)"
   ]
  },
  {
   "cell_type": "code",
   "execution_count": 2,
   "metadata": {
    "scrolled": false
   },
   "outputs": [
    {
     "name": "stderr",
     "output_type": "stream",
     "text": [
      "c:\\python 3.7\\lib\\site-packages\\librosa\\util\\decorators.py:9: NumbaDeprecationWarning: \u001b[1mAn import was requested from a module that has moved location.\n",
      "Import requested from: 'numba.decorators', please update to use 'numba.core.decorators' or pin to Numba version 0.48.0. This alias will not be present in Numba version 0.50.0.\u001b[0m\n",
      "  from numba.decorators import jit as optional_jit\n",
      "c:\\python 3.7\\lib\\site-packages\\librosa\\util\\decorators.py:9: NumbaDeprecationWarning: \u001b[1mAn import was requested from a module that has moved location.\n",
      "Import of 'jit' requested from: 'numba.decorators', please update to use 'numba.core.decorators' or pin to Numba version 0.48.0. This alias will not be present in Numba version 0.50.0.\u001b[0m\n",
      "  from numba.decorators import jit as optional_jit\n"
     ]
    }
   ],
   "source": [
    "import matplotlib.pyplot as plt\n",
    "import librosa.display\n",
    "\n",
    "from numpy import load\n",
    "from numpy import save\n",
    "from numpy import asarray\n",
    "\n",
    "all_wave = load('all_wave.npy')\n",
    "# \n",
    "all_label = load('all_label.npy')\n",
    "all_feature=[]\n",
    "for word in all_wave:\n",
    "#     feature_vector_1 = librosa.feature.chroma_stft(y=word, sr=16000)\n",
    "#     feature_vector_2 = librosa.feature.melspectrogram(y=word, sr=16000)[:40]\n",
    "#     feature_vector = np.concatenate((feature_vector_1*10,feature_vector_2))\n",
    "#     all_feature.append(feature_vector)\n",
    "    all_feature.append(word)\n"
   ]
  },
  {
   "cell_type": "code",
   "execution_count": 20,
   "metadata": {},
   "outputs": [
    {
     "data": {
      "text/plain": [
       "['0', '1', '2', '3', '4', '5', '6', '7', '8', '9', 'noise']"
      ]
     },
     "execution_count": 20,
     "metadata": {},
     "output_type": "execute_result"
    }
   ],
   "source": [
    "labels"
   ]
  },
  {
   "cell_type": "code",
   "execution_count": 1,
   "metadata": {},
   "outputs": [
    {
     "ename": "NameError",
     "evalue": "name 'all_label' is not defined",
     "output_type": "error",
     "traceback": [
      "\u001b[1;31m---------------------------------------------------------------------------\u001b[0m",
      "\u001b[1;31mNameError\u001b[0m                                 Traceback (most recent call last)",
      "\u001b[1;32m<ipython-input-1-6ece12a9cdd0>\u001b[0m in \u001b[0;36m<module>\u001b[1;34m\u001b[0m\n\u001b[0;32m      1\u001b[0m \u001b[0mtestId\u001b[0m \u001b[1;33m=\u001b[0m \u001b[1;36m1200\u001b[0m\u001b[1;33m\u001b[0m\u001b[0m\n\u001b[1;32m----> 2\u001b[1;33m \u001b[0mprint\u001b[0m\u001b[1;33m(\u001b[0m\u001b[0mall_label\u001b[0m\u001b[1;33m[\u001b[0m\u001b[0mtestId\u001b[0m\u001b[1;33m]\u001b[0m\u001b[1;33m)\u001b[0m\u001b[1;33m\u001b[0m\u001b[0m\n\u001b[0m\u001b[0;32m      3\u001b[0m \u001b[0mfeature_vector\u001b[0m \u001b[1;33m=\u001b[0m \u001b[0mall_feature\u001b[0m\u001b[1;33m[\u001b[0m\u001b[0mtestId\u001b[0m\u001b[1;33m]\u001b[0m\u001b[1;33m\u001b[0m\u001b[0m\n\u001b[0;32m      4\u001b[0m \u001b[1;33m\u001b[0m\u001b[0m\n\u001b[0;32m      5\u001b[0m \u001b[1;31m# plt.figure(figsize=(20, 4))\u001b[0m\u001b[1;33m\u001b[0m\u001b[1;33m\u001b[0m\u001b[0m\n",
      "\u001b[1;31mNameError\u001b[0m: name 'all_label' is not defined"
     ]
    }
   ],
   "source": [
    "\n",
    "testId = 1200\n",
    "print(all_label[testId])\n",
    "feature_vector = all_feature[testId]\n",
    "\n",
    "# plt.figure(figsize=(20, 4))\n",
    "# librosa.display.specshow(chroma, y_axis='chroma', x_axis='time')\n",
    "# plt.colorbar()\n",
    "# plt.title('melspectrogram')\n",
    "# plt.tight_layout()\n",
    "# plt.show()\n",
    "librosa.display.specshow(feature_vector, x_axis='time') \n",
    "plt.colorbar() \n",
    "plt.title('MFCC') \n",
    "plt.tight_layout()\n",
    "ipd.Audio(all_wave[testId], rate=16000)"
   ]
  },
  {
   "cell_type": "code",
   "execution_count": 8,
   "metadata": {},
   "outputs": [
    {
     "data": {
      "text/plain": [
       "(4965, 6000)"
      ]
     },
     "execution_count": 8,
     "metadata": {},
     "output_type": "execute_result"
    }
   ],
   "source": [
    "np.shape(all_feature)"
   ]
  },
  {
   "cell_type": "code",
   "execution_count": 12,
   "metadata": {},
   "outputs": [
    {
     "name": "stdout",
     "output_type": "stream",
     "text": [
      "(4965, 6000, 1, 1)\n"
     ]
    }
   ],
   "source": [
    "#data preprocessing\n",
    "labels=os.listdir(train_audio_path)\n",
    "from sklearn.preprocessing import LabelEncoder\n",
    "all_feature = np.array(all_feature)\n",
    "feature_vector = all_feature[0]\n",
    "print(all_feature.shape)\n",
    "feature_size = feature_vector.shape\n",
    "\n",
    "le = LabelEncoder()\n",
    "y=le.fit_transform(all_label)\n",
    "classes= list(le.classes_)\n",
    "from keras.utils import np_utils\n",
    "y=np_utils.to_categorical(y, num_classes=len(labels))\n",
    "# all_feature = np.array(all_feature).reshape(-1,feature_size[0],feature_size[1],1)\n",
    "all_feature = np.array(all_feature).reshape(-1,feature_size[0],1)\n",
    "from sklearn.model_selection import train_test_split\n",
    "x_tr, x_val, y_tr, y_val = train_test_split(np.array(all_feature),np.array(y),stratify=y,test_size = 0.3,random_state=555,shuffle=True)"
   ]
  },
  {
   "cell_type": "code",
   "execution_count": 14,
   "metadata": {},
   "outputs": [
    {
     "data": {
      "text/plain": [
       "(6000, 1, 1)"
      ]
     },
     "execution_count": 14,
     "metadata": {},
     "output_type": "execute_result"
    }
   ],
   "source": [
    "feature_size"
   ]
  },
  {
   "cell_type": "code",
   "execution_count": null,
   "metadata": {},
   "outputs": [],
   "source": []
  },
  {
   "cell_type": "code",
   "execution_count": 18,
   "metadata": {},
   "outputs": [
    {
     "name": "stdout",
     "output_type": "stream",
     "text": [
      "Model: \"sequential_3\"\n",
      "_________________________________________________________________\n",
      "Layer (type)                 Output Shape              Param #   \n",
      "=================================================================\n",
      "conv1d_9 (Conv1D)            (None, 5988, 8)           112       \n",
      "_________________________________________________________________\n",
      "leaky_re_lu_9 (LeakyReLU)    (None, 5988, 8)           0         \n",
      "_________________________________________________________________\n",
      "max_pooling1d_9 (MaxPooling1 (None, 1996, 8)           0         \n",
      "_________________________________________________________________\n",
      "dropout_12 (Dropout)         (None, 1996, 8)           0         \n",
      "_________________________________________________________________\n",
      "conv1d_10 (Conv1D)           (None, 1986, 16)          1424      \n",
      "_________________________________________________________________\n",
      "leaky_re_lu_10 (LeakyReLU)   (None, 1986, 16)          0         \n",
      "_________________________________________________________________\n",
      "max_pooling1d_10 (MaxPooling (None, 662, 16)           0         \n",
      "_________________________________________________________________\n",
      "dropout_13 (Dropout)         (None, 662, 16)           0         \n",
      "_________________________________________________________________\n",
      "conv1d_11 (Conv1D)           (None, 654, 32)           4640      \n",
      "_________________________________________________________________\n",
      "leaky_re_lu_11 (LeakyReLU)   (None, 654, 32)           0         \n",
      "_________________________________________________________________\n",
      "max_pooling1d_11 (MaxPooling (None, 218, 32)           0         \n",
      "_________________________________________________________________\n",
      "dropout_14 (Dropout)         (None, 218, 32)           0         \n",
      "_________________________________________________________________\n",
      "conv1d_12 (Conv1D)           (None, 212, 64)           14400     \n",
      "_________________________________________________________________\n",
      "leaky_re_lu_12 (LeakyReLU)   (None, 212, 64)           0         \n",
      "_________________________________________________________________\n",
      "max_pooling1d_12 (MaxPooling (None, 70, 64)            0         \n",
      "_________________________________________________________________\n",
      "dropout_15 (Dropout)         (None, 70, 64)            0         \n",
      "_________________________________________________________________\n",
      "flatten_3 (Flatten)          (None, 4480)              0         \n",
      "_________________________________________________________________\n",
      "dense_5 (Dense)              (None, 64)                286784    \n",
      "_________________________________________________________________\n",
      "dropout_16 (Dropout)         (None, 64)                0         \n",
      "_________________________________________________________________\n",
      "dense_6 (Dense)              (None, 11)                715       \n",
      "_________________________________________________________________\n",
      "activation_3 (Activation)    (None, 11)                0         \n",
      "=================================================================\n",
      "Total params: 308,075\n",
      "Trainable params: 308,075\n",
      "Non-trainable params: 0\n",
      "_________________________________________________________________\n"
     ]
    }
   ],
   "source": [
    "#thiết kế mô hình deep learning\n",
    "from keras.models import Model, Sequential\n",
    "from keras.layers import *\n",
    "from keras.activations import *\n",
    "from keras.optimizers import Adam,RMSprop,SGD\n",
    "model1 = Sequential()\n",
    "model1.add(Conv1D(8, kernel_size=13, strides=1, padding='valid',\n",
    "                  input_shape=(feature_size[0],1)))\n",
    "model1.add(LeakyReLU(alpha=0.1))\n",
    "model1.add(MaxPooling1D(pool_size=3))\n",
    "model1.add(Dropout(0.3))\n",
    "\n",
    "model1.add(Conv1D(16, kernel_size=11, strides=1, padding='valid'))\n",
    "model1.add(LeakyReLU(alpha=0.1))\n",
    "model1.add(MaxPooling1D(pool_size=3))\n",
    "model1.add(Dropout(0.3))\n",
    "\n",
    "model1.add(Conv1D(32, kernel_size=9, strides=1, padding='valid'))\n",
    "model1.add(LeakyReLU(alpha=0.1))\n",
    "model1.add(MaxPooling1D(pool_size=3))\n",
    "model1.add(Dropout(0.3))\n",
    "\n",
    "model1.add(Conv1D(64, kernel_size=7, strides=1, padding='valid'))\n",
    "model1.add(LeakyReLU(alpha=0.1))\n",
    "model1.add(MaxPooling1D(pool_size=3))\n",
    "model1.add(Dropout(0.3))\n",
    "\n",
    "# model1.add(Conv1D(128, kernel_size=5, strides=1, padding='valid'))\n",
    "# model1.add(LeakyReLU(alpha=0.1))\n",
    "# model1.add(MaxPooling1D(pool_size=3))\n",
    "# model1.add(Dropout(0.3))\n",
    "           \n",
    "model1.add(Flatten())\n",
    "\n",
    "model1.add(Dense(64))\n",
    "model1.add(Dropout(0.1))\n",
    "\n",
    "model1.add(Dense(11))\n",
    "# model1.add(Dropout(0.1))\n",
    "\n",
    "model1.add(Activation('softmax'))\n",
    "# adam = Adam(lr=0.005, beta_1=0.9, beta_2=0.999, epsilon=1e-08, decay=0.0)\n",
    "model1.compile(loss='categorical_crossentropy',optimizer='adam',metrics=['accuracy'])\n",
    "model1.summary()\n",
    "\n",
    "# learning rate schedule\n",
    "def lr_schedule(epoch):\n",
    "    if epoch < 10:\n",
    "        return 0.005\n",
    "    elif epoch < 40:\n",
    "        return 0.002\n",
    "    elif epoch < 80:\n",
    "        return 0.001\n",
    "    else:\n",
    "        return 0.0005\n",
    "callbacks = [LearningRateScheduler(schedule=lr_schedule, verbose=1),\n",
    "#              TensorBoard(\"./\", histogram_freq=0, write_graph=True, write_images=False)\n",
    "#              ,\n",
    "#              ModelCheckpoint(\n",
    "#                  os.path.join(\"./\", \"cp_{epoch:02d}_loss-{loss:.4f}_val_loss-{val_loss:.4f}.h5\"),\n",
    "#                  monitor='val_loss', verbose=1, save_best_only=True)\n",
    "            ]"
   ]
  },
  {
   "cell_type": "code",
   "execution_count": 27,
   "metadata": {},
   "outputs": [
    {
     "name": "stdout",
     "output_type": "stream",
     "text": [
      "Model: \"sequential_12\"\n",
      "_________________________________________________________________\n",
      "Layer (type)                 Output Shape              Param #   \n",
      "=================================================================\n",
      "conv2d_25 (Conv2D)           (None, 52, 12, 16)        416       \n",
      "_________________________________________________________________\n",
      "leaky_re_lu_25 (LeakyReLU)   (None, 52, 12, 16)        0         \n",
      "_________________________________________________________________\n",
      "max_pooling2d_21 (MaxPooling (None, 26, 6, 16)         0         \n",
      "_________________________________________________________________\n",
      "conv2d_26 (Conv2D)           (None, 26, 6, 32)         12832     \n",
      "_________________________________________________________________\n",
      "leaky_re_lu_26 (LeakyReLU)   (None, 26, 6, 32)         0         \n",
      "_________________________________________________________________\n",
      "max_pooling2d_22 (MaxPooling (None, 13, 3, 32)         0         \n",
      "_________________________________________________________________\n",
      "flatten_12 (Flatten)         (None, 1248)              0         \n",
      "_________________________________________________________________\n",
      "dropout_23 (Dropout)         (None, 1248)              0         \n",
      "_________________________________________________________________\n",
      "dense_23 (Dense)             (None, 32)                39968     \n",
      "_________________________________________________________________\n",
      "dropout_24 (Dropout)         (None, 32)                0         \n",
      "_________________________________________________________________\n",
      "dense_24 (Dense)             (None, 11)                363       \n",
      "_________________________________________________________________\n",
      "activation_12 (Activation)   (None, 11)                0         \n",
      "=================================================================\n",
      "Total params: 53,579\n",
      "Trainable params: 53,579\n",
      "Non-trainable params: 0\n",
      "_________________________________________________________________\n"
     ]
    }
   ],
   "source": [
    "#thiết kế mô hình deep learning\n",
    "from keras.models import Model, Sequential\n",
    "from keras.layers import *\n",
    "from keras.activations import *\n",
    "from keras.optimizers import Adam,RMSprop,SGD\n",
    "model1 = Sequential()\n",
    "\n",
    "\n",
    "model1.add(Conv2D(16, kernel_size=(5, 5), strides= (1, 1), padding='same',data_format='channels_last',\n",
    "                  input_shape=(feature_size[0], feature_size[1],1)))\n",
    "model1.add(LeakyReLU(alpha=0.1))\n",
    "model1.add(MaxPooling2D(pool_size=(2, 2)))\n",
    "\n",
    "# model1.add(Conv2D(32, kernel_size=(5, 5), strides= (1, 1), padding='same'))\n",
    "# model1.add(LeakyReLU(alpha=0.1))\n",
    "model1.add(Conv2D(32, kernel_size=(5, 5), strides= (1, 1), padding='same'))\n",
    "model1.add(LeakyReLU(alpha=0.1))\n",
    "model1.add(MaxPooling2D(pool_size=(2, 2)))\n",
    "\n",
    "# model1.add(Conv2D(64, kernel_size=(3, 3), strides= (1, 1), padding='same'))\n",
    "# model1.add(LeakyReLU(alpha=0.1))\n",
    "# model1.add(Conv2D(32, kernel_size=(3, 3), strides= (1, 1), padding='same'))\n",
    "# model1.add(LeakyReLU(alpha=0.1))\n",
    "# model1.add(MaxPooling2D(pool_size=(2, 2)))\n",
    "\n",
    "model1.add(Flatten())\n",
    "model1.add(Dropout(0.3))\n",
    "\n",
    "model1.add(Dense(32))\n",
    "model1.add(Dropout(0.1))\n",
    "\n",
    "# model1.add(Dense(32))\n",
    "# model1.add(Dropout(0.1))\n",
    "\n",
    "# model1.add(Dense(32))\n",
    "# model1.add(Dropout(0.1))\n",
    "model1.add(Dense(11))\n",
    "model1.add(Activation('softmax'))\n",
    "adam = Adam(lr=0.005, beta_1=0.9, beta_2=0.999, epsilon=1e-08, decay=0.0)\n",
    "opt = SGD(lr=0.0005, momentum=0.9)\n",
    "model1.compile(loss='categorical_crossentropy',optimizer=adam,metrics=['accuracy'])\n",
    "model1.summary()\n",
    "# learning rate schedule\n",
    "def lr_schedule(epoch):\n",
    "    if epoch < 10:\n",
    "        return 0.005\n",
    "    elif epoch < 40:\n",
    "        return 0.002\n",
    "    elif epoch < 80:\n",
    "        return 0.001\n",
    "    else:\n",
    "        return 0.0005\n",
    "callbacks = [LearningRateScheduler(schedule=lr_schedule, verbose=1),\n",
    "#              TensorBoard(\"./\", histogram_freq=0, write_graph=True, write_images=False)\n",
    "#              ,\n",
    "#              ModelCheckpoint(\n",
    "#                  os.path.join(\"./\", \"cp_{epoch:02d}_loss-{loss:.4f}_val_loss-{val_loss:.4f}.h5\"),\n",
    "#                  monitor='val_loss', verbose=1, save_best_only=True)\n",
    "            ]\n"
   ]
  },
  {
   "cell_type": "code",
   "execution_count": null,
   "metadata": {},
   "outputs": [],
   "source": []
  },
  {
   "cell_type": "code",
   "execution_count": 19,
   "metadata": {},
   "outputs": [
    {
     "name": "stdout",
     "output_type": "stream",
     "text": [
      "WARNING:tensorflow:From c:\\python 3.7\\lib\\site-packages\\tensorflow_core\\python\\ops\\math_grad.py:1424: where (from tensorflow.python.ops.array_ops) is deprecated and will be removed in a future version.\n",
      "Instructions for updating:\n",
      "Use tf.where in 2.0, which has the same broadcast rule as np.where\n",
      "WARNING:tensorflow:From c:\\python 3.7\\lib\\site-packages\\keras\\backend\\tensorflow_backend.py:1033: The name tf.assign_add is deprecated. Please use tf.compat.v1.assign_add instead.\n",
      "\n",
      "WARNING:tensorflow:From c:\\python 3.7\\lib\\site-packages\\keras\\backend\\tensorflow_backend.py:1020: The name tf.assign is deprecated. Please use tf.compat.v1.assign instead.\n",
      "\n",
      "WARNING:tensorflow:From c:\\python 3.7\\lib\\site-packages\\keras\\backend\\tensorflow_backend.py:3005: The name tf.Session is deprecated. Please use tf.compat.v1.Session instead.\n",
      "\n",
      "Train on 3475 samples, validate on 1490 samples\n",
      "Epoch 1/25\n",
      "WARNING:tensorflow:From c:\\python 3.7\\lib\\site-packages\\keras\\backend\\tensorflow_backend.py:190: The name tf.get_default_session is deprecated. Please use tf.compat.v1.get_default_session instead.\n",
      "\n",
      "WARNING:tensorflow:From c:\\python 3.7\\lib\\site-packages\\keras\\backend\\tensorflow_backend.py:200: The name tf.ConfigProto is deprecated. Please use tf.compat.v1.ConfigProto instead.\n",
      "\n",
      "WARNING:tensorflow:From c:\\python 3.7\\lib\\site-packages\\keras\\backend\\tensorflow_backend.py:207: The name tf.global_variables is deprecated. Please use tf.compat.v1.global_variables instead.\n",
      "\n",
      "WARNING:tensorflow:From c:\\python 3.7\\lib\\site-packages\\keras\\backend\\tensorflow_backend.py:216: The name tf.is_variable_initialized is deprecated. Please use tf.compat.v1.is_variable_initialized instead.\n",
      "\n",
      "WARNING:tensorflow:From c:\\python 3.7\\lib\\site-packages\\keras\\backend\\tensorflow_backend.py:223: The name tf.variables_initializer is deprecated. Please use tf.compat.v1.variables_initializer instead.\n",
      "\n",
      "\n",
      "Epoch 00001: LearningRateScheduler setting learning rate to 0.005.\n"
     ]
    },
    {
     "ename": "ResourceExhaustedError",
     "evalue": "2 root error(s) found.\n  (0) Resource exhausted: OOM when allocating tensor with shape[3475,1,5988,8] and type float on /job:localhost/replica:0/task:0/device:GPU:0 by allocator GPU_0_bfc\n\t [[{{node conv1d_9/convolution-0-0-TransposeNCHWToNHWC-LayoutOptimizer}}]]\nHint: If you want to see a list of allocated tensors when OOM happens, add report_tensor_allocations_upon_oom to RunOptions for current allocation info.\n\n\t [[metrics_2/acc/Mean/_219]]\nHint: If you want to see a list of allocated tensors when OOM happens, add report_tensor_allocations_upon_oom to RunOptions for current allocation info.\n\n  (1) Resource exhausted: OOM when allocating tensor with shape[3475,1,5988,8] and type float on /job:localhost/replica:0/task:0/device:GPU:0 by allocator GPU_0_bfc\n\t [[{{node conv1d_9/convolution-0-0-TransposeNCHWToNHWC-LayoutOptimizer}}]]\nHint: If you want to see a list of allocated tensors when OOM happens, add report_tensor_allocations_upon_oom to RunOptions for current allocation info.\n\n0 successful operations.\n0 derived errors ignored.",
     "output_type": "error",
     "traceback": [
      "\u001b[1;31m---------------------------------------------------------------------------\u001b[0m",
      "\u001b[1;31mResourceExhaustedError\u001b[0m                    Traceback (most recent call last)",
      "\u001b[1;32m<ipython-input-19-0ee80478dd93>\u001b[0m in \u001b[0;36m<module>\u001b[1;34m\u001b[0m\n\u001b[0;32m      6\u001b[0m                     \u001b[0msteps_per_epoch\u001b[0m \u001b[1;33m=\u001b[0m \u001b[1;36m20\u001b[0m\u001b[1;33m,\u001b[0m\u001b[1;33m\u001b[0m\u001b[0m\n\u001b[0;32m      7\u001b[0m                     \u001b[0mepochs\u001b[0m\u001b[1;33m=\u001b[0m\u001b[1;36m25\u001b[0m\u001b[1;33m,\u001b[0m\u001b[1;33m\u001b[0m\u001b[0m\n\u001b[1;32m----> 8\u001b[1;33m                     batch_size=None)\n\u001b[0m",
      "\u001b[1;32mc:\\python 3.7\\lib\\site-packages\\keras\\engine\\training.py\u001b[0m in \u001b[0;36mfit\u001b[1;34m(self, x, y, batch_size, epochs, verbose, callbacks, validation_split, validation_data, shuffle, class_weight, sample_weight, initial_epoch, steps_per_epoch, validation_steps, validation_freq, max_queue_size, workers, use_multiprocessing, **kwargs)\u001b[0m\n\u001b[0;32m   1176\u001b[0m                                         \u001b[0msteps_per_epoch\u001b[0m\u001b[1;33m=\u001b[0m\u001b[0msteps_per_epoch\u001b[0m\u001b[1;33m,\u001b[0m\u001b[1;33m\u001b[0m\u001b[0m\n\u001b[0;32m   1177\u001b[0m                                         \u001b[0mvalidation_steps\u001b[0m\u001b[1;33m=\u001b[0m\u001b[0mvalidation_steps\u001b[0m\u001b[1;33m,\u001b[0m\u001b[1;33m\u001b[0m\u001b[0m\n\u001b[1;32m-> 1178\u001b[1;33m                                         validation_freq=validation_freq)\n\u001b[0m\u001b[0;32m   1179\u001b[0m \u001b[1;33m\u001b[0m\u001b[0m\n\u001b[0;32m   1180\u001b[0m     def evaluate(self,\n",
      "\u001b[1;32mc:\\python 3.7\\lib\\site-packages\\keras\\engine\\training_arrays.py\u001b[0m in \u001b[0;36mfit_loop\u001b[1;34m(model, fit_function, fit_inputs, out_labels, batch_size, epochs, verbose, callbacks, val_function, val_inputs, shuffle, callback_metrics, initial_epoch, steps_per_epoch, validation_steps, validation_freq)\u001b[0m\n\u001b[0;32m    158\u001b[0m                 \u001b[0mbatch_logs\u001b[0m \u001b[1;33m=\u001b[0m \u001b[1;33m{\u001b[0m\u001b[1;34m'batch'\u001b[0m\u001b[1;33m:\u001b[0m \u001b[0mstep_index\u001b[0m\u001b[1;33m,\u001b[0m \u001b[1;34m'size'\u001b[0m\u001b[1;33m:\u001b[0m \u001b[1;36m1\u001b[0m\u001b[1;33m}\u001b[0m\u001b[1;33m\u001b[0m\u001b[0m\n\u001b[0;32m    159\u001b[0m                 \u001b[0mcallbacks\u001b[0m\u001b[1;33m.\u001b[0m\u001b[0m_call_batch_hook\u001b[0m\u001b[1;33m(\u001b[0m\u001b[1;34m'train'\u001b[0m\u001b[1;33m,\u001b[0m \u001b[1;34m'begin'\u001b[0m\u001b[1;33m,\u001b[0m \u001b[0mstep_index\u001b[0m\u001b[1;33m,\u001b[0m \u001b[0mbatch_logs\u001b[0m\u001b[1;33m)\u001b[0m\u001b[1;33m\u001b[0m\u001b[0m\n\u001b[1;32m--> 160\u001b[1;33m                 \u001b[0mouts\u001b[0m \u001b[1;33m=\u001b[0m \u001b[0mfit_function\u001b[0m\u001b[1;33m(\u001b[0m\u001b[0mfit_inputs\u001b[0m\u001b[1;33m)\u001b[0m\u001b[1;33m\u001b[0m\u001b[0m\n\u001b[0m\u001b[0;32m    161\u001b[0m \u001b[1;33m\u001b[0m\u001b[0m\n\u001b[0;32m    162\u001b[0m                 \u001b[0mouts\u001b[0m \u001b[1;33m=\u001b[0m \u001b[0mto_list\u001b[0m\u001b[1;33m(\u001b[0m\u001b[0mouts\u001b[0m\u001b[1;33m)\u001b[0m\u001b[1;33m\u001b[0m\u001b[0m\n",
      "\u001b[1;32mc:\\python 3.7\\lib\\site-packages\\keras\\backend\\tensorflow_backend.py\u001b[0m in \u001b[0;36m__call__\u001b[1;34m(self, inputs)\u001b[0m\n\u001b[0;32m   2977\u001b[0m                     \u001b[1;32mreturn\u001b[0m \u001b[0mself\u001b[0m\u001b[1;33m.\u001b[0m\u001b[0m_legacy_call\u001b[0m\u001b[1;33m(\u001b[0m\u001b[0minputs\u001b[0m\u001b[1;33m)\u001b[0m\u001b[1;33m\u001b[0m\u001b[0m\n\u001b[0;32m   2978\u001b[0m \u001b[1;33m\u001b[0m\u001b[0m\n\u001b[1;32m-> 2979\u001b[1;33m             \u001b[1;32mreturn\u001b[0m \u001b[0mself\u001b[0m\u001b[1;33m.\u001b[0m\u001b[0m_call\u001b[0m\u001b[1;33m(\u001b[0m\u001b[0minputs\u001b[0m\u001b[1;33m)\u001b[0m\u001b[1;33m\u001b[0m\u001b[0m\n\u001b[0m\u001b[0;32m   2980\u001b[0m         \u001b[1;32melse\u001b[0m\u001b[1;33m:\u001b[0m\u001b[1;33m\u001b[0m\u001b[0m\n\u001b[0;32m   2981\u001b[0m             \u001b[1;32mif\u001b[0m \u001b[0mpy_any\u001b[0m\u001b[1;33m(\u001b[0m\u001b[0mis_tensor\u001b[0m\u001b[1;33m(\u001b[0m\u001b[0mx\u001b[0m\u001b[1;33m)\u001b[0m \u001b[1;32mfor\u001b[0m \u001b[0mx\u001b[0m \u001b[1;32min\u001b[0m \u001b[0minputs\u001b[0m\u001b[1;33m)\u001b[0m\u001b[1;33m:\u001b[0m\u001b[1;33m\u001b[0m\u001b[0m\n",
      "\u001b[1;32mc:\\python 3.7\\lib\\site-packages\\keras\\backend\\tensorflow_backend.py\u001b[0m in \u001b[0;36m_call\u001b[1;34m(self, inputs)\u001b[0m\n\u001b[0;32m   2935\u001b[0m             \u001b[0mfetched\u001b[0m \u001b[1;33m=\u001b[0m \u001b[0mself\u001b[0m\u001b[1;33m.\u001b[0m\u001b[0m_callable_fn\u001b[0m\u001b[1;33m(\u001b[0m\u001b[1;33m*\u001b[0m\u001b[0marray_vals\u001b[0m\u001b[1;33m,\u001b[0m \u001b[0mrun_metadata\u001b[0m\u001b[1;33m=\u001b[0m\u001b[0mself\u001b[0m\u001b[1;33m.\u001b[0m\u001b[0mrun_metadata\u001b[0m\u001b[1;33m)\u001b[0m\u001b[1;33m\u001b[0m\u001b[0m\n\u001b[0;32m   2936\u001b[0m         \u001b[1;32melse\u001b[0m\u001b[1;33m:\u001b[0m\u001b[1;33m\u001b[0m\u001b[0m\n\u001b[1;32m-> 2937\u001b[1;33m             \u001b[0mfetched\u001b[0m \u001b[1;33m=\u001b[0m \u001b[0mself\u001b[0m\u001b[1;33m.\u001b[0m\u001b[0m_callable_fn\u001b[0m\u001b[1;33m(\u001b[0m\u001b[1;33m*\u001b[0m\u001b[0marray_vals\u001b[0m\u001b[1;33m)\u001b[0m\u001b[1;33m\u001b[0m\u001b[0m\n\u001b[0m\u001b[0;32m   2938\u001b[0m         \u001b[1;32mreturn\u001b[0m \u001b[0mfetched\u001b[0m\u001b[1;33m[\u001b[0m\u001b[1;33m:\u001b[0m\u001b[0mlen\u001b[0m\u001b[1;33m(\u001b[0m\u001b[0mself\u001b[0m\u001b[1;33m.\u001b[0m\u001b[0moutputs\u001b[0m\u001b[1;33m)\u001b[0m\u001b[1;33m]\u001b[0m\u001b[1;33m\u001b[0m\u001b[0m\n\u001b[0;32m   2939\u001b[0m \u001b[1;33m\u001b[0m\u001b[0m\n",
      "\u001b[1;32mc:\\python 3.7\\lib\\site-packages\\tensorflow_core\\python\\client\\session.py\u001b[0m in \u001b[0;36m__call__\u001b[1;34m(self, *args, **kwargs)\u001b[0m\n\u001b[0;32m   1470\u001b[0m         ret = tf_session.TF_SessionRunCallable(self._session._session,\n\u001b[0;32m   1471\u001b[0m                                                \u001b[0mself\u001b[0m\u001b[1;33m.\u001b[0m\u001b[0m_handle\u001b[0m\u001b[1;33m,\u001b[0m \u001b[0margs\u001b[0m\u001b[1;33m,\u001b[0m\u001b[1;33m\u001b[0m\u001b[0m\n\u001b[1;32m-> 1472\u001b[1;33m                                                run_metadata_ptr)\n\u001b[0m\u001b[0;32m   1473\u001b[0m         \u001b[1;32mif\u001b[0m \u001b[0mrun_metadata\u001b[0m\u001b[1;33m:\u001b[0m\u001b[1;33m\u001b[0m\u001b[0m\n\u001b[0;32m   1474\u001b[0m           \u001b[0mproto_data\u001b[0m \u001b[1;33m=\u001b[0m \u001b[0mtf_session\u001b[0m\u001b[1;33m.\u001b[0m\u001b[0mTF_GetBuffer\u001b[0m\u001b[1;33m(\u001b[0m\u001b[0mrun_metadata_ptr\u001b[0m\u001b[1;33m)\u001b[0m\u001b[1;33m\u001b[0m\u001b[0m\n",
      "\u001b[1;31mResourceExhaustedError\u001b[0m: 2 root error(s) found.\n  (0) Resource exhausted: OOM when allocating tensor with shape[3475,1,5988,8] and type float on /job:localhost/replica:0/task:0/device:GPU:0 by allocator GPU_0_bfc\n\t [[{{node conv1d_9/convolution-0-0-TransposeNCHWToNHWC-LayoutOptimizer}}]]\nHint: If you want to see a list of allocated tensors when OOM happens, add report_tensor_allocations_upon_oom to RunOptions for current allocation info.\n\n\t [[metrics_2/acc/Mean/_219]]\nHint: If you want to see a list of allocated tensors when OOM happens, add report_tensor_allocations_upon_oom to RunOptions for current allocation info.\n\n  (1) Resource exhausted: OOM when allocating tensor with shape[3475,1,5988,8] and type float on /job:localhost/replica:0/task:0/device:GPU:0 by allocator GPU_0_bfc\n\t [[{{node conv1d_9/convolution-0-0-TransposeNCHWToNHWC-LayoutOptimizer}}]]\nHint: If you want to see a list of allocated tensors when OOM happens, add report_tensor_allocations_upon_oom to RunOptions for current allocation info.\n\n0 successful operations.\n0 derived errors ignored."
     ]
    }
   ],
   "source": [
    "#luyện mô hình \n",
    "classifier = model1.fit(x_tr,\n",
    "                    y_tr,validation_data=( x_val, y_val),\n",
    "                    callbacks=callbacks,\n",
    "                    validation_steps = 5,\n",
    "                    steps_per_epoch = 20,\n",
    "                    epochs=25,\n",
    "                    batch_size=None)"
   ]
  },
  {
   "cell_type": "code",
   "execution_count": 54,
   "metadata": {},
   "outputs": [
    {
     "name": "stdout",
     "output_type": "stream",
     "text": [
      "Train on 4468 samples, validate on 497 samples\n",
      "Epoch 1/5\n",
      "4468/4468 [==============================] - 1s 149us/step - loss: 0.3042 - acc: 0.9223 - val_loss: 0.3905 - val_acc: 0.9276\n",
      "Epoch 2/5\n",
      "4468/4468 [==============================] - 0s 35us/step - loss: 0.3022 - acc: 0.9197 - val_loss: 0.3889 - val_acc: 0.9276\n",
      "Epoch 3/5\n",
      "4468/4468 [==============================] - 0s 35us/step - loss: 0.2959 - acc: 0.9257 - val_loss: 0.3859 - val_acc: 0.9276\n",
      "Epoch 4/5\n",
      "4468/4468 [==============================] - 0s 34us/step - loss: 0.2975 - acc: 0.9259 - val_loss: 0.3935 - val_acc: 0.9296\n",
      "Epoch 5/5\n",
      "4468/4468 [==============================] - 0s 35us/step - loss: 0.2910 - acc: 0.9228 - val_loss: 0.4045 - val_acc: 0.9296\n"
     ]
    }
   ],
   "source": [
    "#luyện mô hình \n",
    "classifier = model1.fit(x_tr,\n",
    "                    y_tr,validation_data=( x_val, y_val),\n",
    "                    callbacks=callbacks,\n",
    "                    validation_steps = 5,\n",
    "                    steps_per_epoch = 20,\n",
    "                    epochs=150,\n",
    "                    batch_size=None)"
   ]
  },
  {
   "cell_type": "code",
   "execution_count": 29,
   "metadata": {},
   "outputs": [
    {
     "name": "stdout",
     "output_type": "stream",
     "text": [
      "id: 81  prediction: 5  value: 0.2565638\n",
      "truth: 0\n",
      "id: 96  prediction: 7  value: 0.8533482\n",
      "truth: 0\n",
      "id: 159  prediction: 2  value: 0.7047071\n",
      "truth: 0\n",
      "id: 189  prediction: 2  value: 0.990704\n",
      "truth: 1\n",
      "id: 215  prediction: 7  value: 0.46284044\n",
      "truth: 1\n",
      "id: 243  prediction: 10  value: 0.9880684\n",
      "truth: 1\n",
      "id: 269  prediction: 10  value: 0.9993699\n",
      "truth: 1\n",
      "id: 271  prediction: 10  value: 0.9185716\n",
      "truth: 1\n",
      "id: 357  prediction: 5  value: 0.98147446\n",
      "truth: 1\n",
      "id: 509  prediction: 3  value: 0.5198695\n",
      "truth: 2\n",
      "id: 566  prediction: 10  value: 0.9804715\n",
      "truth: 2\n",
      "id: 591  prediction: 10  value: 0.9901833\n",
      "truth: 2\n",
      "id: 592  prediction: 10  value: 0.99996126\n",
      "truth: 2\n",
      "id: 593  prediction: 10  value: 1.0\n",
      "truth: 2\n",
      "id: 594  prediction: 10  value: 1.0\n",
      "truth: 2\n",
      "id: 761  prediction: 10  value: 1.0\n",
      "truth: 3\n",
      "id: 776  prediction: 10  value: 1.0\n",
      "truth: 3\n"
     ]
    }
   ],
   "source": [
    "#kiểm tra mô hình sau khi luyện\n",
    "for idn in range(0,800):\n",
    "    output = model1.predict(all_feature)[idn]\n",
    "    indexMax = np.argmax(output, axis=0) \n",
    "    if  int(all_label[idn]) != indexMax:\n",
    "        print ( \"id:\",idn,\" prediction:\",indexMax,\" value:\", output[indexMax])\n",
    "        print (\"truth:\",all_label[idn])\n",
    "        \n",
    "#     ipd.Audio(all_wave[testId], rate=16000)"
   ]
  },
  {
   "cell_type": "code",
   "execution_count": 38,
   "metadata": {},
   "outputs": [
    {
     "data": {
      "text/html": [
       "\n",
       "                <audio  controls=\"controls\" >\n",
       "                    <source src=\"data:audio/wav;base64,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\" type=\"audio/wav\" />\n",
       "                    Your browser does not support the audio element.\n",
       "                </audio>\n",
       "              "
      ],
      "text/plain": [
       "<IPython.lib.display.Audio object>"
      ]
     },
     "execution_count": 38,
     "metadata": {},
     "output_type": "execute_result"
    }
   ],
   "source": [
    "ipd.Audio(all_wave[80], rate=16000)"
   ]
  },
  {
   "cell_type": "code",
   "execution_count": null,
   "metadata": {},
   "outputs": [],
   "source": [
    "all_label[idn]"
   ]
  },
  {
   "cell_type": "code",
   "execution_count": null,
   "metadata": {},
   "outputs": [],
   "source": [
    "all_label[40]"
   ]
  },
  {
   "cell_type": "code",
   "execution_count": 16,
   "metadata": {},
   "outputs": [
    {
     "name": "stdout",
     "output_type": "stream",
     "text": [
      "Saved model to disk\n"
     ]
    }
   ],
   "source": [
    "# lưu kiến trúc của model đã luyện vào file json\n",
    "model_json = model1.to_json()\n",
    "with open(\"model.json\", \"w\") as json_file:\n",
    "    json_file.write(model_json)\n",
    "# lưu các trọng số của model\n",
    "model1.save_weights(\"model.h5\")\n",
    "print(\"Saved model to disk\")"
   ]
  },
  {
   "cell_type": "code",
   "execution_count": 93,
   "metadata": {},
   "outputs": [
    {
     "name": "stdout",
     "output_type": "stream",
     "text": [
      "* init\n",
      "* recording\n",
      "ID: 0  prediction: 10 confident: 0.9128904  time: 2.072875\n",
      "ID: 1  prediction: 10 confident: 0.96170497  time: 3.5160625\n",
      "ID: 2  prediction: 7 confident: 0.95377135  time: 4.68825\n",
      "ID: 3  prediction: 3 confident: 0.93718827  time: 6.46125\n",
      "ID: 4  prediction: 10 confident: 0.90602446  time: 7.19025\n",
      "ID: 5  prediction: 4 confident: 0.99794513  time: 9.5256875\n",
      "ID: 6  prediction: 10 confident: 0.8033655  time: 10.567375\n",
      "ID: 7  prediction: 10 confident: 0.87282985  time: 14.7904375\n",
      "ID: 8  prediction: 7 confident: 0.96272224  time: 15.1679375\n",
      "ID: 9  prediction: 4 confident: 0.9824702  time: 18.2704375\n",
      "ID: 10  prediction: 10 confident: 0.83502096  time: 19.0089375\n",
      "ID: 11  prediction: 10 confident: 0.92343414  time: 21.42\n",
      "ID: 12  prediction: 3 confident: 0.9954478  time: 22.6264375\n",
      "ID: 13  prediction: 10 confident: 0.9305228  time: 23.475625\n",
      "ID: 14  prediction: 10 confident: 0.8031464  time: 24.490125\n",
      "ID: 15  prediction: 8 confident: 0.83166265  time: 25.5585625\n",
      "ID: 16  prediction: 8 confident: 0.9912737  time: 26.0924375\n",
      "ID: 17  prediction: 8 confident: 0.880512  time: 27.25625\n",
      "ID: 18  prediction: 8 confident: 0.98625714  time: 28.7775625\n",
      "ID: 19  prediction: 10 confident: 0.8685116  time: 29.446375\n",
      "ID: 20  prediction: 10 confident: 0.85069424  time: 30.8108125\n",
      "ID: 21  prediction: 10 confident: 0.84051317  time: 31.753125\n",
      "ID: 22  prediction: 10 confident: 1.0  time: 33.5858125\n",
      "ID: 23  prediction: 10 confident: 0.8184258  time: 37.5106875\n",
      "ID: 24  prediction: 10 confident: 0.99623555  time: 38.074625\n",
      "ID: 25  prediction: 1 confident: 0.99994206  time: 39.255625\n",
      "ID: 26  prediction: 10 confident: 0.8715167  time: 40.5003125\n",
      "ID: 27  prediction: 5 confident: 1.0  time: 42.2395625\n",
      "ID: 28  prediction: 8 confident: 0.87594134  time: 43.2235625\n",
      "ID: 29  prediction: 10 confident: 1.0  time: 44.6738125\n",
      "ID: 30  prediction: 8 confident: 0.8011999  time: 46.4564375\n",
      "ID: 31  prediction: 10 confident: 0.99806064  time: 47.7196875\n",
      "ID: 32  prediction: 10 confident: 0.834973  time: 50.019125\n",
      "ID: 33  prediction: 10 confident: 0.832898  time: 51.4534375\n",
      "ID: 34  prediction: 10 confident: 0.9767691  time: 53.4891875\n",
      "ID: 35  prediction: 10 confident: 0.9377412  time: 56.2131875\n",
      "ID: 36  prediction: 10 confident: 0.90459853  time: 57.6839375\n",
      "ID: 37  prediction: 10 confident: 0.88249767  time: 58.3954375\n",
      "ID: 38  prediction: 10 confident: 0.83397204  time: 59.431875\n",
      "ID: 39  prediction: 10 confident: 0.8596276  time: 60.597875\n",
      "ID: 40  prediction: 10 confident: 0.8929107  time: 61.2984375\n",
      "ID: 41  prediction: 10 confident: 0.86113423  time: 62.3994375\n",
      "ID: 42  prediction: 10 confident: 0.99159825  time: 64.454625\n",
      "ID: 43  prediction: 10 confident: 0.9134935  time: 65.6536875\n",
      "ID: 44  prediction: 10 confident: 0.99774253  time: 66.3506875\n",
      "ID: 45  prediction: 10 confident: 0.9985531  time: 67.4250625\n",
      "ID: 46  prediction: 10 confident: 0.9620662  time: 68.045625\n",
      "ID: 47  prediction: 10 confident: 0.9949418  time: 70.46975\n",
      "ID: 48  prediction: 10 confident: 0.87972844  time: 71.127125\n",
      "ID: 49  prediction: 10 confident: 0.8902233  time: 72.0718125\n",
      "ID: 50  prediction: 10 confident: 0.93777686  time: 73.4005625\n",
      "ID: 51  prediction: 10 confident: 0.86831933  time: 74.5598125\n",
      "ID: 52  prediction: 10 confident: 0.9112659  time: 75.2606875\n",
      "ID: 53  prediction: 10 confident: 0.96448827  time: 76.3285\n",
      "ID: 54  prediction: 10 confident: 0.8507227  time: 77.51525\n",
      "ID: 55  prediction: 10 confident: 0.99883085  time: 78.7925\n",
      "ID: 56  prediction: 10 confident: 0.9813162  time: 80.652375\n",
      "ID: 57  prediction: 10 confident: 0.98546416  time: 81.1646875\n",
      "ID: 58  prediction: 10 confident: 0.88238525  time: 82.0000625\n",
      "ID: 59  prediction: 10 confident: 0.836852  time: 83.220875\n",
      "ID: 60  prediction: 10 confident: 0.9020231  time: 84.1998125\n",
      "ID: 61  prediction: 10 confident: 0.8425268  time: 85.514625\n",
      "ID: 62  prediction: 10 confident: 0.88633907  time: 86.4708125\n",
      "ID: 63  prediction: 10 confident: 0.9017491  time: 87.652125\n",
      "ID: 64  prediction: 10 confident: 0.87839395  time: 89.541375\n"
     ]
    },
    {
     "ename": "KeyboardInterrupt",
     "evalue": "",
     "output_type": "error",
     "traceback": [
      "\u001b[1;31m---------------------------------------------------------------------------\u001b[0m",
      "\u001b[1;31mKeyboardInterrupt\u001b[0m                         Traceback (most recent call last)",
      "\u001b[1;32m<ipython-input-93-6d205251b67d>\u001b[0m in \u001b[0;36m<module>\u001b[1;34m\u001b[0m\n\u001b[0;32m     41\u001b[0m \u001b[0mi\u001b[0m\u001b[1;33m=\u001b[0m\u001b[1;36m0\u001b[0m\u001b[1;33m\u001b[0m\u001b[0m\n\u001b[0;32m     42\u001b[0m \u001b[1;32mwhile\u001b[0m \u001b[1;36m1\u001b[0m\u001b[1;33m:\u001b[0m\u001b[1;33m\u001b[0m\u001b[0m\n\u001b[1;32m---> 43\u001b[1;33m     \u001b[0mdata\u001b[0m \u001b[1;33m=\u001b[0m \u001b[0mstream\u001b[0m\u001b[1;33m.\u001b[0m\u001b[0mread\u001b[0m\u001b[1;33m(\u001b[0m\u001b[0mCHUNK\u001b[0m\u001b[1;33m)\u001b[0m\u001b[1;33m\u001b[0m\u001b[0m\n\u001b[0m\u001b[0;32m     44\u001b[0m     \u001b[1;31m#convert to float array\u001b[0m\u001b[1;33m\u001b[0m\u001b[1;33m\u001b[0m\u001b[0m\n\u001b[0;32m     45\u001b[0m     \u001b[1;32mfor\u001b[0m \u001b[0mj\u001b[0m \u001b[1;32min\u001b[0m \u001b[0mrange\u001b[0m\u001b[1;33m(\u001b[0m\u001b[1;36m0\u001b[0m\u001b[1;33m,\u001b[0m \u001b[0mint\u001b[0m\u001b[1;33m(\u001b[0m\u001b[0mlen\u001b[0m\u001b[1;33m(\u001b[0m\u001b[0mdata\u001b[0m\u001b[1;33m)\u001b[0m\u001b[1;33m/\u001b[0m\u001b[1;36m4\u001b[0m\u001b[1;33m)\u001b[0m\u001b[1;33m)\u001b[0m\u001b[1;33m:\u001b[0m\u001b[1;33m\u001b[0m\u001b[0m\n",
      "\u001b[1;32mc:\\python 3.7\\lib\\site-packages\\pyaudio.py\u001b[0m in \u001b[0;36mread\u001b[1;34m(self, num_frames, exception_on_overflow)\u001b[0m\n\u001b[0;32m    606\u001b[0m                           paCanNotReadFromAnOutputOnlyStream)\n\u001b[0;32m    607\u001b[0m \u001b[1;33m\u001b[0m\u001b[0m\n\u001b[1;32m--> 608\u001b[1;33m         \u001b[1;32mreturn\u001b[0m \u001b[0mpa\u001b[0m\u001b[1;33m.\u001b[0m\u001b[0mread_stream\u001b[0m\u001b[1;33m(\u001b[0m\u001b[0mself\u001b[0m\u001b[1;33m.\u001b[0m\u001b[0m_stream\u001b[0m\u001b[1;33m,\u001b[0m \u001b[0mnum_frames\u001b[0m\u001b[1;33m,\u001b[0m \u001b[0mexception_on_overflow\u001b[0m\u001b[1;33m)\u001b[0m\u001b[1;33m\u001b[0m\u001b[0m\n\u001b[0m\u001b[0;32m    609\u001b[0m \u001b[1;33m\u001b[0m\u001b[0m\n\u001b[0;32m    610\u001b[0m     \u001b[1;32mdef\u001b[0m \u001b[0mget_read_available\u001b[0m\u001b[1;33m(\u001b[0m\u001b[0mself\u001b[0m\u001b[1;33m)\u001b[0m\u001b[1;33m:\u001b[0m\u001b[1;33m\u001b[0m\u001b[0m\n",
      "\u001b[1;31mKeyboardInterrupt\u001b[0m: "
     ]
    }
   ],
   "source": [
    "print(\"* init\")\n",
    "import os\n",
    "import IPython.display as ipd\n",
    "# from scipy.io import wavfile #để đọc file wav \n",
    "# import warnings\n",
    "import tensorflow as tf\n",
    "# MLP for Pima Indians Dataset Serialize to JSON and HDF5\n",
    "from keras.models import Sequential\n",
    "from keras.layers import Dense\n",
    "from keras.models import model_from_json\n",
    "import socket\n",
    "import pyaudio\n",
    "import wave\n",
    "import struct\n",
    "CHUNK = 16000 # read each 1000 miliseconds\n",
    "FORMAT = pyaudio.paFloat32\n",
    "CHANNELS = 1\n",
    "RATE = 16000\n",
    "RECORD_SECONDS = 20\n",
    "WORD = 6000\n",
    "WORD_HALF = int(WORD/2)\n",
    "WORD_QUAD = int(WORD/2)\n",
    "# circular_buf_size = 50\n",
    "p = pyaudio.PyAudio()\n",
    "model =model1\n",
    "stream = p.open(format=FORMAT,\n",
    "                channels=CHANNELS,\n",
    "                rate=RATE,\n",
    "                input=True,\n",
    "                frames_per_buffer=CHUNK)\n",
    "frames = []\n",
    "features = []\n",
    "waves = []\n",
    "words = []\n",
    "circular_index = 0\n",
    "os.system( 'cls' )\n",
    "print(\"* recording\")\n",
    "inputDataNew = np.ndarray(shape=(CHUNK), dtype=float)\n",
    "inputDataOld = np.ndarray(shape=(WORD_QUAD), dtype=float)\n",
    "last_word_time = 0\n",
    "i=0\n",
    "while 1:\n",
    "    data = stream.read(CHUNK) \n",
    "    #convert to float array\n",
    "    for j in range(0, int(len(data)/4)):\n",
    "        value = struct.unpack('f', data[j*4:j*4+4])\n",
    "        inputDataNew[j] = value[0]\n",
    "    #megre end of old and new\n",
    "    inputData = np.concatenate((inputDataOld,inputDataNew))\n",
    "    inputDataOld = inputDataNew[CHUNK-WORD_QUAD:].copy()\n",
    "    i=i+1\n",
    "    if i<2:\n",
    "        continue\n",
    "    else:\n",
    "        mean = np.mean(inputData)\n",
    "        energy = abs(inputData)\n",
    "        value = 0\n",
    "        max_val = 0\n",
    "        max_idn = 0\n",
    "        for idn in range(0,len(energy)):\n",
    "            value += (energy[idn]-value)/300\n",
    "            if (idn>WORD_HALF) & (idn<(len(inputData)-WORD_HALF )):\n",
    "                if max_val<value:\n",
    "                    max_val = value\n",
    "                    max_idn = idn\n",
    "        if max_val>(mean*6):\n",
    "            global_time = i*CHUNK+max_idn-WORD_QUAD\n",
    "            if (global_time-last_word_time)< WORD:\n",
    "                continue\n",
    "            last_word_time = global_time\n",
    "            data = inputData[max_idn-WORD_HALF:max_idn+WORD_HALF]\n",
    "            feature_vector_1 = librosa.feature.chroma_stft(y=data, sr=16000)\n",
    "            feature_vector_2 = librosa.feature.melspectrogram(y=data, sr=16000)[:40]\n",
    "            feature_vector = np.concatenate((feature_vector_1*10,feature_vector_2))\n",
    "            modelInput = np.array(feature_vector).reshape(1,feature_vector.shape[0],feature_vector.shape[1],1)\n",
    "            output = model.predict(modelInput)\n",
    "            indexMax = np.argmax(output[0], axis=0) \n",
    "            confident = output[0][indexMax]\n",
    "            if (confident>0.8):\n",
    "#             os.system( 'cls' )\n",
    "                print (\"ID:\",len(waves),\" prediction:\",indexMax,\"confident:\",output[0][indexMax],\" time:\",global_time/RATE)\n",
    "                waves.append(inputData)\n",
    "                words.append(data)\n",
    "                features.append(feature_vector)\n",
    "                byte_message = (indexMax)\n",
    "                opened_socket = socket.socket(socket.AF_INET, socket.SOCK_DGRAM)\n",
    "                opened_socket.sendto(byte_message, (\"127.0.0.1\", 5005))\n",
    "#             plt.figure(figsize=(10, 4))\n",
    "#             librosa.display.specshow(chroma, y_axis='chroma', x_axis='time')\n",
    "#             plt.colorbar()\n",
    "#             plt.title('Chromagram')\n",
    "#             plt.tight_layout()\n",
    "#             plt.show()\n",
    "print(\"* done recording\")    "
   ]
  },
  {
   "cell_type": "code",
   "execution_count": 21,
   "metadata": {},
   "outputs": [
    {
     "data": {
      "text/html": [
       "\n",
       "                <audio  controls=\"controls\" >\n",
       "                    <source src=\"data:audio/wav;base64,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\" type=\"audio/wav\" />\n",
       "                    Your browser does not support the audio element.\n",
       "                </audio>\n",
       "              "
      ],
      "text/plain": [
       "<IPython.lib.display.Audio object>"
      ]
     },
     "execution_count": 21,
     "metadata": {},
     "output_type": "execute_result"
    }
   ],
   "source": [
    "ipd.Audio(words[5], rate=16000)"
   ]
  },
  {
   "cell_type": "code",
   "execution_count": null,
   "metadata": {},
   "outputs": [],
   "source": []
  }
 ],
 "metadata": {
  "kernelspec": {
   "display_name": "Python 3",
   "language": "python",
   "name": "python3"
  },
  "language_info": {
   "codemirror_mode": {
    "name": "ipython",
    "version": 3
   },
   "file_extension": ".py",
   "mimetype": "text/x-python",
   "name": "python",
   "nbconvert_exporter": "python",
   "pygments_lexer": "ipython3",
   "version": "3.7.0"
  }
 },
 "nbformat": 4,
 "nbformat_minor": 4
}
