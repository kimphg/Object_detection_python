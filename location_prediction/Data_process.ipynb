{
 "cells": [
  {
   "cell_type": "code",
   "execution_count": 3,
   "metadata": {
    "ExecuteTime": {
     "end_time": "2019-03-24T09:33:06.458158Z",
     "start_time": "2019-03-24T09:33:06.186042Z"
    }
   },
   "outputs": [],
   "source": "import numpy as np\nimport cv2\nfrom glob import glob as gl\nX = []\nY = []\ndef Collect(folder, label, confident):\n    files = gl(folder+\"/*.jpg\")\n    for file in files:\n        img = cv2.imread(file, 1)\n        X.append(img)\n        Y.append([label, confident])\nCollect(\"Images/Left\", 0, 1)\nCollect(\"Images/Right\", 1, 1)\n# Collect(\"Images/Other\", 0.5, 0)\nX = np.array(X)\nY = np.array(Y)\nnp.save(\"x.npy\",X)\nnp.save(\"y.npy\",Y)"
  },
  {
   "cell_type": "code",
   "execution_count": null,
   "metadata": {},
   "outputs": [],
   "source": ""
  }
 ],
 "metadata": {
  "kernelspec": {
   "display_name": "Python 2",
   "language": "python",
   "name": "python2"
  },
  "language_info": {
   "codemirror_mode": {
    "name": "ipython",
    "version": 2
   },
   "file_extension": ".py",
   "mimetype": "text/x-python",
   "name": "python",
   "nbconvert_exporter": "python",
   "pygments_lexer": "ipython2",
   "version": "2.7.17"
  },
  "toc": {
   "base_numbering": 1,
   "nav_menu": {},
   "number_sections": true,
   "sideBar": true,
   "skip_h1_title": false,
   "title_cell": "Table of Contents",
   "title_sidebar": "Contents",
   "toc_cell": false,
   "toc_position": {},
   "toc_section_display": true,
   "toc_window_display": false
  }
 },
 "nbformat": 4,
 "nbformat_minor": 2
}
